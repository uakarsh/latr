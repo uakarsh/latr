{
 "cells": [
  {
   "cell_type": "code",
   "execution_count": 1,
   "id": "61193a38",
   "metadata": {
    "execution": {
     "iopub.execute_input": "2023-05-03T10:08:43.585419Z",
     "iopub.status.busy": "2023-05-03T10:08:43.584921Z",
     "iopub.status.idle": "2023-05-03T10:08:46.985849Z",
     "shell.execute_reply": "2023-05-03T10:08:46.984586Z"
    },
    "papermill": {
     "duration": 3.414097,
     "end_time": "2023-05-03T10:08:46.988877",
     "exception": false,
     "start_time": "2023-05-03T10:08:43.574780",
     "status": "completed"
    },
    "tags": []
   },
   "outputs": [
    {
     "name": "stdout",
     "output_type": "stream",
     "text": [
      "Cloning into 'latr'...\r\n",
      "remote: Enumerating objects: 331, done.\u001b[K\r\n",
      "remote: Counting objects: 100% (167/167), done.\u001b[K\r\n",
      "remote: Compressing objects: 100% (88/88), done.\u001b[K\r\n",
      "remote: Total 331 (delta 107), reused 116 (delta 77), pack-reused 164\u001b[K\r\n",
      "Receiving objects: 100% (331/331), 4.80 MiB | 2.92 MiB/s, done.\r\n",
      "Resolving deltas: 100% (136/136), done.\r\n"
     ]
    }
   ],
   "source": [
    "!git clone https://github.com/uakarsh/latr.git"
   ]
  },
  {
   "cell_type": "code",
   "execution_count": 2,
   "id": "04ce0842",
   "metadata": {
    "execution": {
     "iopub.execute_input": "2023-05-03T10:08:47.007586Z",
     "iopub.status.busy": "2023-05-03T10:08:47.007249Z",
     "iopub.status.idle": "2023-05-03T10:08:57.394431Z",
     "shell.execute_reply": "2023-05-03T10:08:57.393016Z"
    },
    "papermill": {
     "duration": 10.399346,
     "end_time": "2023-05-03T10:08:57.397128",
     "exception": false,
     "start_time": "2023-05-03T10:08:46.997782",
     "status": "completed"
    },
    "tags": []
   },
   "outputs": [],
   "source": [
    "!pip -qqq install -r ./latr/requirements.txt"
   ]
  },
  {
   "cell_type": "code",
   "execution_count": 3,
   "id": "c0d15f20",
   "metadata": {
    "execution": {
     "iopub.execute_input": "2023-05-03T10:08:57.415243Z",
     "iopub.status.busy": "2023-05-03T10:08:57.414909Z",
     "iopub.status.idle": "2023-05-03T10:09:00.048338Z",
     "shell.execute_reply": "2023-05-03T10:09:00.046936Z"
    },
    "papermill": {
     "duration": 2.645405,
     "end_time": "2023-05-03T10:09:00.051004",
     "exception": false,
     "start_time": "2023-05-03T10:08:57.405599",
     "status": "completed"
    },
    "tags": []
   },
   "outputs": [],
   "source": [
    "!sudo apt install -qqq tesseract-ocr"
   ]
  },
  {
   "cell_type": "code",
   "execution_count": 4,
   "id": "cfe53142",
   "metadata": {
    "execution": {
     "iopub.execute_input": "2023-05-03T10:09:00.070940Z",
     "iopub.status.busy": "2023-05-03T10:09:00.069153Z",
     "iopub.status.idle": "2023-05-03T10:09:06.620283Z",
     "shell.execute_reply": "2023-05-03T10:09:06.619152Z"
    },
    "papermill": {
     "duration": 6.564108,
     "end_time": "2023-05-03T10:09:06.623618",
     "exception": false,
     "start_time": "2023-05-03T10:09:00.059510",
     "status": "completed"
    },
    "tags": []
   },
   "outputs": [],
   "source": [
    "## Default Library import\n",
    "\n",
    "import os\n",
    "os.environ['TOKENIZERS_PARALLELISM'] = 'false'\n",
    "\n",
    "import json\n",
    "from tqdm.auto import tqdm\n",
    "import pandas as pd\n",
    "\n",
    "from transformers import AutoTokenizer, AutoConfig, AutoProcessor\n",
    "from transformers import T5ForConditionalGeneration, ViTModel\n",
    "import torch.nn as nn\n",
    "import torch\n",
    "\n",
    "from torch.utils.data import DataLoader\n",
    "\n",
    "## Setting up the device for GPU usage\n",
    "from torch import cuda\n",
    "device = 'cuda' if cuda.is_available() else 'cpu'\n",
    "import pytorch_lightning as pl"
   ]
  },
  {
   "cell_type": "code",
   "execution_count": 5,
   "id": "3b7a4afd",
   "metadata": {
    "execution": {
     "iopub.execute_input": "2023-05-03T10:09:06.650742Z",
     "iopub.status.busy": "2023-05-03T10:09:06.650256Z",
     "iopub.status.idle": "2023-05-03T10:09:06.664974Z",
     "shell.execute_reply": "2023-05-03T10:09:06.664098Z"
    },
    "papermill": {
     "duration": 0.030841,
     "end_time": "2023-05-03T10:09:06.667632",
     "exception": false,
     "start_time": "2023-05-03T10:09:06.636791",
     "status": "completed"
    },
    "tags": []
   },
   "outputs": [],
   "source": [
    "import sys\n",
    "sys.path.append(\"./latr/src/new_latr/\")\n",
    "\n",
    "from dataset import TextVQA\n",
    "from utils import collate, draw_bounding_box_on_pil_image"
   ]
  },
  {
   "cell_type": "code",
   "execution_count": 6,
   "id": "018f8f1e",
   "metadata": {
    "execution": {
     "iopub.execute_input": "2023-05-03T10:09:06.693893Z",
     "iopub.status.busy": "2023-05-03T10:09:06.693526Z",
     "iopub.status.idle": "2023-05-03T10:09:06.699132Z",
     "shell.execute_reply": "2023-05-03T10:09:06.698252Z"
    },
    "papermill": {
     "duration": 0.023085,
     "end_time": "2023-05-03T10:09:06.703453",
     "exception": false,
     "start_time": "2023-05-03T10:09:06.680368",
     "status": "completed"
    },
    "tags": []
   },
   "outputs": [],
   "source": [
    "## Setting the hyperparameters as well as primary configurations\n",
    "\n",
    "PAD_TOKEN_BOX = [0, 0, 0, 0]\n",
    "QUESTION_BOX = [0, 0, 0, 0]\n",
    "EOS_BOX = [0, 0, 0, 0]\n",
    "\n",
    "batch_size = 2\n",
    "target_size = (224,224)\n",
    "t5_model = \"t5-base\""
   ]
  },
  {
   "cell_type": "code",
   "execution_count": 7,
   "id": "1234e8f4",
   "metadata": {
    "execution": {
     "iopub.execute_input": "2023-05-03T10:09:06.729524Z",
     "iopub.status.busy": "2023-05-03T10:09:06.729133Z",
     "iopub.status.idle": "2023-05-03T10:09:15.316130Z",
     "shell.execute_reply": "2023-05-03T10:09:15.315021Z"
    },
    "papermill": {
     "duration": 8.602991,
     "end_time": "2023-05-03T10:09:15.318851",
     "exception": false,
     "start_time": "2023-05-03T10:09:06.715860",
     "status": "completed"
    },
    "tags": []
   },
   "outputs": [
    {
     "data": {
      "application/vnd.jupyter.widget-view+json": {
       "model_id": "4b466acdbe2d42d684de110d750d5867",
       "version_major": 2,
       "version_minor": 0
      },
      "text/plain": [
       "Downloading (…)lve/main/config.json:   0%|          | 0.00/1.21k [00:00<?, ?B/s]"
      ]
     },
     "metadata": {},
     "output_type": "display_data"
    },
    {
     "data": {
      "application/vnd.jupyter.widget-view+json": {
       "model_id": "248befcbbe754946a634b356bf02b9b9",
       "version_major": 2,
       "version_minor": 0
      },
      "text/plain": [
       "Downloading (…)ve/main/spiece.model:   0%|          | 0.00/792k [00:00<?, ?B/s]"
      ]
     },
     "metadata": {},
     "output_type": "display_data"
    },
    {
     "data": {
      "application/vnd.jupyter.widget-view+json": {
       "model_id": "0d23698b835948698577c1f9439fbc4d",
       "version_major": 2,
       "version_minor": 0
      },
      "text/plain": [
       "Downloading (…)/main/tokenizer.json:   0%|          | 0.00/1.39M [00:00<?, ?B/s]"
      ]
     },
     "metadata": {},
     "output_type": "display_data"
    },
    {
     "name": "stderr",
     "output_type": "stream",
     "text": [
      "/opt/conda/lib/python3.7/site-packages/transformers/models/t5/tokenization_t5_fast.py:165: FutureWarning: This tokenizer was incorrectly instantiated with a model max length of 512 which will be corrected in Transformers v5.\n",
      "For now, this behavior is kept to avoid breaking backwards compatibility when padding/encoding with `truncation is True`.\n",
      "- Be aware that you SHOULD NOT rely on t5-base automatically truncating your input to 512 when padding/encoding.\n",
      "- If you want to encode/pad to sequences longer than 512 you can either instantiate this tokenizer with `model_max_length` or pass `max_length` when encoding/padding.\n",
      "- To avoid this warning, please instantiate this tokenizer with `model_max_length` set to your preferred value.\n",
      "  FutureWarning,\n"
     ]
    },
    {
     "data": {
      "application/vnd.jupyter.widget-view+json": {
       "model_id": "1a7e184e03d14bed9b2db338a6550996",
       "version_major": 2,
       "version_minor": 0
      },
      "text/plain": [
       "Downloading (…)rocessor_config.json:   0%|          | 0.00/160 [00:00<?, ?B/s]"
      ]
     },
     "metadata": {},
     "output_type": "display_data"
    },
    {
     "data": {
      "application/vnd.jupyter.widget-view+json": {
       "model_id": "232c3d41395b457488f13c56cf923c4b",
       "version_major": 2,
       "version_minor": 0
      },
      "text/plain": [
       "Downloading (…)lve/main/config.json:   0%|          | 0.00/502 [00:00<?, ?B/s]"
      ]
     },
     "metadata": {},
     "output_type": "display_data"
    }
   ],
   "source": [
    "model_name = 't5-base'\n",
    "model_config = AutoConfig.from_pretrained(model_name)\n",
    "\n",
    "max_2d_position_embeddings = 1024\n",
    "vit_model = \"google/vit-base-patch16-224-in21k\"\n",
    "model_config.update({\"max_2d_position_embeddings\" : max_2d_position_embeddings,\n",
    "                    \"vit_model\" : vit_model})\n",
    "\n",
    "tokenizer = AutoTokenizer.from_pretrained(model_name, use_fast = True)\n",
    "processor = AutoProcessor.from_pretrained(vit_model)"
   ]
  },
  {
   "cell_type": "code",
   "execution_count": 8,
   "id": "f6b75078",
   "metadata": {
    "execution": {
     "iopub.execute_input": "2023-05-03T10:09:15.340151Z",
     "iopub.status.busy": "2023-05-03T10:09:15.339794Z",
     "iopub.status.idle": "2023-05-03T10:09:15.345314Z",
     "shell.execute_reply": "2023-05-03T10:09:15.344290Z"
    },
    "papermill": {
     "duration": 0.017992,
     "end_time": "2023-05-03T10:09:15.347443",
     "exception": false,
     "start_time": "2023-05-03T10:09:15.329451",
     "status": "completed"
    },
    "tags": []
   },
   "outputs": [],
   "source": [
    "base_path = '/kaggle/input/new-textvqa-dataset-mine'\n",
    "ocr_json_path = os.path.join(base_path, 'TextVQA_Rosetta_OCR_v0.2_train.json')\n",
    "train_json_path = os.path.join(base_path, 'TextVQA_0.5.1_train.json')\n",
    "\n",
    "val_ocr_json_path = os.path.join(base_path, 'TextVQA_Rosetta_OCR_v0.2_val.json')\n",
    "val_json_path = os.path.join(base_path, 'TextVQA_0.5.1_val.json')"
   ]
  },
  {
   "cell_type": "code",
   "execution_count": 9,
   "id": "deaf8928",
   "metadata": {
    "execution": {
     "iopub.execute_input": "2023-05-03T10:09:15.366797Z",
     "iopub.status.busy": "2023-05-03T10:09:15.365993Z",
     "iopub.status.idle": "2023-05-03T10:09:18.963044Z",
     "shell.execute_reply": "2023-05-03T10:09:18.961907Z"
    },
    "papermill": {
     "duration": 3.609658,
     "end_time": "2023-05-03T10:09:18.965954",
     "exception": false,
     "start_time": "2023-05-03T10:09:15.356296",
     "status": "completed"
    },
    "tags": []
   },
   "outputs": [],
   "source": [
    "with open(ocr_json_path) as f:\n",
    "    train_ocr_json = json.load(f)['data']\n",
    "with open(train_json_path) as f:\n",
    "    train_json = json.load(f)['data']\n",
    "    \n",
    "## Validation\n",
    "with open(val_ocr_json_path) as f:\n",
    "    val_ocr_json = json.load(f)['data']\n",
    "with open(val_json_path) as f:\n",
    "    val_json = json.load(f)['data']"
   ]
  },
  {
   "cell_type": "code",
   "execution_count": 10,
   "id": "1553300d",
   "metadata": {
    "execution": {
     "iopub.execute_input": "2023-05-03T10:09:18.985455Z",
     "iopub.status.busy": "2023-05-03T10:09:18.985110Z",
     "iopub.status.idle": "2023-05-03T10:09:19.109329Z",
     "shell.execute_reply": "2023-05-03T10:09:19.108287Z"
    },
    "papermill": {
     "duration": 0.136714,
     "end_time": "2023-05-03T10:09:19.111892",
     "exception": false,
     "start_time": "2023-05-03T10:09:18.975178",
     "status": "completed"
    },
    "tags": []
   },
   "outputs": [],
   "source": [
    "## Useful for the key-value extraction\n",
    "\n",
    "train_json_df = pd.DataFrame(train_json)\n",
    "train_ocr_json_df = pd.DataFrame(train_ocr_json)\n",
    "\n",
    "val_json_df = pd.DataFrame(val_json)\n",
    "val_ocr_json_df = pd.DataFrame(val_ocr_json)"
   ]
  },
  {
   "cell_type": "code",
   "execution_count": 11,
   "id": "5881a9d2",
   "metadata": {
    "execution": {
     "iopub.execute_input": "2023-05-03T10:09:19.131684Z",
     "iopub.status.busy": "2023-05-03T10:09:19.131076Z",
     "iopub.status.idle": "2023-05-03T10:09:19.191569Z",
     "shell.execute_reply": "2023-05-03T10:09:19.190584Z"
    },
    "papermill": {
     "duration": 0.072747,
     "end_time": "2023-05-03T10:09:19.193908",
     "exception": false,
     "start_time": "2023-05-03T10:09:19.121161",
     "status": "completed"
    },
    "tags": []
   },
   "outputs": [],
   "source": [
    "train_json_df.drop(columns = ['flickr_original_url', 'flickr_300k_url','image_classes', 'question_tokens',# 'path_exists'\n",
    "                              ], axis = 1, inplace = True)\n",
    "\n",
    "val_json_df.drop(columns = ['flickr_original_url', 'flickr_300k_url','image_classes', 'question_tokens',# 'path_exists'\n",
    "                              ], axis = 1, inplace = True)\n",
    "## Deleting the json\n",
    "\n",
    "del train_json\n",
    "del train_ocr_json\n",
    "del val_json\n",
    "del val_ocr_json"
   ]
  },
  {
   "cell_type": "code",
   "execution_count": 12,
   "id": "f8fe1c08",
   "metadata": {
    "execution": {
     "iopub.execute_input": "2023-05-03T10:09:19.213120Z",
     "iopub.status.busy": "2023-05-03T10:09:19.212823Z",
     "iopub.status.idle": "2023-05-03T10:09:19.217295Z",
     "shell.execute_reply": "2023-05-03T10:09:19.216281Z"
    },
    "papermill": {
     "duration": 0.016349,
     "end_time": "2023-05-03T10:09:19.219398",
     "exception": false,
     "start_time": "2023-05-03T10:09:19.203049",
     "status": "completed"
    },
    "tags": []
   },
   "outputs": [],
   "source": [
    "base_img_path = os.path.join(base_path, 'train_val_images', 'train_images')"
   ]
  },
  {
   "cell_type": "code",
   "execution_count": 13,
   "id": "2b871ce7",
   "metadata": {
    "execution": {
     "iopub.execute_input": "2023-05-03T10:09:19.238443Z",
     "iopub.status.busy": "2023-05-03T10:09:19.237638Z",
     "iopub.status.idle": "2023-05-03T10:09:19.242328Z",
     "shell.execute_reply": "2023-05-03T10:09:19.241417Z"
    },
    "papermill": {
     "duration": 0.01611,
     "end_time": "2023-05-03T10:09:19.244199",
     "exception": false,
     "start_time": "2023-05-03T10:09:19.228089",
     "status": "completed"
    },
    "tags": []
   },
   "outputs": [],
   "source": [
    "max_seq_len = -1"
   ]
  },
  {
   "cell_type": "code",
   "execution_count": 14,
   "id": "a9003727",
   "metadata": {
    "execution": {
     "iopub.execute_input": "2023-05-03T10:09:19.263512Z",
     "iopub.status.busy": "2023-05-03T10:09:19.262730Z",
     "iopub.status.idle": "2023-05-03T10:09:19.268977Z",
     "shell.execute_reply": "2023-05-03T10:09:19.268073Z"
    },
    "papermill": {
     "duration": 0.01793,
     "end_time": "2023-05-03T10:09:19.271017",
     "exception": false,
     "start_time": "2023-05-03T10:09:19.253087",
     "status": "completed"
    },
    "tags": []
   },
   "outputs": [],
   "source": [
    "train_ds = TextVQA(base_img_path = base_img_path,\n",
    "                   json_df = train_json_df,\n",
    "                   ocr_json_df = train_ocr_json_df,\n",
    "                   tokenizer = tokenizer,\n",
    "                   transform = processor, \n",
    "                   max_seq_length = max_seq_len, \n",
    "                   )\n",
    "\n",
    "val_ds = TextVQA(base_img_path = base_img_path,\n",
    "                   json_df = val_json_df,\n",
    "                   ocr_json_df = val_ocr_json_df,\n",
    "                   tokenizer = tokenizer,\n",
    "                   transform = processor, \n",
    "                   max_seq_length = max_seq_len, \n",
    "                   )"
   ]
  },
  {
   "cell_type": "code",
   "execution_count": 15,
   "id": "9633c69c",
   "metadata": {
    "execution": {
     "iopub.execute_input": "2023-05-03T10:09:19.289946Z",
     "iopub.status.busy": "2023-05-03T10:09:19.289683Z",
     "iopub.status.idle": "2023-05-03T10:09:19.293637Z",
     "shell.execute_reply": "2023-05-03T10:09:19.292649Z"
    },
    "papermill": {
     "duration": 0.015555,
     "end_time": "2023-05-03T10:09:19.295649",
     "exception": false,
     "start_time": "2023-05-03T10:09:19.280094",
     "status": "completed"
    },
    "tags": []
   },
   "outputs": [],
   "source": [
    "# encoding = train_ds[500]\n",
    "# print(tokenizer.decode(encoding['input_ids'], skip_special_tokens = True))\n",
    "# print(tokenizer.decode(encoding['labels'], skip_special_tokens = True))"
   ]
  },
  {
   "cell_type": "code",
   "execution_count": 16,
   "id": "631ffee4",
   "metadata": {
    "execution": {
     "iopub.execute_input": "2023-05-03T10:09:19.314660Z",
     "iopub.status.busy": "2023-05-03T10:09:19.313882Z",
     "iopub.status.idle": "2023-05-03T10:09:19.318315Z",
     "shell.execute_reply": "2023-05-03T10:09:19.317423Z"
    },
    "papermill": {
     "duration": 0.015847,
     "end_time": "2023-05-03T10:09:19.320226",
     "exception": false,
     "start_time": "2023-05-03T10:09:19.304379",
     "status": "completed"
    },
    "tags": []
   },
   "outputs": [],
   "source": [
    "# from torchvision.transforms import ToPILImage\n",
    "# pil_image = ToPILImage()(encoding['pixel_values']).resize((1000, 1000))\n",
    "# visualized_pil_image = draw_bounding_box_on_pil_image(pil_image, encoding['bbox'], outline = 'red')"
   ]
  },
  {
   "cell_type": "code",
   "execution_count": 17,
   "id": "53fcadd0",
   "metadata": {
    "execution": {
     "iopub.execute_input": "2023-05-03T10:09:19.339684Z",
     "iopub.status.busy": "2023-05-03T10:09:19.338906Z",
     "iopub.status.idle": "2023-05-03T10:09:19.343389Z",
     "shell.execute_reply": "2023-05-03T10:09:19.342496Z"
    },
    "papermill": {
     "duration": 0.015918,
     "end_time": "2023-05-03T10:09:19.345278",
     "exception": false,
     "start_time": "2023-05-03T10:09:19.329360",
     "status": "completed"
    },
    "tags": []
   },
   "outputs": [],
   "source": [
    "# first_sample = train_ds[22]\n",
    "# second_sample = train_ds[25]\n",
    "\n",
    "# batch_encoding = collate([first_sample, second_sample])\n",
    "\n",
    "# for key in batch_encoding:\n",
    "#     print(f\"Key : {key}, has shape {batch_encoding[key].shape}\")"
   ]
  },
  {
   "cell_type": "code",
   "execution_count": 18,
   "id": "20fc2ea6",
   "metadata": {
    "execution": {
     "iopub.execute_input": "2023-05-03T10:09:19.364409Z",
     "iopub.status.busy": "2023-05-03T10:09:19.363646Z",
     "iopub.status.idle": "2023-05-03T10:09:19.370262Z",
     "shell.execute_reply": "2023-05-03T10:09:19.369393Z"
    },
    "papermill": {
     "duration": 0.018224,
     "end_time": "2023-05-03T10:09:19.372331",
     "exception": false,
     "start_time": "2023-05-03T10:09:19.354107",
     "status": "completed"
    },
    "tags": []
   },
   "outputs": [],
   "source": [
    "class DataModule(pl.LightningDataModule):\n",
    "\n",
    "  def __init__(self, train_dataset, val_dataset,  batch_size = 1):\n",
    "\n",
    "    super(DataModule, self).__init__()\n",
    "    self.train_dataset = train_dataset\n",
    "    self.val_dataset = val_dataset\n",
    "    self.batch_size = batch_size\n",
    "\n",
    "  def train_dataloader(self):\n",
    "    return DataLoader(self.train_dataset, batch_size = self.batch_size, \n",
    "                      collate_fn = collate, shuffle = True)\n",
    "  \n",
    "  def val_dataloader(self):\n",
    "    return DataLoader(self.val_dataset, batch_size = self.batch_size,\n",
    "                                  collate_fn = collate, shuffle = False)\n"
   ]
  },
  {
   "cell_type": "code",
   "execution_count": 19,
   "id": "b8ba8631",
   "metadata": {
    "execution": {
     "iopub.execute_input": "2023-05-03T10:09:19.391351Z",
     "iopub.status.busy": "2023-05-03T10:09:19.390542Z",
     "iopub.status.idle": "2023-05-03T10:09:19.395324Z",
     "shell.execute_reply": "2023-05-03T10:09:19.394424Z"
    },
    "papermill": {
     "duration": 0.016156,
     "end_time": "2023-05-03T10:09:19.397183",
     "exception": false,
     "start_time": "2023-05-03T10:09:19.381027",
     "status": "completed"
    },
    "tags": []
   },
   "outputs": [],
   "source": [
    "dl = DataModule(train_ds, val_ds)"
   ]
  },
  {
   "cell_type": "code",
   "execution_count": 20,
   "id": "2d04135e",
   "metadata": {
    "execution": {
     "iopub.execute_input": "2023-05-03T10:09:19.417099Z",
     "iopub.status.busy": "2023-05-03T10:09:19.415589Z",
     "iopub.status.idle": "2023-05-03T10:09:19.542987Z",
     "shell.execute_reply": "2023-05-03T10:09:19.541945Z"
    },
    "papermill": {
     "duration": 0.139302,
     "end_time": "2023-05-03T10:09:19.545355",
     "exception": false,
     "start_time": "2023-05-03T10:09:19.406053",
     "status": "completed"
    },
    "tags": []
   },
   "outputs": [],
   "source": [
    "sample = next(iter(dl.train_dataloader()))"
   ]
  },
  {
   "cell_type": "code",
   "execution_count": 21,
   "id": "9e556c23",
   "metadata": {
    "execution": {
     "iopub.execute_input": "2023-05-03T10:09:19.565422Z",
     "iopub.status.busy": "2023-05-03T10:09:19.564562Z",
     "iopub.status.idle": "2023-05-03T10:09:23.767173Z",
     "shell.execute_reply": "2023-05-03T10:09:23.765894Z"
    },
    "papermill": {
     "duration": 4.214866,
     "end_time": "2023-05-03T10:09:23.769499",
     "exception": false,
     "start_time": "2023-05-03T10:09:19.554633",
     "status": "completed"
    },
    "tags": []
   },
   "outputs": [
    {
     "name": "stdout",
     "output_type": "stream",
     "text": [
      "Key : img, has shape : torch.Size([1, 3, 224, 224])\n",
      "Key : bbox, has shape : torch.Size([1, 17, 6])\n",
      "Key : input_ids, has shape : torch.Size([1, 17])\n",
      "Key : labels, has shape : torch.Size([1, 4])\n",
      "Key : attention_mask, has shape : torch.Size([1, 17])\n"
     ]
    }
   ],
   "source": [
    "for key in sample:\n",
    "    print(f\"Key : {key}, has shape : {sample[key].shape}\")\n",
    "    sample[key] = sample[key].to(device)"
   ]
  },
  {
   "cell_type": "code",
   "execution_count": 22,
   "id": "5101451e",
   "metadata": {
    "execution": {
     "iopub.execute_input": "2023-05-03T10:09:23.789793Z",
     "iopub.status.busy": "2023-05-03T10:09:23.789467Z",
     "iopub.status.idle": "2023-05-03T10:09:23.820196Z",
     "shell.execute_reply": "2023-05-03T10:09:23.819263Z"
    },
    "papermill": {
     "duration": 0.043264,
     "end_time": "2023-05-03T10:09:23.822190",
     "exception": false,
     "start_time": "2023-05-03T10:09:23.778926",
     "status": "completed"
    },
    "tags": []
   },
   "outputs": [],
   "source": [
    "from transformers.modeling_outputs import (\n",
    "    BaseModelOutput,\n",
    "    Seq2SeqLMOutput,\n",
    "    Seq2SeqModelOutput,\n",
    ")\n",
    "import torch.nn as nn\n",
    "from torch.nn import CrossEntropyLoss\n",
    "\n",
    "class SpatialModule(nn.Module):\n",
    "    def __init__(self, config):\n",
    "        super().__init__()\n",
    "        self.top_left_x = nn.Embedding(config.max_2d_position_embeddings, config.d_model)\n",
    "        self.bottom_right_x = nn.Embedding(config.max_2d_position_embeddings, config.d_model)\n",
    "        self.top_left_y = nn.Embedding(config.max_2d_position_embeddings, config.d_model)\n",
    "        self.bottom_right_y = nn.Embedding(config.max_2d_position_embeddings, config.d_model)\n",
    "        self.width_emb = nn.Embedding(config.max_2d_position_embeddings, config.d_model)\n",
    "        self.height_emb = nn.Embedding(config.max_2d_position_embeddings, config.d_model)\n",
    "        \n",
    "    def forward(self, coordinates):\n",
    "        \n",
    "        top_left_x_feat =     self.top_left_x(coordinates[:,:, 0])\n",
    "        top_left_y_feat =     self.top_left_y(coordinates[:,:, 1])\n",
    "        bottom_right_x_feat = self.bottom_right_x(coordinates[:,:, 2])\n",
    "        bottom_right_y_feat = self.bottom_right_y(coordinates[:,:, 3])\n",
    "        width_feat =          self.width_emb(coordinates[:,:, 4])\n",
    "        height_feat =         self.height_emb(coordinates[:,:, 5])\n",
    "        \n",
    "        layout_feature = top_left_x_feat + top_left_y_feat + bottom_right_x_feat + bottom_right_y_feat + width_feat + height_feat\n",
    "        return layout_feature\n",
    "\n",
    "class LaTrForConditionalGeneration(T5ForConditionalGeneration):\n",
    "    def __init__(self, config):\n",
    "        super().__init__(config = config)\n",
    "        self.spatial_feat_extractor = SpatialModule(config)\n",
    "        self.img_feat_extractor = ViTModel.from_pretrained(config.vit_model)\n",
    "#         self.t5_model = T5ForConditionalGeneration.from_pretrained(config._name_or_path)\n",
    "        \n",
    "    def get_input_embeddings(self):\n",
    "        return self.shared\n",
    "\n",
    "    def set_input_embeddings(self, new_embeddings):\n",
    "        self.shared = new_embeddings\n",
    "        self.encoder.set_input_embeddings(new_embeddings)\n",
    "        self.decoder.set_input_embeddings(new_embeddings)\n",
    "\n",
    "    def set_output_embeddings(self, new_embeddings):\n",
    "        self.lm_head = new_embeddings\n",
    "\n",
    "    def get_output_embeddings(self):\n",
    "        return self.lm_head\n",
    "\n",
    "    def get_encoder(self):\n",
    "        return self.encoder\n",
    "\n",
    "    def get_decoder(self):\n",
    "        return self.decoder\n",
    "    \n",
    "    def forward(\n",
    "        self,\n",
    "        input_ids = None,\n",
    "        bbox = None,\n",
    "        attention_mask = None,\n",
    "        decoder_input_ids = None,\n",
    "        decoder_attention_mask = None,\n",
    "        encoder_outputs = None,\n",
    "        past_key_values = None,\n",
    "        pixel_values = None,\n",
    "        visual_bbox = None,\n",
    "        labels = None,\n",
    "        head_mask = None,\n",
    "        inputs_embeds = None,\n",
    "        decoder_inputs_embeds = None,\n",
    "        decoder_head_mask = None,\n",
    "        cross_attn_head_mask = None,\n",
    "        use_cache=True,\n",
    "        output_attentions = None,\n",
    "        output_hidden_states = None,\n",
    "        return_dict = None,\n",
    "        **kwargs,) :\n",
    "\n",
    "        use_cache = use_cache if use_cache is not None else self.config.use_cache\n",
    "        return_dict = return_dict if return_dict is not None else self.config.use_return_dict\n",
    "\n",
    "        if decoder_input_ids is None and labels is not None:\n",
    "            decoder_input_ids = self._shift_right(labels)\n",
    "\n",
    "        # Encode if needed (training, first prediction pass)\n",
    "        if encoder_outputs is None:\n",
    "            inputs_embeds, attention_mask = self.calculate_embedding(pixel_values, bbox, input_ids, attention_mask)\n",
    "            encoder_outputs = self.encoder(\n",
    "                attention_mask=attention_mask,\n",
    "                inputs_embeds=inputs_embeds,\n",
    "                head_mask=head_mask,\n",
    "                output_attentions=output_attentions,\n",
    "                output_hidden_states=output_hidden_states,\n",
    "                return_dict=return_dict,\n",
    "            )\n",
    "        hidden_states = encoder_outputs[0]\n",
    "\n",
    "        # Decode\n",
    "        decoder_outputs = self.decoder(\n",
    "            input_ids=decoder_input_ids,\n",
    "            attention_mask=decoder_attention_mask,\n",
    "            inputs_embeds=decoder_inputs_embeds,\n",
    "            past_key_values=past_key_values,\n",
    "            encoder_hidden_states=hidden_states,\n",
    "            encoder_attention_mask=attention_mask,\n",
    "            head_mask=decoder_head_mask,\n",
    "            cross_attn_head_mask=cross_attn_head_mask,\n",
    "            use_cache=use_cache,\n",
    "            output_attentions=output_attentions,\n",
    "            output_hidden_states=output_hidden_states,\n",
    "            return_dict=return_dict,\n",
    "        )\n",
    "\n",
    "        sequence_output = decoder_outputs[0]\n",
    "\n",
    "        if self.config.tie_word_embeddings:\n",
    "            # Rescale output before projecting on vocab\n",
    "            # See https://github.com/tensorflow/mesh/blob/fa19d69eafc9a482aff0b59ddd96b025c0cb207d/mesh_tensorflow/transformer/transformer.py#L586\n",
    "            sequence_output = sequence_output * (self.config.d_model**-0.5)\n",
    "\n",
    "        lm_logits = self.lm_head(sequence_output)\n",
    "\n",
    "        loss = None\n",
    "        if labels is not None:\n",
    "            loss_fct = CrossEntropyLoss(ignore_index=-100)\n",
    "            loss = loss_fct(lm_logits.view(-1, lm_logits.size(-1)), labels.view(-1))\n",
    "\n",
    "        if not return_dict:\n",
    "            output = (lm_logits,) + decoder_outputs[2:] + (encoder_outputs[0],) + encoder_outputs[2:]\n",
    "            return ((loss,) + output) if loss is not None else output\n",
    "\n",
    "        return Seq2SeqLMOutput(\n",
    "            loss=loss,\n",
    "            logits=lm_logits,\n",
    "            past_key_values=decoder_outputs.past_key_values,\n",
    "            decoder_hidden_states=decoder_outputs.hidden_states,\n",
    "            decoder_attentions=decoder_outputs.attentions,\n",
    "            cross_attentions=decoder_outputs.cross_attentions,\n",
    "            encoder_last_hidden_state=encoder_outputs.last_hidden_state,\n",
    "            encoder_hidden_states=encoder_outputs.hidden_states,\n",
    "            encoder_attentions=encoder_outputs.attentions,\n",
    "        )\n",
    "\n",
    "    def prepare_inputs_for_generation(\n",
    "        self,\n",
    "        input_ids,\n",
    "        past_key_values=None,\n",
    "        attention_mask=None,\n",
    "        head_mask=None,\n",
    "        decoder_head_mask=None,\n",
    "        cross_attn_head_mask=None,\n",
    "        use_cache=None,\n",
    "        encoder_outputs=None,\n",
    "        **kwargs,\n",
    "    ):\n",
    "        # cut decoder_input_ids if past is used\n",
    "        if past_key_values is not None:\n",
    "            input_ids = input_ids[:, -1:]\n",
    "\n",
    "        return {\n",
    "            \"decoder_input_ids\": input_ids,\n",
    "            \"past_key_values\": past_key_values,\n",
    "            \"encoder_outputs\": encoder_outputs,\n",
    "            \"attention_mask\": attention_mask,\n",
    "            \"head_mask\": head_mask,\n",
    "            \"decoder_head_mask\": decoder_head_mask,\n",
    "            \"cross_attn_head_mask\": cross_attn_head_mask,\n",
    "            \"use_cache\": use_cache,\n",
    "            \"bbox\": kwargs.get(\"bbox\", None),\n",
    "            \"pixel_values\": kwargs.get(\"pixel_values\", None),\n",
    "            \"visual_bbox\": kwargs.get(\"visual_bbox\", None),\n",
    "        }\n",
    "\n",
    "    def _reorder_cache(self, past_key_values, beam_idx):\n",
    "        # if decoder past is not included in output\n",
    "        # speedy decoding is disabled and no need to reorder\n",
    "        if past_key_values is None:\n",
    "            logger.warning(\"You might want to consider setting `use_cache=True` to speed up decoding\")\n",
    "            return past_key_values\n",
    "\n",
    "        reordered_decoder_past = ()\n",
    "        for layer_past_states in past_key_values:\n",
    "            # get the correct batch idx from layer past batch dim\n",
    "            # batch dim of `past` is at 2nd position\n",
    "            reordered_layer_past_states = ()\n",
    "            for layer_past_state in layer_past_states:\n",
    "                # need to set correct `past` for each of the four key / value states\n",
    "                reordered_layer_past_states = reordered_layer_past_states + (\n",
    "                    layer_past_state.index_select(0, beam_idx.to(layer_past_state.device)),\n",
    "                )\n",
    "\n",
    "            assert reordered_layer_past_states[0].shape == layer_past_states[0].shape\n",
    "            assert len(reordered_layer_past_states) == len(layer_past_states)\n",
    "\n",
    "            reordered_decoder_past = reordered_decoder_past + (reordered_layer_past_states,)\n",
    "        return reordered_decoder_past\n",
    "    \n",
    "    def calculate_embedding(self, img, bbox, input_ids, attention_mask):\n",
    "        img_feat = self.img_feat_extractor(img).last_hidden_state\n",
    "        spatial_feat = self.spatial_feat_extractor(bbox)\n",
    "        language_feat = self.shared(input_ids)\n",
    "        \n",
    "        layout_feat = spatial_feat + language_feat\n",
    "        multi_modal_feat = torch.cat([img_feat, layout_feat], axis = 1)\n",
    "        input_attention_mask = torch.cat([torch.ones(img_feat.shape[:2]).to(img_feat.device), attention_mask], axis = 1)\n",
    "        return multi_modal_feat, input_attention_mask"
   ]
  },
  {
   "cell_type": "code",
   "execution_count": 23,
   "id": "dc92b981",
   "metadata": {
    "execution": {
     "iopub.execute_input": "2023-05-03T10:09:23.841468Z",
     "iopub.status.busy": "2023-05-03T10:09:23.841152Z",
     "iopub.status.idle": "2023-05-03T10:09:30.566919Z",
     "shell.execute_reply": "2023-05-03T10:09:30.565826Z"
    },
    "papermill": {
     "duration": 6.7382,
     "end_time": "2023-05-03T10:09:30.569593",
     "exception": false,
     "start_time": "2023-05-03T10:09:23.831393",
     "status": "completed"
    },
    "tags": []
   },
   "outputs": [
    {
     "data": {
      "application/vnd.jupyter.widget-view+json": {
       "model_id": "4d9106171827412f8f86a0067e0cca41",
       "version_major": 2,
       "version_minor": 0
      },
      "text/plain": [
       "Downloading pytorch_model.bin:   0%|          | 0.00/346M [00:00<?, ?B/s]"
      ]
     },
     "metadata": {},
     "output_type": "display_data"
    }
   ],
   "source": [
    "latr_model = LaTrForConditionalGeneration(model_config).to(device)"
   ]
  },
  {
   "cell_type": "code",
   "execution_count": 24,
   "id": "72587aa0",
   "metadata": {
    "execution": {
     "iopub.execute_input": "2023-05-03T10:09:30.589681Z",
     "iopub.status.busy": "2023-05-03T10:09:30.589078Z",
     "iopub.status.idle": "2023-05-03T10:09:34.075376Z",
     "shell.execute_reply": "2023-05-03T10:09:34.074299Z"
    },
    "papermill": {
     "duration": 3.499259,
     "end_time": "2023-05-03T10:09:34.078259",
     "exception": false,
     "start_time": "2023-05-03T10:09:30.579000",
     "status": "completed"
    },
    "tags": []
   },
   "outputs": [],
   "source": [
    "output = latr_model(input_ids = sample['input_ids'],\n",
    "                   bbox = sample['bbox'], pixel_values = sample['img'], labels = sample['labels'],\n",
    "                   attention_mask = sample['attention_mask'])"
   ]
  },
  {
   "cell_type": "code",
   "execution_count": 25,
   "id": "93a1890d",
   "metadata": {
    "execution": {
     "iopub.execute_input": "2023-05-03T10:09:34.099470Z",
     "iopub.status.busy": "2023-05-03T10:09:34.099106Z",
     "iopub.status.idle": "2023-05-03T10:09:35.528047Z",
     "shell.execute_reply": "2023-05-03T10:09:35.526933Z"
    },
    "papermill": {
     "duration": 1.441499,
     "end_time": "2023-05-03T10:09:35.530384",
     "exception": false,
     "start_time": "2023-05-03T10:09:34.088885",
     "status": "completed"
    },
    "tags": []
   },
   "outputs": [
    {
     "name": "stderr",
     "output_type": "stream",
     "text": [
      "/opt/conda/lib/python3.7/site-packages/transformers/generation/utils.py:1292: UserWarning: Using `max_length`'s default (20) to control the generation length. This behaviour is deprecated and will be removed from the config in v5 of Transformers -- we recommend using `max_new_tokens` to control the maximum length of the generation.\n",
      "  UserWarning,\n"
     ]
    },
    {
     "data": {
      "text/plain": [
       "''"
      ]
     },
     "execution_count": 25,
     "metadata": {},
     "output_type": "execute_result"
    }
   ],
   "source": [
    "tokenizer.decode(latr_model.generate(input_ids = sample['input_ids'],\n",
    "                   bbox = sample['bbox'], pixel_values = sample['img'], labels = sample['labels'],\n",
    "                   attention_mask = sample['attention_mask'])[0], skip_special_tokens = True)"
   ]
  },
  {
   "cell_type": "code",
   "execution_count": 26,
   "id": "4a365eec",
   "metadata": {
    "execution": {
     "iopub.execute_input": "2023-05-03T10:09:35.550381Z",
     "iopub.status.busy": "2023-05-03T10:09:35.550045Z",
     "iopub.status.idle": "2023-05-03T10:09:35.556976Z",
     "shell.execute_reply": "2023-05-03T10:09:35.555972Z"
    },
    "papermill": {
     "duration": 0.019255,
     "end_time": "2023-05-03T10:09:35.559091",
     "exception": false,
     "start_time": "2023-05-03T10:09:35.539836",
     "status": "completed"
    },
    "tags": []
   },
   "outputs": [
    {
     "data": {
      "text/plain": [
       "'question: what color are the letters on her hat? context: EC'"
      ]
     },
     "execution_count": 26,
     "metadata": {},
     "output_type": "execute_result"
    }
   ],
   "source": [
    "tokenizer.decode(sample['input_ids'][0], skip_special_tokens = True)"
   ]
  },
  {
   "cell_type": "code",
   "execution_count": 27,
   "id": "8436c92e",
   "metadata": {
    "execution": {
     "iopub.execute_input": "2023-05-03T10:09:35.579478Z",
     "iopub.status.busy": "2023-05-03T10:09:35.578616Z",
     "iopub.status.idle": "2023-05-03T10:09:35.583387Z",
     "shell.execute_reply": "2023-05-03T10:09:35.582466Z"
    },
    "papermill": {
     "duration": 0.017089,
     "end_time": "2023-05-03T10:09:35.585429",
     "exception": false,
     "start_time": "2023-05-03T10:09:35.568340",
     "status": "completed"
    },
    "tags": []
   },
   "outputs": [],
   "source": [
    "# !git clone https://github.com/yashkant/sam-textvqa.git"
   ]
  },
  {
   "cell_type": "code",
   "execution_count": 28,
   "id": "f0711faa",
   "metadata": {
    "execution": {
     "iopub.execute_input": "2023-05-03T10:09:35.606402Z",
     "iopub.status.busy": "2023-05-03T10:09:35.605575Z",
     "iopub.status.idle": "2023-05-03T10:09:35.609821Z",
     "shell.execute_reply": "2023-05-03T10:09:35.608795Z"
    },
    "papermill": {
     "duration": 0.016972,
     "end_time": "2023-05-03T10:09:35.611878",
     "exception": false,
     "start_time": "2023-05-03T10:09:35.594906",
     "status": "completed"
    },
    "tags": []
   },
   "outputs": [],
   "source": [
    "# !pip install -r ./sam-textvqa/requirements.txt"
   ]
  },
  {
   "cell_type": "code",
   "execution_count": 29,
   "id": "d889e347",
   "metadata": {
    "execution": {
     "iopub.execute_input": "2023-05-03T10:09:35.632433Z",
     "iopub.status.busy": "2023-05-03T10:09:35.631787Z",
     "iopub.status.idle": "2023-05-03T10:09:35.661597Z",
     "shell.execute_reply": "2023-05-03T10:09:35.660627Z"
    },
    "papermill": {
     "duration": 0.04292,
     "end_time": "2023-05-03T10:09:35.663978",
     "exception": false,
     "start_time": "2023-05-03T10:09:35.621058",
     "status": "completed"
    },
    "tags": []
   },
   "outputs": [],
   "source": [
    "## Ref: https://github.com/yashkant/sam-textvqa/blob/main/sam/datasets/metrics.py#L305\n",
    "\n",
    "import re\n",
    "\n",
    "class EvalAIAnswerProcessor:\n",
    "    \"\"\"\n",
    "    Processes an answer similar to Eval AI\n",
    "        copied from\n",
    "        https://github.com/facebookresearch/pythia/blob/c46b3b3391275b4181567db80943473a89ab98ab/pythia/tasks/processors.py#L897\n",
    "    \"\"\"\n",
    "\n",
    "    CONTRACTIONS = {\n",
    "        \"aint\": \"ain't\",\n",
    "        \"arent\": \"aren't\",\n",
    "        \"cant\": \"can't\",\n",
    "        \"couldve\": \"could've\",\n",
    "        \"couldnt\": \"couldn't\",\n",
    "        \"couldn'tve\": \"couldn't've\",\n",
    "        \"couldnt've\": \"couldn't've\",\n",
    "        \"didnt\": \"didn't\",\n",
    "        \"doesnt\": \"doesn't\",\n",
    "        \"dont\": \"don't\",\n",
    "        \"hadnt\": \"hadn't\",\n",
    "        \"hadnt've\": \"hadn't've\",\n",
    "        \"hadn'tve\": \"hadn't've\",\n",
    "        \"hasnt\": \"hasn't\",\n",
    "        \"havent\": \"haven't\",\n",
    "        \"hed\": \"he'd\",\n",
    "        \"hed've\": \"he'd've\",\n",
    "        \"he'dve\": \"he'd've\",\n",
    "        \"hes\": \"he's\",\n",
    "        \"howd\": \"how'd\",\n",
    "        \"howll\": \"how'll\",\n",
    "        \"hows\": \"how's\",\n",
    "        \"Id've\": \"I'd've\",\n",
    "        \"I'dve\": \"I'd've\",\n",
    "        \"Im\": \"I'm\",\n",
    "        \"Ive\": \"I've\",\n",
    "        \"isnt\": \"isn't\",\n",
    "        \"itd\": \"it'd\",\n",
    "        \"itd've\": \"it'd've\",\n",
    "        \"it'dve\": \"it'd've\",\n",
    "        \"itll\": \"it'll\",\n",
    "        \"let's\": \"let's\",\n",
    "        \"maam\": \"ma'am\",\n",
    "        \"mightnt\": \"mightn't\",\n",
    "        \"mightnt've\": \"mightn't've\",\n",
    "        \"mightn'tve\": \"mightn't've\",\n",
    "        \"mightve\": \"might've\",\n",
    "        \"mustnt\": \"mustn't\",\n",
    "        \"mustve\": \"must've\",\n",
    "        \"neednt\": \"needn't\",\n",
    "        \"notve\": \"not've\",\n",
    "        \"oclock\": \"o'clock\",\n",
    "        \"oughtnt\": \"oughtn't\",\n",
    "        \"ow's'at\": \"'ow's'at\",\n",
    "        \"'ows'at\": \"'ow's'at\",\n",
    "        \"'ow'sat\": \"'ow's'at\",\n",
    "        \"shant\": \"shan't\",\n",
    "        \"shed've\": \"she'd've\",\n",
    "        \"she'dve\": \"she'd've\",\n",
    "        \"she's\": \"she's\",\n",
    "        \"shouldve\": \"should've\",\n",
    "        \"shouldnt\": \"shouldn't\",\n",
    "        \"shouldnt've\": \"shouldn't've\",\n",
    "        \"shouldn'tve\": \"shouldn't've\",\n",
    "        \"somebody'd\": \"somebodyd\",\n",
    "        \"somebodyd've\": \"somebody'd've\",\n",
    "        \"somebody'dve\": \"somebody'd've\",\n",
    "        \"somebodyll\": \"somebody'll\",\n",
    "        \"somebodys\": \"somebody's\",\n",
    "        \"someoned\": \"someone'd\",\n",
    "        \"someoned've\": \"someone'd've\",\n",
    "        \"someone'dve\": \"someone'd've\",\n",
    "        \"someonell\": \"someone'll\",\n",
    "        \"someones\": \"someone's\",\n",
    "        \"somethingd\": \"something'd\",\n",
    "        \"somethingd've\": \"something'd've\",\n",
    "        \"something'dve\": \"something'd've\",\n",
    "        \"somethingll\": \"something'll\",\n",
    "        \"thats\": \"that's\",\n",
    "        \"thered\": \"there'd\",\n",
    "        \"thered've\": \"there'd've\",\n",
    "        \"there'dve\": \"there'd've\",\n",
    "        \"therere\": \"there're\",\n",
    "        \"theres\": \"there's\",\n",
    "        \"theyd\": \"they'd\",\n",
    "        \"theyd've\": \"they'd've\",\n",
    "        \"they'dve\": \"they'd've\",\n",
    "        \"theyll\": \"they'll\",\n",
    "        \"theyre\": \"they're\",\n",
    "        \"theyve\": \"they've\",\n",
    "        \"twas\": \"'twas\",\n",
    "        \"wasnt\": \"wasn't\",\n",
    "        \"wed've\": \"we'd've\",\n",
    "        \"we'dve\": \"we'd've\",\n",
    "        \"weve\": \"we've\",\n",
    "        \"werent\": \"weren't\",\n",
    "        \"whatll\": \"what'll\",\n",
    "        \"whatre\": \"what're\",\n",
    "        \"whats\": \"what's\",\n",
    "        \"whatve\": \"what've\",\n",
    "        \"whens\": \"when's\",\n",
    "        \"whered\": \"where'd\",\n",
    "        \"wheres\": \"where's\",\n",
    "        \"whereve\": \"where've\",\n",
    "        \"whod\": \"who'd\",\n",
    "        \"whod've\": \"who'd've\",\n",
    "        \"who'dve\": \"who'd've\",\n",
    "        \"wholl\": \"who'll\",\n",
    "        \"whos\": \"who's\",\n",
    "        \"whove\": \"who've\",\n",
    "        \"whyll\": \"why'll\",\n",
    "        \"whyre\": \"why're\",\n",
    "        \"whys\": \"why's\",\n",
    "        \"wont\": \"won't\",\n",
    "        \"wouldve\": \"would've\",\n",
    "        \"wouldnt\": \"wouldn't\",\n",
    "        \"wouldnt've\": \"wouldn't've\",\n",
    "        \"wouldn'tve\": \"wouldn't've\",\n",
    "        \"yall\": \"y'all\",\n",
    "        \"yall'll\": \"y'all'll\",\n",
    "        \"y'allll\": \"y'all'll\",\n",
    "        \"yall'd've\": \"y'all'd've\",\n",
    "        \"y'alld've\": \"y'all'd've\",\n",
    "        \"y'all'dve\": \"y'all'd've\",\n",
    "        \"youd\": \"you'd\",\n",
    "        \"youd've\": \"you'd've\",\n",
    "        \"you'dve\": \"you'd've\",\n",
    "        \"youll\": \"you'll\",\n",
    "        \"youre\": \"you're\",\n",
    "        \"youve\": \"you've\",\n",
    "    }\n",
    "\n",
    "    NUMBER_MAP = {\n",
    "        \"none\": \"0\",\n",
    "        \"zero\": \"0\",\n",
    "        \"one\": \"1\",\n",
    "        \"two\": \"2\",\n",
    "        \"three\": \"3\",\n",
    "        \"four\": \"4\",\n",
    "        \"five\": \"5\",\n",
    "        \"six\": \"6\",\n",
    "        \"seven\": \"7\",\n",
    "        \"eight\": \"8\",\n",
    "        \"nine\": \"9\",\n",
    "        \"ten\": \"10\",\n",
    "    }\n",
    "    ARTICLES = [\"a\", \"an\", \"the\"]\n",
    "    PERIOD_STRIP = re.compile(\"(?!<=\\d)(\\.)(?!\\d)\")\n",
    "    COMMA_STRIP = re.compile(\"(?<=\\d)(\\,)+(?=\\d)\")\n",
    "    PUNCTUATIONS = [\n",
    "        \";\",\n",
    "        r\"/\",\n",
    "        \"[\",\n",
    "        \"]\",\n",
    "        '\"',\n",
    "        \"{\",\n",
    "        \"}\",\n",
    "        \"(\",\n",
    "        \")\",\n",
    "        \"=\",\n",
    "        \"+\",\n",
    "        \"\\\\\",\n",
    "        \"_\",\n",
    "        \"-\",\n",
    "        \">\",\n",
    "        \"<\",\n",
    "        \"@\",\n",
    "        \"`\",\n",
    "        \",\",\n",
    "        \"?\",\n",
    "        \"!\",\n",
    "    ]\n",
    "\n",
    "    def __init__(self, *args, **kwargs):\n",
    "        pass\n",
    "\n",
    "    def word_tokenize(self, word):\n",
    "        word = word.lower()\n",
    "        word = word.replace(\",\", \"\").replace(\"?\", \"\").replace(\"'s\", \" 's\")\n",
    "        return word.strip()\n",
    "\n",
    "    def process_punctuation(self, in_text):\n",
    "        out_text = in_text\n",
    "        for p in self.PUNCTUATIONS:\n",
    "            if (p + \" \" in in_text or \" \" + p in in_text) or (\n",
    "                re.search(self.COMMA_STRIP, in_text) is not None\n",
    "            ):\n",
    "                out_text = out_text.replace(p, \"\")\n",
    "            else:\n",
    "                out_text = out_text.replace(p, \" \")\n",
    "        out_text = self.PERIOD_STRIP.sub(\"\", out_text, re.UNICODE)\n",
    "        return out_text\n",
    "\n",
    "    def process_digit_article(self, in_text):\n",
    "        out_text = []\n",
    "        temp_text = in_text.lower().split()\n",
    "        for word in temp_text:\n",
    "            word = self.NUMBER_MAP.setdefault(word, word)\n",
    "            if word not in self.ARTICLES:\n",
    "                out_text.append(word)\n",
    "            else:\n",
    "                pass\n",
    "        for word_id, word in enumerate(out_text):\n",
    "            if word in self.CONTRACTIONS:\n",
    "                out_text[word_id] = self.CONTRACTIONS[word]\n",
    "        out_text = \" \".join(out_text)\n",
    "        return out_text\n",
    "\n",
    "    def __call__(self, item):\n",
    "        item = self.word_tokenize(item)\n",
    "        item = item.replace(\"\\n\", \" \").replace(\"\\t\", \" \").strip()\n",
    "        item = self.process_punctuation(item)\n",
    "        item = self.process_digit_article(item)\n",
    "        return item\n",
    "\n",
    "\n",
    "class TextVQAAccuracyEvaluator:\n",
    "    def __init__(self):\n",
    "        self.answer_processor = EvalAIAnswerProcessor()\n",
    "\n",
    "    def _compute_answer_scores(self, raw_answers):\n",
    "        \"\"\"\n",
    "        compute the accuracy (soft score) of human answers\n",
    "        \"\"\"\n",
    "        answers = [self.answer_processor(a) for a in raw_answers]\n",
    "        print(f\"Answers are : {answers}\")\n",
    "        #assert len(answers) == 10\n",
    "        gt_answers = list(enumerate(answers))\n",
    "        unique_answers = set(answers)\n",
    "        unique_answer_scores = {}\n",
    "\n",
    "        for unique_answer in unique_answers:\n",
    "            accs = []\n",
    "            for gt_answer in gt_answers:\n",
    "                other_answers = [item for item in gt_answers if item != gt_answer]\n",
    "                matching_answers = [\n",
    "                    item for item in other_answers if item[1] == unique_answer\n",
    "                ]\n",
    "                acc = min(1, float(len(matching_answers)) / 3)\n",
    "                accs.append(acc)\n",
    "            unique_answer_scores[unique_answer] = sum(accs) / len(accs)\n",
    "\n",
    "        return unique_answer_scores\n",
    "\n",
    "    def eval_pred_list(self, pred_list):\n",
    "        pred_scores = []\n",
    "        for entry in pred_list:\n",
    "            pred_answer = self.answer_processor(entry[\"pred_answer\"])\n",
    "            print(f\"Pred answer is : {pred_answer}\")\n",
    "            unique_answer_scores = self._compute_answer_scores(entry[\"gt_answers\"])\n",
    "            score = unique_answer_scores.get(pred_answer, 0.0)\n",
    "            pred_scores.append(score)\n",
    "\n",
    "        accuracy = sum(pred_scores) / len(pred_scores)\n",
    "        return accuracy, pred_scores"
   ]
  },
  {
   "cell_type": "code",
   "execution_count": 30,
   "id": "76b8f215",
   "metadata": {
    "execution": {
     "iopub.execute_input": "2023-05-03T10:09:35.684115Z",
     "iopub.status.busy": "2023-05-03T10:09:35.683807Z",
     "iopub.status.idle": "2023-05-03T10:09:35.688259Z",
     "shell.execute_reply": "2023-05-03T10:09:35.687256Z"
    },
    "papermill": {
     "duration": 0.01678,
     "end_time": "2023-05-03T10:09:35.690321",
     "exception": false,
     "start_time": "2023-05-03T10:09:35.673541",
     "status": "completed"
    },
    "tags": []
   },
   "outputs": [],
   "source": [
    "metric = TextVQAAccuracyEvaluator()"
   ]
  },
  {
   "cell_type": "code",
   "execution_count": 31,
   "id": "bb9fd554",
   "metadata": {
    "execution": {
     "iopub.execute_input": "2023-05-03T10:09:35.710441Z",
     "iopub.status.busy": "2023-05-03T10:09:35.709624Z",
     "iopub.status.idle": "2023-05-03T10:09:35.714973Z",
     "shell.execute_reply": "2023-05-03T10:09:35.714062Z"
    },
    "papermill": {
     "duration": 0.017504,
     "end_time": "2023-05-03T10:09:35.717071",
     "exception": false,
     "start_time": "2023-05-03T10:09:35.699567",
     "status": "completed"
    },
    "tags": []
   },
   "outputs": [],
   "source": [
    "labels = tokenizer.batch_decode(sample['labels'], skip_special_tokens = True)"
   ]
  },
  {
   "cell_type": "code",
   "execution_count": 32,
   "id": "48a40297",
   "metadata": {
    "execution": {
     "iopub.execute_input": "2023-05-03T10:09:35.736688Z",
     "iopub.status.busy": "2023-05-03T10:09:35.736408Z",
     "iopub.status.idle": "2023-05-03T10:09:35.741171Z",
     "shell.execute_reply": "2023-05-03T10:09:35.740105Z"
    },
    "papermill": {
     "duration": 0.016965,
     "end_time": "2023-05-03T10:09:35.743243",
     "exception": false,
     "start_time": "2023-05-03T10:09:35.726278",
     "status": "completed"
    },
    "tags": []
   },
   "outputs": [],
   "source": [
    "current_prediction = []\n",
    "current_prediction.append({\n",
    "                \"gt_answers\": labels,\n",
    "                \"pred_answer\": labels[0],\n",
    "            })"
   ]
  },
  {
   "cell_type": "code",
   "execution_count": 33,
   "id": "08b065c4",
   "metadata": {
    "execution": {
     "iopub.execute_input": "2023-05-03T10:09:35.763467Z",
     "iopub.status.busy": "2023-05-03T10:09:35.763105Z",
     "iopub.status.idle": "2023-05-03T10:09:35.768249Z",
     "shell.execute_reply": "2023-05-03T10:09:35.767276Z"
    },
    "papermill": {
     "duration": 0.017795,
     "end_time": "2023-05-03T10:09:35.770600",
     "exception": false,
     "start_time": "2023-05-03T10:09:35.752805",
     "status": "completed"
    },
    "tags": []
   },
   "outputs": [
    {
     "name": "stdout",
     "output_type": "stream",
     "text": [
      "Pred answer is : ec\n",
      "Answers are : ['ec']\n"
     ]
    }
   ],
   "source": [
    "accuracy, pred_scores = metric.eval_pred_list(current_prediction)"
   ]
  },
  {
   "cell_type": "code",
   "execution_count": 34,
   "id": "632e18db",
   "metadata": {
    "execution": {
     "iopub.execute_input": "2023-05-03T10:09:35.790121Z",
     "iopub.status.busy": "2023-05-03T10:09:35.789850Z",
     "iopub.status.idle": "2023-05-03T10:09:35.796079Z",
     "shell.execute_reply": "2023-05-03T10:09:35.795042Z"
    },
    "papermill": {
     "duration": 0.018347,
     "end_time": "2023-05-03T10:09:35.798153",
     "exception": false,
     "start_time": "2023-05-03T10:09:35.779806",
     "status": "completed"
    },
    "tags": []
   },
   "outputs": [
    {
     "data": {
      "text/plain": [
       "0.0"
      ]
     },
     "execution_count": 34,
     "metadata": {},
     "output_type": "execute_result"
    }
   ],
   "source": [
    "accuracy"
   ]
  },
  {
   "cell_type": "code",
   "execution_count": null,
   "id": "83512325",
   "metadata": {
    "papermill": {
     "duration": 0.009476,
     "end_time": "2023-05-03T10:09:35.816960",
     "exception": false,
     "start_time": "2023-05-03T10:09:35.807484",
     "status": "completed"
    },
    "tags": []
   },
   "outputs": [],
   "source": []
  }
 ],
 "metadata": {
  "kernelspec": {
   "display_name": "Python 3",
   "language": "python",
   "name": "python3"
  },
  "language_info": {
   "codemirror_mode": {
    "name": "ipython",
    "version": 3
   },
   "file_extension": ".py",
   "mimetype": "text/x-python",
   "name": "python",
   "nbconvert_exporter": "python",
   "pygments_lexer": "ipython3",
   "version": "3.7.12"
  },
  "papermill": {
   "default_parameters": {},
   "duration": 65.114035,
   "end_time": "2023-05-03T10:09:39.289498",
   "environment_variables": {},
   "exception": null,
   "input_path": "__notebook__.ipynb",
   "output_path": "__notebook__.ipynb",
   "parameters": {},
   "start_time": "2023-05-03T10:08:34.175463",
   "version": "2.4.0"
  },
  "widgets": {
   "application/vnd.jupyter.widget-state+json": {
    "state": {
     "06cfd99bfad546e88609cda4eeccbd98": {
      "model_module": "@jupyter-widgets/controls",
      "model_module_version": "1.5.0",
      "model_name": "HTMLModel",
      "state": {
       "_dom_classes": [],
       "_model_module": "@jupyter-widgets/controls",
       "_model_module_version": "1.5.0",
       "_model_name": "HTMLModel",
       "_view_count": null,
       "_view_module": "@jupyter-widgets/controls",
       "_view_module_version": "1.5.0",
       "_view_name": "HTMLView",
       "description": "",
       "description_tooltip": null,
       "layout": "IPY_MODEL_862791e1fa4a46629def674b8e92c1be",
       "placeholder": "​",
       "style": "IPY_MODEL_31c9c68957464bc3acd34d5789ab6369",
       "value": " 1.21k/1.21k [00:00&lt;00:00, 27.3kB/s]"
      }
     },
     "0d23698b835948698577c1f9439fbc4d": {
      "model_module": "@jupyter-widgets/controls",
      "model_module_version": "1.5.0",
      "model_name": "HBoxModel",
      "state": {
       "_dom_classes": [],
       "_model_module": "@jupyter-widgets/controls",
       "_model_module_version": "1.5.0",
       "_model_name": "HBoxModel",
       "_view_count": null,
       "_view_module": "@jupyter-widgets/controls",
       "_view_module_version": "1.5.0",
       "_view_name": "HBoxView",
       "box_style": "",
       "children": [
        "IPY_MODEL_b44a5515210644178b5b150d0021d793",
        "IPY_MODEL_f572850e6f194ba0ba5578ec2916c58a",
        "IPY_MODEL_157efc2293394a19b9611c36be1f8ae7"
       ],
       "layout": "IPY_MODEL_1d137c77be164298be22835a724e6228"
      }
     },
     "0fd0d9c256c84a74b60d539a3e3bf48f": {
      "model_module": "@jupyter-widgets/controls",
      "model_module_version": "1.5.0",
      "model_name": "ProgressStyleModel",
      "state": {
       "_model_module": "@jupyter-widgets/controls",
       "_model_module_version": "1.5.0",
       "_model_name": "ProgressStyleModel",
       "_view_count": null,
       "_view_module": "@jupyter-widgets/base",
       "_view_module_version": "1.2.0",
       "_view_name": "StyleView",
       "bar_color": null,
       "description_width": ""
      }
     },
     "1357a0182b8f42a2b374942a0e90969d": {
      "model_module": "@jupyter-widgets/controls",
      "model_module_version": "1.5.0",
      "model_name": "DescriptionStyleModel",
      "state": {
       "_model_module": "@jupyter-widgets/controls",
       "_model_module_version": "1.5.0",
       "_model_name": "DescriptionStyleModel",
       "_view_count": null,
       "_view_module": "@jupyter-widgets/base",
       "_view_module_version": "1.2.0",
       "_view_name": "StyleView",
       "description_width": ""
      }
     },
     "157efc2293394a19b9611c36be1f8ae7": {
      "model_module": "@jupyter-widgets/controls",
      "model_module_version": "1.5.0",
      "model_name": "HTMLModel",
      "state": {
       "_dom_classes": [],
       "_model_module": "@jupyter-widgets/controls",
       "_model_module_version": "1.5.0",
       "_model_name": "HTMLModel",
       "_view_count": null,
       "_view_module": "@jupyter-widgets/controls",
       "_view_module_version": "1.5.0",
       "_view_name": "HTMLView",
       "description": "",
       "description_tooltip": null,
       "layout": "IPY_MODEL_acd7900f19034b798eff3fed273f1a5d",
       "placeholder": "​",
       "style": "IPY_MODEL_614cae6884cb43a59fb6a6efe63865d4",
       "value": " 1.39M/1.39M [00:00&lt;00:00, 4.28MB/s]"
      }
     },
     "1659d2a2bb5543708a22c4e3234e4162": {
      "model_module": "@jupyter-widgets/controls",
      "model_module_version": "1.5.0",
      "model_name": "HTMLModel",
      "state": {
       "_dom_classes": [],
       "_model_module": "@jupyter-widgets/controls",
       "_model_module_version": "1.5.0",
       "_model_name": "HTMLModel",
       "_view_count": null,
       "_view_module": "@jupyter-widgets/controls",
       "_view_module_version": "1.5.0",
       "_view_name": "HTMLView",
       "description": "",
       "description_tooltip": null,
       "layout": "IPY_MODEL_d5f7237c8daa4e5eb30342e1d6646f2f",
       "placeholder": "​",
       "style": "IPY_MODEL_feacd9922175432d8c2b1966d57c41cd",
       "value": " 346M/346M [00:01&lt;00:00, 305MB/s]"
      }
     },
     "1902649682c448dbb0f57180bfee67c2": {
      "model_module": "@jupyter-widgets/controls",
      "model_module_version": "1.5.0",
      "model_name": "FloatProgressModel",
      "state": {
       "_dom_classes": [],
       "_model_module": "@jupyter-widgets/controls",
       "_model_module_version": "1.5.0",
       "_model_name": "FloatProgressModel",
       "_view_count": null,
       "_view_module": "@jupyter-widgets/controls",
       "_view_module_version": "1.5.0",
       "_view_name": "ProgressView",
       "bar_style": "success",
       "description": "",
       "description_tooltip": null,
       "layout": "IPY_MODEL_9e0c71f0c610473299fd30367ec300ad",
       "max": 345636463.0,
       "min": 0.0,
       "orientation": "horizontal",
       "style": "IPY_MODEL_2604f415344f48398a3b78660d488895",
       "value": 345636463.0
      }
     },
     "1a7e184e03d14bed9b2db338a6550996": {
      "model_module": "@jupyter-widgets/controls",
      "model_module_version": "1.5.0",
      "model_name": "HBoxModel",
      "state": {
       "_dom_classes": [],
       "_model_module": "@jupyter-widgets/controls",
       "_model_module_version": "1.5.0",
       "_model_name": "HBoxModel",
       "_view_count": null,
       "_view_module": "@jupyter-widgets/controls",
       "_view_module_version": "1.5.0",
       "_view_name": "HBoxView",
       "box_style": "",
       "children": [
        "IPY_MODEL_d16f037f4cd945f0ba3d0ebd3d44f237",
        "IPY_MODEL_cb14907bc8b24f33b71a52f9129d65ba",
        "IPY_MODEL_c0840d2f6c974d4fbba1a55e985a60c5"
       ],
       "layout": "IPY_MODEL_7534a29d21fb4548b34ff598495ad8ec"
      }
     },
     "1d137c77be164298be22835a724e6228": {
      "model_module": "@jupyter-widgets/base",
      "model_module_version": "1.2.0",
      "model_name": "LayoutModel",
      "state": {
       "_model_module": "@jupyter-widgets/base",
       "_model_module_version": "1.2.0",
       "_model_name": "LayoutModel",
       "_view_count": null,
       "_view_module": "@jupyter-widgets/base",
       "_view_module_version": "1.2.0",
       "_view_name": "LayoutView",
       "align_content": null,
       "align_items": null,
       "align_self": null,
       "border": null,
       "bottom": null,
       "display": null,
       "flex": null,
       "flex_flow": null,
       "grid_area": null,
       "grid_auto_columns": null,
       "grid_auto_flow": null,
       "grid_auto_rows": null,
       "grid_column": null,
       "grid_gap": null,
       "grid_row": null,
       "grid_template_areas": null,
       "grid_template_columns": null,
       "grid_template_rows": null,
       "height": null,
       "justify_content": null,
       "justify_items": null,
       "left": null,
       "margin": null,
       "max_height": null,
       "max_width": null,
       "min_height": null,
       "min_width": null,
       "object_fit": null,
       "object_position": null,
       "order": null,
       "overflow": null,
       "overflow_x": null,
       "overflow_y": null,
       "padding": null,
       "right": null,
       "top": null,
       "visibility": null,
       "width": null
      }
     },
     "1fbb5a9f7bc7440faadad892c9d2132a": {
      "model_module": "@jupyter-widgets/controls",
      "model_module_version": "1.5.0",
      "model_name": "ProgressStyleModel",
      "state": {
       "_model_module": "@jupyter-widgets/controls",
       "_model_module_version": "1.5.0",
       "_model_name": "ProgressStyleModel",
       "_view_count": null,
       "_view_module": "@jupyter-widgets/base",
       "_view_module_version": "1.2.0",
       "_view_name": "StyleView",
       "bar_color": null,
       "description_width": ""
      }
     },
     "232c3d41395b457488f13c56cf923c4b": {
      "model_module": "@jupyter-widgets/controls",
      "model_module_version": "1.5.0",
      "model_name": "HBoxModel",
      "state": {
       "_dom_classes": [],
       "_model_module": "@jupyter-widgets/controls",
       "_model_module_version": "1.5.0",
       "_model_name": "HBoxModel",
       "_view_count": null,
       "_view_module": "@jupyter-widgets/controls",
       "_view_module_version": "1.5.0",
       "_view_name": "HBoxView",
       "box_style": "",
       "children": [
        "IPY_MODEL_9f475353eb4a44ecabf545692d0f3359",
        "IPY_MODEL_b777133e25a543afb45859e888213b1c",
        "IPY_MODEL_fbd565167eb8474bb014f2643f6519b4"
       ],
       "layout": "IPY_MODEL_d5f36848bebc4369aeebf252d3cde1dc"
      }
     },
     "248befcbbe754946a634b356bf02b9b9": {
      "model_module": "@jupyter-widgets/controls",
      "model_module_version": "1.5.0",
      "model_name": "HBoxModel",
      "state": {
       "_dom_classes": [],
       "_model_module": "@jupyter-widgets/controls",
       "_model_module_version": "1.5.0",
       "_model_name": "HBoxModel",
       "_view_count": null,
       "_view_module": "@jupyter-widgets/controls",
       "_view_module_version": "1.5.0",
       "_view_name": "HBoxView",
       "box_style": "",
       "children": [
        "IPY_MODEL_c7923f8478d74af9aa7ebb855673e139",
        "IPY_MODEL_d6f0583dc459433db3f398833433162f",
        "IPY_MODEL_847a7c4db9314e20b7e309fce761c4a3"
       ],
       "layout": "IPY_MODEL_fe01fcd40604462b9572ed2a9fd45e96"
      }
     },
     "25e1bd3175b541939dfa6562234fedc9": {
      "model_module": "@jupyter-widgets/controls",
      "model_module_version": "1.5.0",
      "model_name": "ProgressStyleModel",
      "state": {
       "_model_module": "@jupyter-widgets/controls",
       "_model_module_version": "1.5.0",
       "_model_name": "ProgressStyleModel",
       "_view_count": null,
       "_view_module": "@jupyter-widgets/base",
       "_view_module_version": "1.2.0",
       "_view_name": "StyleView",
       "bar_color": null,
       "description_width": ""
      }
     },
     "2604f415344f48398a3b78660d488895": {
      "model_module": "@jupyter-widgets/controls",
      "model_module_version": "1.5.0",
      "model_name": "ProgressStyleModel",
      "state": {
       "_model_module": "@jupyter-widgets/controls",
       "_model_module_version": "1.5.0",
       "_model_name": "ProgressStyleModel",
       "_view_count": null,
       "_view_module": "@jupyter-widgets/base",
       "_view_module_version": "1.2.0",
       "_view_name": "StyleView",
       "bar_color": null,
       "description_width": ""
      }
     },
     "269c90b52beb4df2b8694d52ec6295ee": {
      "model_module": "@jupyter-widgets/base",
      "model_module_version": "1.2.0",
      "model_name": "LayoutModel",
      "state": {
       "_model_module": "@jupyter-widgets/base",
       "_model_module_version": "1.2.0",
       "_model_name": "LayoutModel",
       "_view_count": null,
       "_view_module": "@jupyter-widgets/base",
       "_view_module_version": "1.2.0",
       "_view_name": "LayoutView",
       "align_content": null,
       "align_items": null,
       "align_self": null,
       "border": null,
       "bottom": null,
       "display": null,
       "flex": null,
       "flex_flow": null,
       "grid_area": null,
       "grid_auto_columns": null,
       "grid_auto_flow": null,
       "grid_auto_rows": null,
       "grid_column": null,
       "grid_gap": null,
       "grid_row": null,
       "grid_template_areas": null,
       "grid_template_columns": null,
       "grid_template_rows": null,
       "height": null,
       "justify_content": null,
       "justify_items": null,
       "left": null,
       "margin": null,
       "max_height": null,
       "max_width": null,
       "min_height": null,
       "min_width": null,
       "object_fit": null,
       "object_position": null,
       "order": null,
       "overflow": null,
       "overflow_x": null,
       "overflow_y": null,
       "padding": null,
       "right": null,
       "top": null,
       "visibility": null,
       "width": null
      }
     },
     "31c9c68957464bc3acd34d5789ab6369": {
      "model_module": "@jupyter-widgets/controls",
      "model_module_version": "1.5.0",
      "model_name": "DescriptionStyleModel",
      "state": {
       "_model_module": "@jupyter-widgets/controls",
       "_model_module_version": "1.5.0",
       "_model_name": "DescriptionStyleModel",
       "_view_count": null,
       "_view_module": "@jupyter-widgets/base",
       "_view_module_version": "1.2.0",
       "_view_name": "StyleView",
       "description_width": ""
      }
     },
     "320ccf5e27ef410ebbdc2849c0cb217d": {
      "model_module": "@jupyter-widgets/controls",
      "model_module_version": "1.5.0",
      "model_name": "DescriptionStyleModel",
      "state": {
       "_model_module": "@jupyter-widgets/controls",
       "_model_module_version": "1.5.0",
       "_model_name": "DescriptionStyleModel",
       "_view_count": null,
       "_view_module": "@jupyter-widgets/base",
       "_view_module_version": "1.2.0",
       "_view_name": "StyleView",
       "description_width": ""
      }
     },
     "32d69c4c3f88433cb74b1bd3e6d5d0b1": {
      "model_module": "@jupyter-widgets/controls",
      "model_module_version": "1.5.0",
      "model_name": "DescriptionStyleModel",
      "state": {
       "_model_module": "@jupyter-widgets/controls",
       "_model_module_version": "1.5.0",
       "_model_name": "DescriptionStyleModel",
       "_view_count": null,
       "_view_module": "@jupyter-widgets/base",
       "_view_module_version": "1.2.0",
       "_view_name": "StyleView",
       "description_width": ""
      }
     },
     "334c9966d2aa4c8cb6edc7b342334622": {
      "model_module": "@jupyter-widgets/controls",
      "model_module_version": "1.5.0",
      "model_name": "HTMLModel",
      "state": {
       "_dom_classes": [],
       "_model_module": "@jupyter-widgets/controls",
       "_model_module_version": "1.5.0",
       "_model_name": "HTMLModel",
       "_view_count": null,
       "_view_module": "@jupyter-widgets/controls",
       "_view_module_version": "1.5.0",
       "_view_name": "HTMLView",
       "description": "",
       "description_tooltip": null,
       "layout": "IPY_MODEL_8ff6bf049164444cbf14e724c8ecfcb8",
       "placeholder": "​",
       "style": "IPY_MODEL_320ccf5e27ef410ebbdc2849c0cb217d",
       "value": "Downloading (…)lve/main/config.json: 100%"
      }
     },
     "4000ae6906134ab8942918ff9d8b5cd4": {
      "model_module": "@jupyter-widgets/base",
      "model_module_version": "1.2.0",
      "model_name": "LayoutModel",
      "state": {
       "_model_module": "@jupyter-widgets/base",
       "_model_module_version": "1.2.0",
       "_model_name": "LayoutModel",
       "_view_count": null,
       "_view_module": "@jupyter-widgets/base",
       "_view_module_version": "1.2.0",
       "_view_name": "LayoutView",
       "align_content": null,
       "align_items": null,
       "align_self": null,
       "border": null,
       "bottom": null,
       "display": null,
       "flex": null,
       "flex_flow": null,
       "grid_area": null,
       "grid_auto_columns": null,
       "grid_auto_flow": null,
       "grid_auto_rows": null,
       "grid_column": null,
       "grid_gap": null,
       "grid_row": null,
       "grid_template_areas": null,
       "grid_template_columns": null,
       "grid_template_rows": null,
       "height": null,
       "justify_content": null,
       "justify_items": null,
       "left": null,
       "margin": null,
       "max_height": null,
       "max_width": null,
       "min_height": null,
       "min_width": null,
       "object_fit": null,
       "object_position": null,
       "order": null,
       "overflow": null,
       "overflow_x": null,
       "overflow_y": null,
       "padding": null,
       "right": null,
       "top": null,
       "visibility": null,
       "width": null
      }
     },
     "42cb2d518bd34e259b1c58ab3957b25d": {
      "model_module": "@jupyter-widgets/controls",
      "model_module_version": "1.5.0",
      "model_name": "FloatProgressModel",
      "state": {
       "_dom_classes": [],
       "_model_module": "@jupyter-widgets/controls",
       "_model_module_version": "1.5.0",
       "_model_name": "FloatProgressModel",
       "_view_count": null,
       "_view_module": "@jupyter-widgets/controls",
       "_view_module_version": "1.5.0",
       "_view_name": "ProgressView",
       "bar_style": "success",
       "description": "",
       "description_tooltip": null,
       "layout": "IPY_MODEL_f3958d8fae57456399161639a9e178f7",
       "max": 1208.0,
       "min": 0.0,
       "orientation": "horizontal",
       "style": "IPY_MODEL_0fd0d9c256c84a74b60d539a3e3bf48f",
       "value": 1208.0
      }
     },
     "44aa7515cee5467b8ec73ced5b52e6aa": {
      "model_module": "@jupyter-widgets/base",
      "model_module_version": "1.2.0",
      "model_name": "LayoutModel",
      "state": {
       "_model_module": "@jupyter-widgets/base",
       "_model_module_version": "1.2.0",
       "_model_name": "LayoutModel",
       "_view_count": null,
       "_view_module": "@jupyter-widgets/base",
       "_view_module_version": "1.2.0",
       "_view_name": "LayoutView",
       "align_content": null,
       "align_items": null,
       "align_self": null,
       "border": null,
       "bottom": null,
       "display": null,
       "flex": null,
       "flex_flow": null,
       "grid_area": null,
       "grid_auto_columns": null,
       "grid_auto_flow": null,
       "grid_auto_rows": null,
       "grid_column": null,
       "grid_gap": null,
       "grid_row": null,
       "grid_template_areas": null,
       "grid_template_columns": null,
       "grid_template_rows": null,
       "height": null,
       "justify_content": null,
       "justify_items": null,
       "left": null,
       "margin": null,
       "max_height": null,
       "max_width": null,
       "min_height": null,
       "min_width": null,
       "object_fit": null,
       "object_position": null,
       "order": null,
       "overflow": null,
       "overflow_x": null,
       "overflow_y": null,
       "padding": null,
       "right": null,
       "top": null,
       "visibility": null,
       "width": null
      }
     },
     "4b466acdbe2d42d684de110d750d5867": {
      "model_module": "@jupyter-widgets/controls",
      "model_module_version": "1.5.0",
      "model_name": "HBoxModel",
      "state": {
       "_dom_classes": [],
       "_model_module": "@jupyter-widgets/controls",
       "_model_module_version": "1.5.0",
       "_model_name": "HBoxModel",
       "_view_count": null,
       "_view_module": "@jupyter-widgets/controls",
       "_view_module_version": "1.5.0",
       "_view_name": "HBoxView",
       "box_style": "",
       "children": [
        "IPY_MODEL_334c9966d2aa4c8cb6edc7b342334622",
        "IPY_MODEL_42cb2d518bd34e259b1c58ab3957b25d",
        "IPY_MODEL_06cfd99bfad546e88609cda4eeccbd98"
       ],
       "layout": "IPY_MODEL_b31d8bf273d34a8689dc51ca6074a469"
      }
     },
     "4d09ad7d6d0742ea988702c9cd8b2e21": {
      "model_module": "@jupyter-widgets/base",
      "model_module_version": "1.2.0",
      "model_name": "LayoutModel",
      "state": {
       "_model_module": "@jupyter-widgets/base",
       "_model_module_version": "1.2.0",
       "_model_name": "LayoutModel",
       "_view_count": null,
       "_view_module": "@jupyter-widgets/base",
       "_view_module_version": "1.2.0",
       "_view_name": "LayoutView",
       "align_content": null,
       "align_items": null,
       "align_self": null,
       "border": null,
       "bottom": null,
       "display": null,
       "flex": null,
       "flex_flow": null,
       "grid_area": null,
       "grid_auto_columns": null,
       "grid_auto_flow": null,
       "grid_auto_rows": null,
       "grid_column": null,
       "grid_gap": null,
       "grid_row": null,
       "grid_template_areas": null,
       "grid_template_columns": null,
       "grid_template_rows": null,
       "height": null,
       "justify_content": null,
       "justify_items": null,
       "left": null,
       "margin": null,
       "max_height": null,
       "max_width": null,
       "min_height": null,
       "min_width": null,
       "object_fit": null,
       "object_position": null,
       "order": null,
       "overflow": null,
       "overflow_x": null,
       "overflow_y": null,
       "padding": null,
       "right": null,
       "top": null,
       "visibility": null,
       "width": null
      }
     },
     "4d9106171827412f8f86a0067e0cca41": {
      "model_module": "@jupyter-widgets/controls",
      "model_module_version": "1.5.0",
      "model_name": "HBoxModel",
      "state": {
       "_dom_classes": [],
       "_model_module": "@jupyter-widgets/controls",
       "_model_module_version": "1.5.0",
       "_model_name": "HBoxModel",
       "_view_count": null,
       "_view_module": "@jupyter-widgets/controls",
       "_view_module_version": "1.5.0",
       "_view_name": "HBoxView",
       "box_style": "",
       "children": [
        "IPY_MODEL_e23b9618d0764f0a99223990bb4647a5",
        "IPY_MODEL_1902649682c448dbb0f57180bfee67c2",
        "IPY_MODEL_1659d2a2bb5543708a22c4e3234e4162"
       ],
       "layout": "IPY_MODEL_9cbd3059ef03407886633ddcb1cd9a63"
      }
     },
     "52084424a4d34007a407b88492863824": {
      "model_module": "@jupyter-widgets/base",
      "model_module_version": "1.2.0",
      "model_name": "LayoutModel",
      "state": {
       "_model_module": "@jupyter-widgets/base",
       "_model_module_version": "1.2.0",
       "_model_name": "LayoutModel",
       "_view_count": null,
       "_view_module": "@jupyter-widgets/base",
       "_view_module_version": "1.2.0",
       "_view_name": "LayoutView",
       "align_content": null,
       "align_items": null,
       "align_self": null,
       "border": null,
       "bottom": null,
       "display": null,
       "flex": null,
       "flex_flow": null,
       "grid_area": null,
       "grid_auto_columns": null,
       "grid_auto_flow": null,
       "grid_auto_rows": null,
       "grid_column": null,
       "grid_gap": null,
       "grid_row": null,
       "grid_template_areas": null,
       "grid_template_columns": null,
       "grid_template_rows": null,
       "height": null,
       "justify_content": null,
       "justify_items": null,
       "left": null,
       "margin": null,
       "max_height": null,
       "max_width": null,
       "min_height": null,
       "min_width": null,
       "object_fit": null,
       "object_position": null,
       "order": null,
       "overflow": null,
       "overflow_x": null,
       "overflow_y": null,
       "padding": null,
       "right": null,
       "top": null,
       "visibility": null,
       "width": null
      }
     },
     "5a774ac45c47442bb42b12530cb06478": {
      "model_module": "@jupyter-widgets/controls",
      "model_module_version": "1.5.0",
      "model_name": "DescriptionStyleModel",
      "state": {
       "_model_module": "@jupyter-widgets/controls",
       "_model_module_version": "1.5.0",
       "_model_name": "DescriptionStyleModel",
       "_view_count": null,
       "_view_module": "@jupyter-widgets/base",
       "_view_module_version": "1.2.0",
       "_view_name": "StyleView",
       "description_width": ""
      }
     },
     "614cae6884cb43a59fb6a6efe63865d4": {
      "model_module": "@jupyter-widgets/controls",
      "model_module_version": "1.5.0",
      "model_name": "DescriptionStyleModel",
      "state": {
       "_model_module": "@jupyter-widgets/controls",
       "_model_module_version": "1.5.0",
       "_model_name": "DescriptionStyleModel",
       "_view_count": null,
       "_view_module": "@jupyter-widgets/base",
       "_view_module_version": "1.2.0",
       "_view_name": "StyleView",
       "description_width": ""
      }
     },
     "7534a29d21fb4548b34ff598495ad8ec": {
      "model_module": "@jupyter-widgets/base",
      "model_module_version": "1.2.0",
      "model_name": "LayoutModel",
      "state": {
       "_model_module": "@jupyter-widgets/base",
       "_model_module_version": "1.2.0",
       "_model_name": "LayoutModel",
       "_view_count": null,
       "_view_module": "@jupyter-widgets/base",
       "_view_module_version": "1.2.0",
       "_view_name": "LayoutView",
       "align_content": null,
       "align_items": null,
       "align_self": null,
       "border": null,
       "bottom": null,
       "display": null,
       "flex": null,
       "flex_flow": null,
       "grid_area": null,
       "grid_auto_columns": null,
       "grid_auto_flow": null,
       "grid_auto_rows": null,
       "grid_column": null,
       "grid_gap": null,
       "grid_row": null,
       "grid_template_areas": null,
       "grid_template_columns": null,
       "grid_template_rows": null,
       "height": null,
       "justify_content": null,
       "justify_items": null,
       "left": null,
       "margin": null,
       "max_height": null,
       "max_width": null,
       "min_height": null,
       "min_width": null,
       "object_fit": null,
       "object_position": null,
       "order": null,
       "overflow": null,
       "overflow_x": null,
       "overflow_y": null,
       "padding": null,
       "right": null,
       "top": null,
       "visibility": null,
       "width": null
      }
     },
     "7f6b9cc8f56b450fa354b7200053b2ab": {
      "model_module": "@jupyter-widgets/base",
      "model_module_version": "1.2.0",
      "model_name": "LayoutModel",
      "state": {
       "_model_module": "@jupyter-widgets/base",
       "_model_module_version": "1.2.0",
       "_model_name": "LayoutModel",
       "_view_count": null,
       "_view_module": "@jupyter-widgets/base",
       "_view_module_version": "1.2.0",
       "_view_name": "LayoutView",
       "align_content": null,
       "align_items": null,
       "align_self": null,
       "border": null,
       "bottom": null,
       "display": null,
       "flex": null,
       "flex_flow": null,
       "grid_area": null,
       "grid_auto_columns": null,
       "grid_auto_flow": null,
       "grid_auto_rows": null,
       "grid_column": null,
       "grid_gap": null,
       "grid_row": null,
       "grid_template_areas": null,
       "grid_template_columns": null,
       "grid_template_rows": null,
       "height": null,
       "justify_content": null,
       "justify_items": null,
       "left": null,
       "margin": null,
       "max_height": null,
       "max_width": null,
       "min_height": null,
       "min_width": null,
       "object_fit": null,
       "object_position": null,
       "order": null,
       "overflow": null,
       "overflow_x": null,
       "overflow_y": null,
       "padding": null,
       "right": null,
       "top": null,
       "visibility": null,
       "width": null
      }
     },
     "847a7c4db9314e20b7e309fce761c4a3": {
      "model_module": "@jupyter-widgets/controls",
      "model_module_version": "1.5.0",
      "model_name": "HTMLModel",
      "state": {
       "_dom_classes": [],
       "_model_module": "@jupyter-widgets/controls",
       "_model_module_version": "1.5.0",
       "_model_name": "HTMLModel",
       "_view_count": null,
       "_view_module": "@jupyter-widgets/controls",
       "_view_module_version": "1.5.0",
       "_view_name": "HTMLView",
       "description": "",
       "description_tooltip": null,
       "layout": "IPY_MODEL_44aa7515cee5467b8ec73ced5b52e6aa",
       "placeholder": "​",
       "style": "IPY_MODEL_eab2ed2e0a4f49549479c4d1befafe48",
       "value": " 792k/792k [00:00&lt;00:00, 11.5MB/s]"
      }
     },
     "862791e1fa4a46629def674b8e92c1be": {
      "model_module": "@jupyter-widgets/base",
      "model_module_version": "1.2.0",
      "model_name": "LayoutModel",
      "state": {
       "_model_module": "@jupyter-widgets/base",
       "_model_module_version": "1.2.0",
       "_model_name": "LayoutModel",
       "_view_count": null,
       "_view_module": "@jupyter-widgets/base",
       "_view_module_version": "1.2.0",
       "_view_name": "LayoutView",
       "align_content": null,
       "align_items": null,
       "align_self": null,
       "border": null,
       "bottom": null,
       "display": null,
       "flex": null,
       "flex_flow": null,
       "grid_area": null,
       "grid_auto_columns": null,
       "grid_auto_flow": null,
       "grid_auto_rows": null,
       "grid_column": null,
       "grid_gap": null,
       "grid_row": null,
       "grid_template_areas": null,
       "grid_template_columns": null,
       "grid_template_rows": null,
       "height": null,
       "justify_content": null,
       "justify_items": null,
       "left": null,
       "margin": null,
       "max_height": null,
       "max_width": null,
       "min_height": null,
       "min_width": null,
       "object_fit": null,
       "object_position": null,
       "order": null,
       "overflow": null,
       "overflow_x": null,
       "overflow_y": null,
       "padding": null,
       "right": null,
       "top": null,
       "visibility": null,
       "width": null
      }
     },
     "8ff6bf049164444cbf14e724c8ecfcb8": {
      "model_module": "@jupyter-widgets/base",
      "model_module_version": "1.2.0",
      "model_name": "LayoutModel",
      "state": {
       "_model_module": "@jupyter-widgets/base",
       "_model_module_version": "1.2.0",
       "_model_name": "LayoutModel",
       "_view_count": null,
       "_view_module": "@jupyter-widgets/base",
       "_view_module_version": "1.2.0",
       "_view_name": "LayoutView",
       "align_content": null,
       "align_items": null,
       "align_self": null,
       "border": null,
       "bottom": null,
       "display": null,
       "flex": null,
       "flex_flow": null,
       "grid_area": null,
       "grid_auto_columns": null,
       "grid_auto_flow": null,
       "grid_auto_rows": null,
       "grid_column": null,
       "grid_gap": null,
       "grid_row": null,
       "grid_template_areas": null,
       "grid_template_columns": null,
       "grid_template_rows": null,
       "height": null,
       "justify_content": null,
       "justify_items": null,
       "left": null,
       "margin": null,
       "max_height": null,
       "max_width": null,
       "min_height": null,
       "min_width": null,
       "object_fit": null,
       "object_position": null,
       "order": null,
       "overflow": null,
       "overflow_x": null,
       "overflow_y": null,
       "padding": null,
       "right": null,
       "top": null,
       "visibility": null,
       "width": null
      }
     },
     "9cbd3059ef03407886633ddcb1cd9a63": {
      "model_module": "@jupyter-widgets/base",
      "model_module_version": "1.2.0",
      "model_name": "LayoutModel",
      "state": {
       "_model_module": "@jupyter-widgets/base",
       "_model_module_version": "1.2.0",
       "_model_name": "LayoutModel",
       "_view_count": null,
       "_view_module": "@jupyter-widgets/base",
       "_view_module_version": "1.2.0",
       "_view_name": "LayoutView",
       "align_content": null,
       "align_items": null,
       "align_self": null,
       "border": null,
       "bottom": null,
       "display": null,
       "flex": null,
       "flex_flow": null,
       "grid_area": null,
       "grid_auto_columns": null,
       "grid_auto_flow": null,
       "grid_auto_rows": null,
       "grid_column": null,
       "grid_gap": null,
       "grid_row": null,
       "grid_template_areas": null,
       "grid_template_columns": null,
       "grid_template_rows": null,
       "height": null,
       "justify_content": null,
       "justify_items": null,
       "left": null,
       "margin": null,
       "max_height": null,
       "max_width": null,
       "min_height": null,
       "min_width": null,
       "object_fit": null,
       "object_position": null,
       "order": null,
       "overflow": null,
       "overflow_x": null,
       "overflow_y": null,
       "padding": null,
       "right": null,
       "top": null,
       "visibility": null,
       "width": null
      }
     },
     "9e0c71f0c610473299fd30367ec300ad": {
      "model_module": "@jupyter-widgets/base",
      "model_module_version": "1.2.0",
      "model_name": "LayoutModel",
      "state": {
       "_model_module": "@jupyter-widgets/base",
       "_model_module_version": "1.2.0",
       "_model_name": "LayoutModel",
       "_view_count": null,
       "_view_module": "@jupyter-widgets/base",
       "_view_module_version": "1.2.0",
       "_view_name": "LayoutView",
       "align_content": null,
       "align_items": null,
       "align_self": null,
       "border": null,
       "bottom": null,
       "display": null,
       "flex": null,
       "flex_flow": null,
       "grid_area": null,
       "grid_auto_columns": null,
       "grid_auto_flow": null,
       "grid_auto_rows": null,
       "grid_column": null,
       "grid_gap": null,
       "grid_row": null,
       "grid_template_areas": null,
       "grid_template_columns": null,
       "grid_template_rows": null,
       "height": null,
       "justify_content": null,
       "justify_items": null,
       "left": null,
       "margin": null,
       "max_height": null,
       "max_width": null,
       "min_height": null,
       "min_width": null,
       "object_fit": null,
       "object_position": null,
       "order": null,
       "overflow": null,
       "overflow_x": null,
       "overflow_y": null,
       "padding": null,
       "right": null,
       "top": null,
       "visibility": null,
       "width": null
      }
     },
     "9e190fe423a749fbb18e4841b7f72a1d": {
      "model_module": "@jupyter-widgets/base",
      "model_module_version": "1.2.0",
      "model_name": "LayoutModel",
      "state": {
       "_model_module": "@jupyter-widgets/base",
       "_model_module_version": "1.2.0",
       "_model_name": "LayoutModel",
       "_view_count": null,
       "_view_module": "@jupyter-widgets/base",
       "_view_module_version": "1.2.0",
       "_view_name": "LayoutView",
       "align_content": null,
       "align_items": null,
       "align_self": null,
       "border": null,
       "bottom": null,
       "display": null,
       "flex": null,
       "flex_flow": null,
       "grid_area": null,
       "grid_auto_columns": null,
       "grid_auto_flow": null,
       "grid_auto_rows": null,
       "grid_column": null,
       "grid_gap": null,
       "grid_row": null,
       "grid_template_areas": null,
       "grid_template_columns": null,
       "grid_template_rows": null,
       "height": null,
       "justify_content": null,
       "justify_items": null,
       "left": null,
       "margin": null,
       "max_height": null,
       "max_width": null,
       "min_height": null,
       "min_width": null,
       "object_fit": null,
       "object_position": null,
       "order": null,
       "overflow": null,
       "overflow_x": null,
       "overflow_y": null,
       "padding": null,
       "right": null,
       "top": null,
       "visibility": null,
       "width": null
      }
     },
     "9e28b4546abb45258bb8d5cb2fb2c1d3": {
      "model_module": "@jupyter-widgets/controls",
      "model_module_version": "1.5.0",
      "model_name": "ProgressStyleModel",
      "state": {
       "_model_module": "@jupyter-widgets/controls",
       "_model_module_version": "1.5.0",
       "_model_name": "ProgressStyleModel",
       "_view_count": null,
       "_view_module": "@jupyter-widgets/base",
       "_view_module_version": "1.2.0",
       "_view_name": "StyleView",
       "bar_color": null,
       "description_width": ""
      }
     },
     "9f475353eb4a44ecabf545692d0f3359": {
      "model_module": "@jupyter-widgets/controls",
      "model_module_version": "1.5.0",
      "model_name": "HTMLModel",
      "state": {
       "_dom_classes": [],
       "_model_module": "@jupyter-widgets/controls",
       "_model_module_version": "1.5.0",
       "_model_name": "HTMLModel",
       "_view_count": null,
       "_view_module": "@jupyter-widgets/controls",
       "_view_module_version": "1.5.0",
       "_view_name": "HTMLView",
       "description": "",
       "description_tooltip": null,
       "layout": "IPY_MODEL_cee9dd00b6f2442b8effa622127df062",
       "placeholder": "​",
       "style": "IPY_MODEL_1357a0182b8f42a2b374942a0e90969d",
       "value": "Downloading (…)lve/main/config.json: 100%"
      }
     },
     "9fcb53920b484890a2743f83ef089920": {
      "model_module": "@jupyter-widgets/base",
      "model_module_version": "1.2.0",
      "model_name": "LayoutModel",
      "state": {
       "_model_module": "@jupyter-widgets/base",
       "_model_module_version": "1.2.0",
       "_model_name": "LayoutModel",
       "_view_count": null,
       "_view_module": "@jupyter-widgets/base",
       "_view_module_version": "1.2.0",
       "_view_name": "LayoutView",
       "align_content": null,
       "align_items": null,
       "align_self": null,
       "border": null,
       "bottom": null,
       "display": null,
       "flex": null,
       "flex_flow": null,
       "grid_area": null,
       "grid_auto_columns": null,
       "grid_auto_flow": null,
       "grid_auto_rows": null,
       "grid_column": null,
       "grid_gap": null,
       "grid_row": null,
       "grid_template_areas": null,
       "grid_template_columns": null,
       "grid_template_rows": null,
       "height": null,
       "justify_content": null,
       "justify_items": null,
       "left": null,
       "margin": null,
       "max_height": null,
       "max_width": null,
       "min_height": null,
       "min_width": null,
       "object_fit": null,
       "object_position": null,
       "order": null,
       "overflow": null,
       "overflow_x": null,
       "overflow_y": null,
       "padding": null,
       "right": null,
       "top": null,
       "visibility": null,
       "width": null
      }
     },
     "a407645a46a54d5b8a9214e0a9c9d4c0": {
      "model_module": "@jupyter-widgets/controls",
      "model_module_version": "1.5.0",
      "model_name": "DescriptionStyleModel",
      "state": {
       "_model_module": "@jupyter-widgets/controls",
       "_model_module_version": "1.5.0",
       "_model_name": "DescriptionStyleModel",
       "_view_count": null,
       "_view_module": "@jupyter-widgets/base",
       "_view_module_version": "1.2.0",
       "_view_name": "StyleView",
       "description_width": ""
      }
     },
     "a8dd4b9eda9a4396aa87077f85638cc5": {
      "model_module": "@jupyter-widgets/controls",
      "model_module_version": "1.5.0",
      "model_name": "DescriptionStyleModel",
      "state": {
       "_model_module": "@jupyter-widgets/controls",
       "_model_module_version": "1.5.0",
       "_model_name": "DescriptionStyleModel",
       "_view_count": null,
       "_view_module": "@jupyter-widgets/base",
       "_view_module_version": "1.2.0",
       "_view_name": "StyleView",
       "description_width": ""
      }
     },
     "acd7900f19034b798eff3fed273f1a5d": {
      "model_module": "@jupyter-widgets/base",
      "model_module_version": "1.2.0",
      "model_name": "LayoutModel",
      "state": {
       "_model_module": "@jupyter-widgets/base",
       "_model_module_version": "1.2.0",
       "_model_name": "LayoutModel",
       "_view_count": null,
       "_view_module": "@jupyter-widgets/base",
       "_view_module_version": "1.2.0",
       "_view_name": "LayoutView",
       "align_content": null,
       "align_items": null,
       "align_self": null,
       "border": null,
       "bottom": null,
       "display": null,
       "flex": null,
       "flex_flow": null,
       "grid_area": null,
       "grid_auto_columns": null,
       "grid_auto_flow": null,
       "grid_auto_rows": null,
       "grid_column": null,
       "grid_gap": null,
       "grid_row": null,
       "grid_template_areas": null,
       "grid_template_columns": null,
       "grid_template_rows": null,
       "height": null,
       "justify_content": null,
       "justify_items": null,
       "left": null,
       "margin": null,
       "max_height": null,
       "max_width": null,
       "min_height": null,
       "min_width": null,
       "object_fit": null,
       "object_position": null,
       "order": null,
       "overflow": null,
       "overflow_x": null,
       "overflow_y": null,
       "padding": null,
       "right": null,
       "top": null,
       "visibility": null,
       "width": null
      }
     },
     "b31d8bf273d34a8689dc51ca6074a469": {
      "model_module": "@jupyter-widgets/base",
      "model_module_version": "1.2.0",
      "model_name": "LayoutModel",
      "state": {
       "_model_module": "@jupyter-widgets/base",
       "_model_module_version": "1.2.0",
       "_model_name": "LayoutModel",
       "_view_count": null,
       "_view_module": "@jupyter-widgets/base",
       "_view_module_version": "1.2.0",
       "_view_name": "LayoutView",
       "align_content": null,
       "align_items": null,
       "align_self": null,
       "border": null,
       "bottom": null,
       "display": null,
       "flex": null,
       "flex_flow": null,
       "grid_area": null,
       "grid_auto_columns": null,
       "grid_auto_flow": null,
       "grid_auto_rows": null,
       "grid_column": null,
       "grid_gap": null,
       "grid_row": null,
       "grid_template_areas": null,
       "grid_template_columns": null,
       "grid_template_rows": null,
       "height": null,
       "justify_content": null,
       "justify_items": null,
       "left": null,
       "margin": null,
       "max_height": null,
       "max_width": null,
       "min_height": null,
       "min_width": null,
       "object_fit": null,
       "object_position": null,
       "order": null,
       "overflow": null,
       "overflow_x": null,
       "overflow_y": null,
       "padding": null,
       "right": null,
       "top": null,
       "visibility": null,
       "width": null
      }
     },
     "b44a5515210644178b5b150d0021d793": {
      "model_module": "@jupyter-widgets/controls",
      "model_module_version": "1.5.0",
      "model_name": "HTMLModel",
      "state": {
       "_dom_classes": [],
       "_model_module": "@jupyter-widgets/controls",
       "_model_module_version": "1.5.0",
       "_model_name": "HTMLModel",
       "_view_count": null,
       "_view_module": "@jupyter-widgets/controls",
       "_view_module_version": "1.5.0",
       "_view_name": "HTMLView",
       "description": "",
       "description_tooltip": null,
       "layout": "IPY_MODEL_d9ee2e0224f045ffb35492f213bf00f2",
       "placeholder": "​",
       "style": "IPY_MODEL_32d69c4c3f88433cb74b1bd3e6d5d0b1",
       "value": "Downloading (…)/main/tokenizer.json: 100%"
      }
     },
     "b777133e25a543afb45859e888213b1c": {
      "model_module": "@jupyter-widgets/controls",
      "model_module_version": "1.5.0",
      "model_name": "FloatProgressModel",
      "state": {
       "_dom_classes": [],
       "_model_module": "@jupyter-widgets/controls",
       "_model_module_version": "1.5.0",
       "_model_name": "FloatProgressModel",
       "_view_count": null,
       "_view_module": "@jupyter-widgets/controls",
       "_view_module_version": "1.5.0",
       "_view_name": "ProgressView",
       "bar_style": "success",
       "description": "",
       "description_tooltip": null,
       "layout": "IPY_MODEL_4000ae6906134ab8942918ff9d8b5cd4",
       "max": 502.0,
       "min": 0.0,
       "orientation": "horizontal",
       "style": "IPY_MODEL_25e1bd3175b541939dfa6562234fedc9",
       "value": 502.0
      }
     },
     "b9b67a1bcc9547db966e0926d1691f37": {
      "model_module": "@jupyter-widgets/base",
      "model_module_version": "1.2.0",
      "model_name": "LayoutModel",
      "state": {
       "_model_module": "@jupyter-widgets/base",
       "_model_module_version": "1.2.0",
       "_model_name": "LayoutModel",
       "_view_count": null,
       "_view_module": "@jupyter-widgets/base",
       "_view_module_version": "1.2.0",
       "_view_name": "LayoutView",
       "align_content": null,
       "align_items": null,
       "align_self": null,
       "border": null,
       "bottom": null,
       "display": null,
       "flex": null,
       "flex_flow": null,
       "grid_area": null,
       "grid_auto_columns": null,
       "grid_auto_flow": null,
       "grid_auto_rows": null,
       "grid_column": null,
       "grid_gap": null,
       "grid_row": null,
       "grid_template_areas": null,
       "grid_template_columns": null,
       "grid_template_rows": null,
       "height": null,
       "justify_content": null,
       "justify_items": null,
       "left": null,
       "margin": null,
       "max_height": null,
       "max_width": null,
       "min_height": null,
       "min_width": null,
       "object_fit": null,
       "object_position": null,
       "order": null,
       "overflow": null,
       "overflow_x": null,
       "overflow_y": null,
       "padding": null,
       "right": null,
       "top": null,
       "visibility": null,
       "width": null
      }
     },
     "c0840d2f6c974d4fbba1a55e985a60c5": {
      "model_module": "@jupyter-widgets/controls",
      "model_module_version": "1.5.0",
      "model_name": "HTMLModel",
      "state": {
       "_dom_classes": [],
       "_model_module": "@jupyter-widgets/controls",
       "_model_module_version": "1.5.0",
       "_model_name": "HTMLModel",
       "_view_count": null,
       "_view_module": "@jupyter-widgets/controls",
       "_view_module_version": "1.5.0",
       "_view_name": "HTMLView",
       "description": "",
       "description_tooltip": null,
       "layout": "IPY_MODEL_269c90b52beb4df2b8694d52ec6295ee",
       "placeholder": "​",
       "style": "IPY_MODEL_a407645a46a54d5b8a9214e0a9c9d4c0",
       "value": " 160/160 [00:00&lt;00:00, 6.74kB/s]"
      }
     },
     "c7923f8478d74af9aa7ebb855673e139": {
      "model_module": "@jupyter-widgets/controls",
      "model_module_version": "1.5.0",
      "model_name": "HTMLModel",
      "state": {
       "_dom_classes": [],
       "_model_module": "@jupyter-widgets/controls",
       "_model_module_version": "1.5.0",
       "_model_name": "HTMLModel",
       "_view_count": null,
       "_view_module": "@jupyter-widgets/controls",
       "_view_module_version": "1.5.0",
       "_view_name": "HTMLView",
       "description": "",
       "description_tooltip": null,
       "layout": "IPY_MODEL_4d09ad7d6d0742ea988702c9cd8b2e21",
       "placeholder": "​",
       "style": "IPY_MODEL_f8a117126a074dfe94b97d797d8d5b70",
       "value": "Downloading (…)ve/main/spiece.model: 100%"
      }
     },
     "cb14907bc8b24f33b71a52f9129d65ba": {
      "model_module": "@jupyter-widgets/controls",
      "model_module_version": "1.5.0",
      "model_name": "FloatProgressModel",
      "state": {
       "_dom_classes": [],
       "_model_module": "@jupyter-widgets/controls",
       "_model_module_version": "1.5.0",
       "_model_name": "FloatProgressModel",
       "_view_count": null,
       "_view_module": "@jupyter-widgets/controls",
       "_view_module_version": "1.5.0",
       "_view_name": "ProgressView",
       "bar_style": "success",
       "description": "",
       "description_tooltip": null,
       "layout": "IPY_MODEL_7f6b9cc8f56b450fa354b7200053b2ab",
       "max": 160.0,
       "min": 0.0,
       "orientation": "horizontal",
       "style": "IPY_MODEL_9e28b4546abb45258bb8d5cb2fb2c1d3",
       "value": 160.0
      }
     },
     "ce7d75e3642a484bb2ae6c6802a9cfd2": {
      "model_module": "@jupyter-widgets/controls",
      "model_module_version": "1.5.0",
      "model_name": "DescriptionStyleModel",
      "state": {
       "_model_module": "@jupyter-widgets/controls",
       "_model_module_version": "1.5.0",
       "_model_name": "DescriptionStyleModel",
       "_view_count": null,
       "_view_module": "@jupyter-widgets/base",
       "_view_module_version": "1.2.0",
       "_view_name": "StyleView",
       "description_width": ""
      }
     },
     "cee9dd00b6f2442b8effa622127df062": {
      "model_module": "@jupyter-widgets/base",
      "model_module_version": "1.2.0",
      "model_name": "LayoutModel",
      "state": {
       "_model_module": "@jupyter-widgets/base",
       "_model_module_version": "1.2.0",
       "_model_name": "LayoutModel",
       "_view_count": null,
       "_view_module": "@jupyter-widgets/base",
       "_view_module_version": "1.2.0",
       "_view_name": "LayoutView",
       "align_content": null,
       "align_items": null,
       "align_self": null,
       "border": null,
       "bottom": null,
       "display": null,
       "flex": null,
       "flex_flow": null,
       "grid_area": null,
       "grid_auto_columns": null,
       "grid_auto_flow": null,
       "grid_auto_rows": null,
       "grid_column": null,
       "grid_gap": null,
       "grid_row": null,
       "grid_template_areas": null,
       "grid_template_columns": null,
       "grid_template_rows": null,
       "height": null,
       "justify_content": null,
       "justify_items": null,
       "left": null,
       "margin": null,
       "max_height": null,
       "max_width": null,
       "min_height": null,
       "min_width": null,
       "object_fit": null,
       "object_position": null,
       "order": null,
       "overflow": null,
       "overflow_x": null,
       "overflow_y": null,
       "padding": null,
       "right": null,
       "top": null,
       "visibility": null,
       "width": null
      }
     },
     "d16f037f4cd945f0ba3d0ebd3d44f237": {
      "model_module": "@jupyter-widgets/controls",
      "model_module_version": "1.5.0",
      "model_name": "HTMLModel",
      "state": {
       "_dom_classes": [],
       "_model_module": "@jupyter-widgets/controls",
       "_model_module_version": "1.5.0",
       "_model_name": "HTMLModel",
       "_view_count": null,
       "_view_module": "@jupyter-widgets/controls",
       "_view_module_version": "1.5.0",
       "_view_name": "HTMLView",
       "description": "",
       "description_tooltip": null,
       "layout": "IPY_MODEL_f630c11340e44a829c851e53eec69c73",
       "placeholder": "​",
       "style": "IPY_MODEL_a8dd4b9eda9a4396aa87077f85638cc5",
       "value": "Downloading (…)rocessor_config.json: 100%"
      }
     },
     "d5f36848bebc4369aeebf252d3cde1dc": {
      "model_module": "@jupyter-widgets/base",
      "model_module_version": "1.2.0",
      "model_name": "LayoutModel",
      "state": {
       "_model_module": "@jupyter-widgets/base",
       "_model_module_version": "1.2.0",
       "_model_name": "LayoutModel",
       "_view_count": null,
       "_view_module": "@jupyter-widgets/base",
       "_view_module_version": "1.2.0",
       "_view_name": "LayoutView",
       "align_content": null,
       "align_items": null,
       "align_self": null,
       "border": null,
       "bottom": null,
       "display": null,
       "flex": null,
       "flex_flow": null,
       "grid_area": null,
       "grid_auto_columns": null,
       "grid_auto_flow": null,
       "grid_auto_rows": null,
       "grid_column": null,
       "grid_gap": null,
       "grid_row": null,
       "grid_template_areas": null,
       "grid_template_columns": null,
       "grid_template_rows": null,
       "height": null,
       "justify_content": null,
       "justify_items": null,
       "left": null,
       "margin": null,
       "max_height": null,
       "max_width": null,
       "min_height": null,
       "min_width": null,
       "object_fit": null,
       "object_position": null,
       "order": null,
       "overflow": null,
       "overflow_x": null,
       "overflow_y": null,
       "padding": null,
       "right": null,
       "top": null,
       "visibility": null,
       "width": null
      }
     },
     "d5f7237c8daa4e5eb30342e1d6646f2f": {
      "model_module": "@jupyter-widgets/base",
      "model_module_version": "1.2.0",
      "model_name": "LayoutModel",
      "state": {
       "_model_module": "@jupyter-widgets/base",
       "_model_module_version": "1.2.0",
       "_model_name": "LayoutModel",
       "_view_count": null,
       "_view_module": "@jupyter-widgets/base",
       "_view_module_version": "1.2.0",
       "_view_name": "LayoutView",
       "align_content": null,
       "align_items": null,
       "align_self": null,
       "border": null,
       "bottom": null,
       "display": null,
       "flex": null,
       "flex_flow": null,
       "grid_area": null,
       "grid_auto_columns": null,
       "grid_auto_flow": null,
       "grid_auto_rows": null,
       "grid_column": null,
       "grid_gap": null,
       "grid_row": null,
       "grid_template_areas": null,
       "grid_template_columns": null,
       "grid_template_rows": null,
       "height": null,
       "justify_content": null,
       "justify_items": null,
       "left": null,
       "margin": null,
       "max_height": null,
       "max_width": null,
       "min_height": null,
       "min_width": null,
       "object_fit": null,
       "object_position": null,
       "order": null,
       "overflow": null,
       "overflow_x": null,
       "overflow_y": null,
       "padding": null,
       "right": null,
       "top": null,
       "visibility": null,
       "width": null
      }
     },
     "d6f0583dc459433db3f398833433162f": {
      "model_module": "@jupyter-widgets/controls",
      "model_module_version": "1.5.0",
      "model_name": "FloatProgressModel",
      "state": {
       "_dom_classes": [],
       "_model_module": "@jupyter-widgets/controls",
       "_model_module_version": "1.5.0",
       "_model_name": "FloatProgressModel",
       "_view_count": null,
       "_view_module": "@jupyter-widgets/controls",
       "_view_module_version": "1.5.0",
       "_view_name": "ProgressView",
       "bar_style": "success",
       "description": "",
       "description_tooltip": null,
       "layout": "IPY_MODEL_52084424a4d34007a407b88492863824",
       "max": 791656.0,
       "min": 0.0,
       "orientation": "horizontal",
       "style": "IPY_MODEL_ee033764455945d0813cad5a8e64a572",
       "value": 791656.0
      }
     },
     "d9ee2e0224f045ffb35492f213bf00f2": {
      "model_module": "@jupyter-widgets/base",
      "model_module_version": "1.2.0",
      "model_name": "LayoutModel",
      "state": {
       "_model_module": "@jupyter-widgets/base",
       "_model_module_version": "1.2.0",
       "_model_name": "LayoutModel",
       "_view_count": null,
       "_view_module": "@jupyter-widgets/base",
       "_view_module_version": "1.2.0",
       "_view_name": "LayoutView",
       "align_content": null,
       "align_items": null,
       "align_self": null,
       "border": null,
       "bottom": null,
       "display": null,
       "flex": null,
       "flex_flow": null,
       "grid_area": null,
       "grid_auto_columns": null,
       "grid_auto_flow": null,
       "grid_auto_rows": null,
       "grid_column": null,
       "grid_gap": null,
       "grid_row": null,
       "grid_template_areas": null,
       "grid_template_columns": null,
       "grid_template_rows": null,
       "height": null,
       "justify_content": null,
       "justify_items": null,
       "left": null,
       "margin": null,
       "max_height": null,
       "max_width": null,
       "min_height": null,
       "min_width": null,
       "object_fit": null,
       "object_position": null,
       "order": null,
       "overflow": null,
       "overflow_x": null,
       "overflow_y": null,
       "padding": null,
       "right": null,
       "top": null,
       "visibility": null,
       "width": null
      }
     },
     "e23b9618d0764f0a99223990bb4647a5": {
      "model_module": "@jupyter-widgets/controls",
      "model_module_version": "1.5.0",
      "model_name": "HTMLModel",
      "state": {
       "_dom_classes": [],
       "_model_module": "@jupyter-widgets/controls",
       "_model_module_version": "1.5.0",
       "_model_name": "HTMLModel",
       "_view_count": null,
       "_view_module": "@jupyter-widgets/controls",
       "_view_module_version": "1.5.0",
       "_view_name": "HTMLView",
       "description": "",
       "description_tooltip": null,
       "layout": "IPY_MODEL_9e190fe423a749fbb18e4841b7f72a1d",
       "placeholder": "​",
       "style": "IPY_MODEL_5a774ac45c47442bb42b12530cb06478",
       "value": "Downloading pytorch_model.bin: 100%"
      }
     },
     "eab2ed2e0a4f49549479c4d1befafe48": {
      "model_module": "@jupyter-widgets/controls",
      "model_module_version": "1.5.0",
      "model_name": "DescriptionStyleModel",
      "state": {
       "_model_module": "@jupyter-widgets/controls",
       "_model_module_version": "1.5.0",
       "_model_name": "DescriptionStyleModel",
       "_view_count": null,
       "_view_module": "@jupyter-widgets/base",
       "_view_module_version": "1.2.0",
       "_view_name": "StyleView",
       "description_width": ""
      }
     },
     "ee033764455945d0813cad5a8e64a572": {
      "model_module": "@jupyter-widgets/controls",
      "model_module_version": "1.5.0",
      "model_name": "ProgressStyleModel",
      "state": {
       "_model_module": "@jupyter-widgets/controls",
       "_model_module_version": "1.5.0",
       "_model_name": "ProgressStyleModel",
       "_view_count": null,
       "_view_module": "@jupyter-widgets/base",
       "_view_module_version": "1.2.0",
       "_view_name": "StyleView",
       "bar_color": null,
       "description_width": ""
      }
     },
     "f3958d8fae57456399161639a9e178f7": {
      "model_module": "@jupyter-widgets/base",
      "model_module_version": "1.2.0",
      "model_name": "LayoutModel",
      "state": {
       "_model_module": "@jupyter-widgets/base",
       "_model_module_version": "1.2.0",
       "_model_name": "LayoutModel",
       "_view_count": null,
       "_view_module": "@jupyter-widgets/base",
       "_view_module_version": "1.2.0",
       "_view_name": "LayoutView",
       "align_content": null,
       "align_items": null,
       "align_self": null,
       "border": null,
       "bottom": null,
       "display": null,
       "flex": null,
       "flex_flow": null,
       "grid_area": null,
       "grid_auto_columns": null,
       "grid_auto_flow": null,
       "grid_auto_rows": null,
       "grid_column": null,
       "grid_gap": null,
       "grid_row": null,
       "grid_template_areas": null,
       "grid_template_columns": null,
       "grid_template_rows": null,
       "height": null,
       "justify_content": null,
       "justify_items": null,
       "left": null,
       "margin": null,
       "max_height": null,
       "max_width": null,
       "min_height": null,
       "min_width": null,
       "object_fit": null,
       "object_position": null,
       "order": null,
       "overflow": null,
       "overflow_x": null,
       "overflow_y": null,
       "padding": null,
       "right": null,
       "top": null,
       "visibility": null,
       "width": null
      }
     },
     "f572850e6f194ba0ba5578ec2916c58a": {
      "model_module": "@jupyter-widgets/controls",
      "model_module_version": "1.5.0",
      "model_name": "FloatProgressModel",
      "state": {
       "_dom_classes": [],
       "_model_module": "@jupyter-widgets/controls",
       "_model_module_version": "1.5.0",
       "_model_name": "FloatProgressModel",
       "_view_count": null,
       "_view_module": "@jupyter-widgets/controls",
       "_view_module_version": "1.5.0",
       "_view_name": "ProgressView",
       "bar_style": "success",
       "description": "",
       "description_tooltip": null,
       "layout": "IPY_MODEL_9fcb53920b484890a2743f83ef089920",
       "max": 1389353.0,
       "min": 0.0,
       "orientation": "horizontal",
       "style": "IPY_MODEL_1fbb5a9f7bc7440faadad892c9d2132a",
       "value": 1389353.0
      }
     },
     "f630c11340e44a829c851e53eec69c73": {
      "model_module": "@jupyter-widgets/base",
      "model_module_version": "1.2.0",
      "model_name": "LayoutModel",
      "state": {
       "_model_module": "@jupyter-widgets/base",
       "_model_module_version": "1.2.0",
       "_model_name": "LayoutModel",
       "_view_count": null,
       "_view_module": "@jupyter-widgets/base",
       "_view_module_version": "1.2.0",
       "_view_name": "LayoutView",
       "align_content": null,
       "align_items": null,
       "align_self": null,
       "border": null,
       "bottom": null,
       "display": null,
       "flex": null,
       "flex_flow": null,
       "grid_area": null,
       "grid_auto_columns": null,
       "grid_auto_flow": null,
       "grid_auto_rows": null,
       "grid_column": null,
       "grid_gap": null,
       "grid_row": null,
       "grid_template_areas": null,
       "grid_template_columns": null,
       "grid_template_rows": null,
       "height": null,
       "justify_content": null,
       "justify_items": null,
       "left": null,
       "margin": null,
       "max_height": null,
       "max_width": null,
       "min_height": null,
       "min_width": null,
       "object_fit": null,
       "object_position": null,
       "order": null,
       "overflow": null,
       "overflow_x": null,
       "overflow_y": null,
       "padding": null,
       "right": null,
       "top": null,
       "visibility": null,
       "width": null
      }
     },
     "f8a117126a074dfe94b97d797d8d5b70": {
      "model_module": "@jupyter-widgets/controls",
      "model_module_version": "1.5.0",
      "model_name": "DescriptionStyleModel",
      "state": {
       "_model_module": "@jupyter-widgets/controls",
       "_model_module_version": "1.5.0",
       "_model_name": "DescriptionStyleModel",
       "_view_count": null,
       "_view_module": "@jupyter-widgets/base",
       "_view_module_version": "1.2.0",
       "_view_name": "StyleView",
       "description_width": ""
      }
     },
     "fbd565167eb8474bb014f2643f6519b4": {
      "model_module": "@jupyter-widgets/controls",
      "model_module_version": "1.5.0",
      "model_name": "HTMLModel",
      "state": {
       "_dom_classes": [],
       "_model_module": "@jupyter-widgets/controls",
       "_model_module_version": "1.5.0",
       "_model_name": "HTMLModel",
       "_view_count": null,
       "_view_module": "@jupyter-widgets/controls",
       "_view_module_version": "1.5.0",
       "_view_name": "HTMLView",
       "description": "",
       "description_tooltip": null,
       "layout": "IPY_MODEL_b9b67a1bcc9547db966e0926d1691f37",
       "placeholder": "​",
       "style": "IPY_MODEL_ce7d75e3642a484bb2ae6c6802a9cfd2",
       "value": " 502/502 [00:00&lt;00:00, 25.5kB/s]"
      }
     },
     "fe01fcd40604462b9572ed2a9fd45e96": {
      "model_module": "@jupyter-widgets/base",
      "model_module_version": "1.2.0",
      "model_name": "LayoutModel",
      "state": {
       "_model_module": "@jupyter-widgets/base",
       "_model_module_version": "1.2.0",
       "_model_name": "LayoutModel",
       "_view_count": null,
       "_view_module": "@jupyter-widgets/base",
       "_view_module_version": "1.2.0",
       "_view_name": "LayoutView",
       "align_content": null,
       "align_items": null,
       "align_self": null,
       "border": null,
       "bottom": null,
       "display": null,
       "flex": null,
       "flex_flow": null,
       "grid_area": null,
       "grid_auto_columns": null,
       "grid_auto_flow": null,
       "grid_auto_rows": null,
       "grid_column": null,
       "grid_gap": null,
       "grid_row": null,
       "grid_template_areas": null,
       "grid_template_columns": null,
       "grid_template_rows": null,
       "height": null,
       "justify_content": null,
       "justify_items": null,
       "left": null,
       "margin": null,
       "max_height": null,
       "max_width": null,
       "min_height": null,
       "min_width": null,
       "object_fit": null,
       "object_position": null,
       "order": null,
       "overflow": null,
       "overflow_x": null,
       "overflow_y": null,
       "padding": null,
       "right": null,
       "top": null,
       "visibility": null,
       "width": null
      }
     },
     "feacd9922175432d8c2b1966d57c41cd": {
      "model_module": "@jupyter-widgets/controls",
      "model_module_version": "1.5.0",
      "model_name": "DescriptionStyleModel",
      "state": {
       "_model_module": "@jupyter-widgets/controls",
       "_model_module_version": "1.5.0",
       "_model_name": "DescriptionStyleModel",
       "_view_count": null,
       "_view_module": "@jupyter-widgets/base",
       "_view_module_version": "1.2.0",
       "_view_name": "StyleView",
       "description_width": ""
      }
     }
    },
    "version_major": 2,
    "version_minor": 0
   }
  }
 },
 "nbformat": 4,
 "nbformat_minor": 5
}
