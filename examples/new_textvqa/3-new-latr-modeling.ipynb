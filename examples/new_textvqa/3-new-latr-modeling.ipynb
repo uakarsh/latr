{
 "cells": [
  {
   "cell_type": "code",
   "execution_count": 1,
   "id": "a0cf5dab",
   "metadata": {
    "execution": {
     "iopub.execute_input": "2023-05-02T05:40:49.030049Z",
     "iopub.status.busy": "2023-05-02T05:40:49.029636Z",
     "iopub.status.idle": "2023-05-02T05:40:51.045538Z",
     "shell.execute_reply": "2023-05-02T05:40:51.044174Z"
    },
    "papermill": {
     "duration": 2.027308,
     "end_time": "2023-05-02T05:40:51.048460",
     "exception": false,
     "start_time": "2023-05-02T05:40:49.021152",
     "status": "completed"
    },
    "tags": []
   },
   "outputs": [
    {
     "name": "stdout",
     "output_type": "stream",
     "text": [
      "Cloning into 'latr'...\r\n",
      "remote: Enumerating objects: 314, done.\u001b[K\r\n",
      "remote: Counting objects: 100% (150/150), done.\u001b[K\r\n",
      "remote: Compressing objects: 100% (74/74), done.\u001b[K\r\n",
      "remote: Total 314 (delta 99), reused 106 (delta 74), pack-reused 164\u001b[K\r\n",
      "Receiving objects: 100% (314/314), 4.79 MiB | 15.78 MiB/s, done.\r\n",
      "Resolving deltas: 100% (128/128), done.\r\n"
     ]
    }
   ],
   "source": [
    "!git clone https://github.com/uakarsh/latr.git"
   ]
  },
  {
   "cell_type": "code",
   "execution_count": 2,
   "id": "cc61ab60",
   "metadata": {
    "execution": {
     "iopub.execute_input": "2023-05-02T05:40:51.063827Z",
     "iopub.status.busy": "2023-05-02T05:40:51.063472Z",
     "iopub.status.idle": "2023-05-02T05:41:01.579072Z",
     "shell.execute_reply": "2023-05-02T05:41:01.577696Z"
    },
    "papermill": {
     "duration": 10.526181,
     "end_time": "2023-05-02T05:41:01.581805",
     "exception": false,
     "start_time": "2023-05-02T05:40:51.055624",
     "status": "completed"
    },
    "tags": []
   },
   "outputs": [],
   "source": [
    "!pip -qqq install -r ./latr/requirements.txt"
   ]
  },
  {
   "cell_type": "code",
   "execution_count": 3,
   "id": "706b1136",
   "metadata": {
    "execution": {
     "iopub.execute_input": "2023-05-02T05:41:01.597478Z",
     "iopub.status.busy": "2023-05-02T05:41:01.597163Z",
     "iopub.status.idle": "2023-05-02T05:41:04.273454Z",
     "shell.execute_reply": "2023-05-02T05:41:04.272118Z"
    },
    "papermill": {
     "duration": 2.687564,
     "end_time": "2023-05-02T05:41:04.276726",
     "exception": false,
     "start_time": "2023-05-02T05:41:01.589162",
     "status": "completed"
    },
    "tags": []
   },
   "outputs": [],
   "source": [
    "!sudo apt install -qqq tesseract-ocr"
   ]
  },
  {
   "cell_type": "code",
   "execution_count": 4,
   "id": "d46bb6e1",
   "metadata": {
    "execution": {
     "iopub.execute_input": "2023-05-02T05:41:04.291709Z",
     "iopub.status.busy": "2023-05-02T05:41:04.291399Z",
     "iopub.status.idle": "2023-05-02T05:41:11.183786Z",
     "shell.execute_reply": "2023-05-02T05:41:11.182657Z"
    },
    "papermill": {
     "duration": 6.903374,
     "end_time": "2023-05-02T05:41:11.186886",
     "exception": false,
     "start_time": "2023-05-02T05:41:04.283512",
     "status": "completed"
    },
    "tags": []
   },
   "outputs": [],
   "source": [
    "## Default Library import\n",
    "\n",
    "import os\n",
    "os.environ['TOKENIZERS_PARALLELISM'] = 'false'\n",
    "\n",
    "import json\n",
    "from tqdm.auto import tqdm\n",
    "import pandas as pd\n",
    "\n",
    "from transformers import AutoTokenizer, AutoConfig, AutoProcessor\n",
    "from transformers import T5ForConditionalGeneration, ViTModel\n",
    "import torch.nn as nn\n",
    "import torch\n",
    "\n",
    "from torch.utils.data import DataLoader\n",
    "\n",
    "## Setting up the device for GPU usage\n",
    "from torch import cuda\n",
    "device = 'cuda' if cuda.is_available() else 'cpu'\n",
    "import pytorch_lightning as pl"
   ]
  },
  {
   "cell_type": "code",
   "execution_count": 5,
   "id": "1abd154a",
   "metadata": {
    "execution": {
     "iopub.execute_input": "2023-05-02T05:41:11.202237Z",
     "iopub.status.busy": "2023-05-02T05:41:11.201618Z",
     "iopub.status.idle": "2023-05-02T05:41:11.213834Z",
     "shell.execute_reply": "2023-05-02T05:41:11.212886Z"
    },
    "papermill": {
     "duration": 0.022488,
     "end_time": "2023-05-02T05:41:11.216111",
     "exception": false,
     "start_time": "2023-05-02T05:41:11.193623",
     "status": "completed"
    },
    "tags": []
   },
   "outputs": [],
   "source": [
    "import sys\n",
    "sys.path.append(\"./latr/src/new_latr/\")\n",
    "\n",
    "from dataset import TextVQA\n",
    "from utils import collate, draw_bounding_box_on_pil_image"
   ]
  },
  {
   "cell_type": "code",
   "execution_count": 6,
   "id": "9a701467",
   "metadata": {
    "execution": {
     "iopub.execute_input": "2023-05-02T05:41:11.230508Z",
     "iopub.status.busy": "2023-05-02T05:41:11.230234Z",
     "iopub.status.idle": "2023-05-02T05:41:11.235155Z",
     "shell.execute_reply": "2023-05-02T05:41:11.234184Z"
    },
    "papermill": {
     "duration": 0.014673,
     "end_time": "2023-05-02T05:41:11.237470",
     "exception": false,
     "start_time": "2023-05-02T05:41:11.222797",
     "status": "completed"
    },
    "tags": []
   },
   "outputs": [],
   "source": [
    "## Setting the hyperparameters as well as primary configurations\n",
    "\n",
    "PAD_TOKEN_BOX = [0, 0, 0, 0]\n",
    "QUESTION_BOX = [0, 0, 0, 0]\n",
    "EOS_BOX = [0, 0, 0, 0]\n",
    "\n",
    "batch_size = 2\n",
    "target_size = (224,224)\n",
    "t5_model = \"t5-base\""
   ]
  },
  {
   "cell_type": "code",
   "execution_count": 7,
   "id": "0a3f4396",
   "metadata": {
    "execution": {
     "iopub.execute_input": "2023-05-02T05:41:11.251350Z",
     "iopub.status.busy": "2023-05-02T05:41:11.251084Z",
     "iopub.status.idle": "2023-05-02T05:41:19.565594Z",
     "shell.execute_reply": "2023-05-02T05:41:19.564498Z"
    },
    "papermill": {
     "duration": 8.324642,
     "end_time": "2023-05-02T05:41:19.568422",
     "exception": false,
     "start_time": "2023-05-02T05:41:11.243780",
     "status": "completed"
    },
    "tags": []
   },
   "outputs": [
    {
     "data": {
      "application/vnd.jupyter.widget-view+json": {
       "model_id": "73fc432fefb64ba39fc1ce644f00c76c",
       "version_major": 2,
       "version_minor": 0
      },
      "text/plain": [
       "Downloading (…)lve/main/config.json:   0%|          | 0.00/1.21k [00:00<?, ?B/s]"
      ]
     },
     "metadata": {},
     "output_type": "display_data"
    },
    {
     "data": {
      "application/vnd.jupyter.widget-view+json": {
       "model_id": "824e0e23552f4bf581c28626b4685751",
       "version_major": 2,
       "version_minor": 0
      },
      "text/plain": [
       "Downloading (…)ve/main/spiece.model:   0%|          | 0.00/792k [00:00<?, ?B/s]"
      ]
     },
     "metadata": {},
     "output_type": "display_data"
    },
    {
     "data": {
      "application/vnd.jupyter.widget-view+json": {
       "model_id": "74a9b85f3b78462292951be33e896ba2",
       "version_major": 2,
       "version_minor": 0
      },
      "text/plain": [
       "Downloading (…)/main/tokenizer.json:   0%|          | 0.00/1.39M [00:00<?, ?B/s]"
      ]
     },
     "metadata": {},
     "output_type": "display_data"
    },
    {
     "name": "stderr",
     "output_type": "stream",
     "text": [
      "/opt/conda/lib/python3.7/site-packages/transformers/models/t5/tokenization_t5_fast.py:165: FutureWarning: This tokenizer was incorrectly instantiated with a model max length of 512 which will be corrected in Transformers v5.\n",
      "For now, this behavior is kept to avoid breaking backwards compatibility when padding/encoding with `truncation is True`.\n",
      "- Be aware that you SHOULD NOT rely on t5-base automatically truncating your input to 512 when padding/encoding.\n",
      "- If you want to encode/pad to sequences longer than 512 you can either instantiate this tokenizer with `model_max_length` or pass `max_length` when encoding/padding.\n",
      "- To avoid this warning, please instantiate this tokenizer with `model_max_length` set to your preferred value.\n",
      "  FutureWarning,\n"
     ]
    },
    {
     "data": {
      "application/vnd.jupyter.widget-view+json": {
       "model_id": "b9b0b6417a2b48ad8319dcc512d469f7",
       "version_major": 2,
       "version_minor": 0
      },
      "text/plain": [
       "Downloading (…)rocessor_config.json:   0%|          | 0.00/160 [00:00<?, ?B/s]"
      ]
     },
     "metadata": {},
     "output_type": "display_data"
    },
    {
     "data": {
      "application/vnd.jupyter.widget-view+json": {
       "model_id": "ba5b089e21ec4d6da4c11187c2e66d99",
       "version_major": 2,
       "version_minor": 0
      },
      "text/plain": [
       "Downloading (…)lve/main/config.json:   0%|          | 0.00/502 [00:00<?, ?B/s]"
      ]
     },
     "metadata": {},
     "output_type": "display_data"
    }
   ],
   "source": [
    "model_name = 't5-base'\n",
    "model_config = AutoConfig.from_pretrained(model_name)\n",
    "\n",
    "max_2d_position_embeddings = 1024\n",
    "vit_model = \"google/vit-base-patch16-224-in21k\"\n",
    "model_config.update({\"max_2d_position_embeddings\" : max_2d_position_embeddings,\n",
    "                    \"vit_model\" : vit_model})\n",
    "\n",
    "tokenizer = AutoTokenizer.from_pretrained(model_name, use_fast = True)\n",
    "processor = AutoProcessor.from_pretrained(vit_model)"
   ]
  },
  {
   "cell_type": "code",
   "execution_count": 8,
   "id": "62ace6e8",
   "metadata": {
    "execution": {
     "iopub.execute_input": "2023-05-02T05:41:19.586468Z",
     "iopub.status.busy": "2023-05-02T05:41:19.585527Z",
     "iopub.status.idle": "2023-05-02T05:41:19.591505Z",
     "shell.execute_reply": "2023-05-02T05:41:19.590603Z"
    },
    "papermill": {
     "duration": 0.016473,
     "end_time": "2023-05-02T05:41:19.593568",
     "exception": false,
     "start_time": "2023-05-02T05:41:19.577095",
     "status": "completed"
    },
    "tags": []
   },
   "outputs": [],
   "source": [
    "base_path = '/kaggle/input/new-textvqa-dataset-mine'\n",
    "ocr_json_path = os.path.join(base_path, 'TextVQA_Rosetta_OCR_v0.2_train.json')\n",
    "train_json_path = os.path.join(base_path, 'TextVQA_0.5.1_train.json')\n",
    "\n",
    "val_ocr_json_path = os.path.join(base_path, 'TextVQA_Rosetta_OCR_v0.2_val.json')\n",
    "val_json_path = os.path.join(base_path, 'TextVQA_0.5.1_val.json')"
   ]
  },
  {
   "cell_type": "code",
   "execution_count": 9,
   "id": "b2ae41ee",
   "metadata": {
    "execution": {
     "iopub.execute_input": "2023-05-02T05:41:19.609240Z",
     "iopub.status.busy": "2023-05-02T05:41:19.608959Z",
     "iopub.status.idle": "2023-05-02T05:41:23.012561Z",
     "shell.execute_reply": "2023-05-02T05:41:23.011478Z"
    },
    "papermill": {
     "duration": 3.414445,
     "end_time": "2023-05-02T05:41:23.015291",
     "exception": false,
     "start_time": "2023-05-02T05:41:19.600846",
     "status": "completed"
    },
    "tags": []
   },
   "outputs": [],
   "source": [
    "with open(ocr_json_path) as f:\n",
    "    train_ocr_json = json.load(f)['data']\n",
    "with open(train_json_path) as f:\n",
    "    train_json = json.load(f)['data']\n",
    "    \n",
    "## Validation\n",
    "with open(val_ocr_json_path) as f:\n",
    "    val_ocr_json = json.load(f)['data']\n",
    "with open(val_json_path) as f:\n",
    "    val_json = json.load(f)['data']"
   ]
  },
  {
   "cell_type": "code",
   "execution_count": 10,
   "id": "bbc9fe22",
   "metadata": {
    "execution": {
     "iopub.execute_input": "2023-05-02T05:41:23.034342Z",
     "iopub.status.busy": "2023-05-02T05:41:23.033396Z",
     "iopub.status.idle": "2023-05-02T05:41:23.163745Z",
     "shell.execute_reply": "2023-05-02T05:41:23.162571Z"
    },
    "papermill": {
     "duration": 0.142018,
     "end_time": "2023-05-02T05:41:23.166743",
     "exception": false,
     "start_time": "2023-05-02T05:41:23.024725",
     "status": "completed"
    },
    "tags": []
   },
   "outputs": [],
   "source": [
    "## Useful for the key-value extraction\n",
    "\n",
    "train_json_df = pd.DataFrame(train_json)\n",
    "train_ocr_json_df = pd.DataFrame(train_ocr_json)\n",
    "\n",
    "val_json_df = pd.DataFrame(val_json)\n",
    "val_ocr_json_df = pd.DataFrame(val_ocr_json)"
   ]
  },
  {
   "cell_type": "code",
   "execution_count": 11,
   "id": "2f3f61a7",
   "metadata": {
    "execution": {
     "iopub.execute_input": "2023-05-02T05:41:23.185547Z",
     "iopub.status.busy": "2023-05-02T05:41:23.184593Z",
     "iopub.status.idle": "2023-05-02T05:41:23.241517Z",
     "shell.execute_reply": "2023-05-02T05:41:23.240443Z"
    },
    "papermill": {
     "duration": 0.068778,
     "end_time": "2023-05-02T05:41:23.244038",
     "exception": false,
     "start_time": "2023-05-02T05:41:23.175260",
     "status": "completed"
    },
    "tags": []
   },
   "outputs": [],
   "source": [
    "train_json_df.drop(columns = ['flickr_original_url', 'flickr_300k_url','image_classes', 'question_tokens',# 'path_exists'\n",
    "                              ], axis = 1, inplace = True)\n",
    "\n",
    "val_json_df.drop(columns = ['flickr_original_url', 'flickr_300k_url','image_classes', 'question_tokens',# 'path_exists'\n",
    "                              ], axis = 1, inplace = True)\n",
    "## Deleting the json\n",
    "\n",
    "del train_json\n",
    "del train_ocr_json\n",
    "del val_json\n",
    "del val_ocr_json"
   ]
  },
  {
   "cell_type": "code",
   "execution_count": 12,
   "id": "6dc0853a",
   "metadata": {
    "execution": {
     "iopub.execute_input": "2023-05-02T05:41:23.260840Z",
     "iopub.status.busy": "2023-05-02T05:41:23.260206Z",
     "iopub.status.idle": "2023-05-02T05:41:23.265366Z",
     "shell.execute_reply": "2023-05-02T05:41:23.264366Z"
    },
    "papermill": {
     "duration": 0.015717,
     "end_time": "2023-05-02T05:41:23.267561",
     "exception": false,
     "start_time": "2023-05-02T05:41:23.251844",
     "status": "completed"
    },
    "tags": []
   },
   "outputs": [],
   "source": [
    "base_img_path = os.path.join(base_path, 'train_val_images', 'train_images')"
   ]
  },
  {
   "cell_type": "code",
   "execution_count": 13,
   "id": "9a0a2d3c",
   "metadata": {
    "execution": {
     "iopub.execute_input": "2023-05-02T05:41:23.283607Z",
     "iopub.status.busy": "2023-05-02T05:41:23.283318Z",
     "iopub.status.idle": "2023-05-02T05:41:23.287775Z",
     "shell.execute_reply": "2023-05-02T05:41:23.286664Z"
    },
    "papermill": {
     "duration": 0.015004,
     "end_time": "2023-05-02T05:41:23.289983",
     "exception": false,
     "start_time": "2023-05-02T05:41:23.274979",
     "status": "completed"
    },
    "tags": []
   },
   "outputs": [],
   "source": [
    "max_seq_len = -1"
   ]
  },
  {
   "cell_type": "code",
   "execution_count": 14,
   "id": "4501a5d9",
   "metadata": {
    "execution": {
     "iopub.execute_input": "2023-05-02T05:41:23.305853Z",
     "iopub.status.busy": "2023-05-02T05:41:23.305545Z",
     "iopub.status.idle": "2023-05-02T05:41:23.311180Z",
     "shell.execute_reply": "2023-05-02T05:41:23.310105Z"
    },
    "papermill": {
     "duration": 0.016446,
     "end_time": "2023-05-02T05:41:23.313676",
     "exception": false,
     "start_time": "2023-05-02T05:41:23.297230",
     "status": "completed"
    },
    "tags": []
   },
   "outputs": [],
   "source": [
    "train_ds = TextVQA(base_img_path = base_img_path,\n",
    "                   json_df = train_json_df,\n",
    "                   ocr_json_df = train_ocr_json_df,\n",
    "                   tokenizer = tokenizer,\n",
    "                   transform = processor, \n",
    "                   max_seq_length = max_seq_len, \n",
    "                   )\n",
    "\n",
    "val_ds = TextVQA(base_img_path = base_img_path,\n",
    "                   json_df = val_json_df,\n",
    "                   ocr_json_df = val_ocr_json_df,\n",
    "                   tokenizer = tokenizer,\n",
    "                   transform = processor, \n",
    "                   max_seq_length = max_seq_len, \n",
    "                   )"
   ]
  },
  {
   "cell_type": "code",
   "execution_count": 15,
   "id": "c8ec1b57",
   "metadata": {
    "execution": {
     "iopub.execute_input": "2023-05-02T05:41:23.329343Z",
     "iopub.status.busy": "2023-05-02T05:41:23.329085Z",
     "iopub.status.idle": "2023-05-02T05:41:23.333444Z",
     "shell.execute_reply": "2023-05-02T05:41:23.332309Z"
    },
    "papermill": {
     "duration": 0.014744,
     "end_time": "2023-05-02T05:41:23.335803",
     "exception": false,
     "start_time": "2023-05-02T05:41:23.321059",
     "status": "completed"
    },
    "tags": []
   },
   "outputs": [],
   "source": [
    "# encoding = train_ds[500]\n",
    "# print(tokenizer.decode(encoding['input_ids'], skip_special_tokens = True))\n",
    "# print(tokenizer.decode(encoding['labels'], skip_special_tokens = True))"
   ]
  },
  {
   "cell_type": "code",
   "execution_count": 16,
   "id": "5f0bf175",
   "metadata": {
    "execution": {
     "iopub.execute_input": "2023-05-02T05:41:23.351376Z",
     "iopub.status.busy": "2023-05-02T05:41:23.351116Z",
     "iopub.status.idle": "2023-05-02T05:41:23.355746Z",
     "shell.execute_reply": "2023-05-02T05:41:23.354150Z"
    },
    "papermill": {
     "duration": 0.015052,
     "end_time": "2023-05-02T05:41:23.358039",
     "exception": false,
     "start_time": "2023-05-02T05:41:23.342987",
     "status": "completed"
    },
    "tags": []
   },
   "outputs": [],
   "source": [
    "# from torchvision.transforms import ToPILImage\n",
    "# pil_image = ToPILImage()(encoding['pixel_values']).resize((1000, 1000))\n",
    "# visualized_pil_image = draw_bounding_box_on_pil_image(pil_image, encoding['bbox'], outline = 'red')"
   ]
  },
  {
   "cell_type": "code",
   "execution_count": 17,
   "id": "18451af0",
   "metadata": {
    "execution": {
     "iopub.execute_input": "2023-05-02T05:41:23.373331Z",
     "iopub.status.busy": "2023-05-02T05:41:23.373058Z",
     "iopub.status.idle": "2023-05-02T05:41:23.377217Z",
     "shell.execute_reply": "2023-05-02T05:41:23.376084Z"
    },
    "papermill": {
     "duration": 0.014456,
     "end_time": "2023-05-02T05:41:23.379510",
     "exception": false,
     "start_time": "2023-05-02T05:41:23.365054",
     "status": "completed"
    },
    "tags": []
   },
   "outputs": [],
   "source": [
    "# first_sample = train_ds[22]\n",
    "# second_sample = train_ds[25]\n",
    "\n",
    "# batch_encoding = collate([first_sample, second_sample])\n",
    "\n",
    "# for key in batch_encoding:\n",
    "#     print(f\"Key : {key}, has shape {batch_encoding[key].shape}\")"
   ]
  },
  {
   "cell_type": "code",
   "execution_count": 18,
   "id": "3d87de10",
   "metadata": {
    "execution": {
     "iopub.execute_input": "2023-05-02T05:41:23.394800Z",
     "iopub.status.busy": "2023-05-02T05:41:23.394512Z",
     "iopub.status.idle": "2023-05-02T05:41:23.400970Z",
     "shell.execute_reply": "2023-05-02T05:41:23.399893Z"
    },
    "papermill": {
     "duration": 0.016907,
     "end_time": "2023-05-02T05:41:23.403442",
     "exception": false,
     "start_time": "2023-05-02T05:41:23.386535",
     "status": "completed"
    },
    "tags": []
   },
   "outputs": [],
   "source": [
    "class DataModule(pl.LightningDataModule):\n",
    "\n",
    "  def __init__(self, train_dataset, val_dataset,  batch_size = 1):\n",
    "\n",
    "    super(DataModule, self).__init__()\n",
    "    self.train_dataset = train_dataset\n",
    "    self.val_dataset = val_dataset\n",
    "    self.batch_size = batch_size\n",
    "\n",
    "  def train_dataloader(self):\n",
    "    return DataLoader(self.train_dataset, batch_size = self.batch_size, \n",
    "                      collate_fn = collate, shuffle = True)\n",
    "  \n",
    "  def val_dataloader(self):\n",
    "    return DataLoader(self.val_dataset, batch_size = self.batch_size,\n",
    "                                  collate_fn = collate, shuffle = False)\n"
   ]
  },
  {
   "cell_type": "code",
   "execution_count": 19,
   "id": "0c02852d",
   "metadata": {
    "execution": {
     "iopub.execute_input": "2023-05-02T05:41:23.419371Z",
     "iopub.status.busy": "2023-05-02T05:41:23.418587Z",
     "iopub.status.idle": "2023-05-02T05:41:23.423277Z",
     "shell.execute_reply": "2023-05-02T05:41:23.422387Z"
    },
    "papermill": {
     "duration": 0.014713,
     "end_time": "2023-05-02T05:41:23.425274",
     "exception": false,
     "start_time": "2023-05-02T05:41:23.410561",
     "status": "completed"
    },
    "tags": []
   },
   "outputs": [],
   "source": [
    "dl = DataModule(train_ds, val_ds)"
   ]
  },
  {
   "cell_type": "code",
   "execution_count": 20,
   "id": "8e782a61",
   "metadata": {
    "execution": {
     "iopub.execute_input": "2023-05-02T05:41:23.441409Z",
     "iopub.status.busy": "2023-05-02T05:41:23.440656Z",
     "iopub.status.idle": "2023-05-02T05:41:23.545934Z",
     "shell.execute_reply": "2023-05-02T05:41:23.544994Z"
    },
    "papermill": {
     "duration": 0.115933,
     "end_time": "2023-05-02T05:41:23.548412",
     "exception": false,
     "start_time": "2023-05-02T05:41:23.432479",
     "status": "completed"
    },
    "tags": []
   },
   "outputs": [],
   "source": [
    "sample = next(iter(dl.train_dataloader()))"
   ]
  },
  {
   "cell_type": "code",
   "execution_count": 21,
   "id": "7a5a30d9",
   "metadata": {
    "execution": {
     "iopub.execute_input": "2023-05-02T05:41:23.564408Z",
     "iopub.status.busy": "2023-05-02T05:41:23.564132Z",
     "iopub.status.idle": "2023-05-02T05:41:27.802048Z",
     "shell.execute_reply": "2023-05-02T05:41:27.799923Z"
    },
    "papermill": {
     "duration": 4.24858,
     "end_time": "2023-05-02T05:41:27.804547",
     "exception": false,
     "start_time": "2023-05-02T05:41:23.555967",
     "status": "completed"
    },
    "tags": []
   },
   "outputs": [
    {
     "name": "stdout",
     "output_type": "stream",
     "text": [
      "Key : img, has shape : torch.Size([1, 3, 224, 224])\n",
      "Key : bbox, has shape : torch.Size([1, 40, 6])\n",
      "Key : input_ids, has shape : torch.Size([1, 40])\n",
      "Key : labels, has shape : torch.Size([1, 6])\n",
      "Key : attention_mask, has shape : torch.Size([1, 40])\n"
     ]
    }
   ],
   "source": [
    "for key in sample:\n",
    "    print(f\"Key : {key}, has shape : {sample[key].shape}\")\n",
    "    sample[key] = sample[key].to(device)"
   ]
  },
  {
   "cell_type": "code",
   "execution_count": 22,
   "id": "fbfb13aa",
   "metadata": {
    "execution": {
     "iopub.execute_input": "2023-05-02T05:41:27.822139Z",
     "iopub.status.busy": "2023-05-02T05:41:27.821474Z",
     "iopub.status.idle": "2023-05-02T05:41:27.851105Z",
     "shell.execute_reply": "2023-05-02T05:41:27.850196Z"
    },
    "papermill": {
     "duration": 0.040838,
     "end_time": "2023-05-02T05:41:27.853255",
     "exception": false,
     "start_time": "2023-05-02T05:41:27.812417",
     "status": "completed"
    },
    "tags": []
   },
   "outputs": [],
   "source": [
    "from transformers.modeling_outputs import (\n",
    "    BaseModelOutput,\n",
    "    Seq2SeqLMOutput,\n",
    "    Seq2SeqModelOutput,\n",
    ")\n",
    "import torch.nn as nn\n",
    "from torch.nn import CrossEntropyLoss\n",
    "\n",
    "class SpatialModule(nn.Module):\n",
    "    def __init__(self, config):\n",
    "        super().__init__()\n",
    "        self.top_left_x = nn.Embedding(config.max_2d_position_embeddings, config.d_model)\n",
    "        self.bottom_right_x = nn.Embedding(config.max_2d_position_embeddings, config.d_model)\n",
    "        self.top_left_y = nn.Embedding(config.max_2d_position_embeddings, config.d_model)\n",
    "        self.bottom_right_y = nn.Embedding(config.max_2d_position_embeddings, config.d_model)\n",
    "        self.width_emb = nn.Embedding(config.max_2d_position_embeddings, config.d_model)\n",
    "        self.height_emb = nn.Embedding(config.max_2d_position_embeddings, config.d_model)\n",
    "        \n",
    "    def forward(self, coordinates):\n",
    "        \n",
    "        top_left_x_feat =     self.top_left_x(coordinates[:,:, 0])\n",
    "        top_left_y_feat =     self.top_left_y(coordinates[:,:, 1])\n",
    "        bottom_right_x_feat = self.bottom_right_x(coordinates[:,:, 2])\n",
    "        bottom_right_y_feat = self.bottom_right_y(coordinates[:,:, 3])\n",
    "        width_feat =          self.width_emb(coordinates[:,:, 4])\n",
    "        height_feat =         self.height_emb(coordinates[:,:, 5])\n",
    "        \n",
    "        layout_feature = top_left_x_feat + top_left_y_feat + bottom_right_x_feat + bottom_right_y_feat + width_feat + height_feat\n",
    "        return layout_feature\n",
    "\n",
    "class LaTrForConditionalGeneration(T5ForConditionalGeneration):\n",
    "    def __init__(self, config):\n",
    "        super().__init__(config = config)\n",
    "        self.spatial_feat_extractor = SpatialModule(config)\n",
    "        self.img_feat_extractor = ViTModel.from_pretrained(config.vit_model)\n",
    "#         self.t5_model = T5ForConditionalGeneration.from_pretrained(config._name_or_path)\n",
    "        \n",
    "    def get_input_embeddings(self):\n",
    "        return self.shared\n",
    "\n",
    "    def set_input_embeddings(self, new_embeddings):\n",
    "        self.shared = new_embeddings\n",
    "        self.encoder.set_input_embeddings(new_embeddings)\n",
    "        self.decoder.set_input_embeddings(new_embeddings)\n",
    "\n",
    "    def set_output_embeddings(self, new_embeddings):\n",
    "        self.lm_head = new_embeddings\n",
    "\n",
    "    def get_output_embeddings(self):\n",
    "        return self.lm_head\n",
    "\n",
    "    def get_encoder(self):\n",
    "        return self.encoder\n",
    "\n",
    "    def get_decoder(self):\n",
    "        return self.decoder\n",
    "    \n",
    "    def forward(\n",
    "        self,\n",
    "        input_ids = None,\n",
    "        bbox = None,\n",
    "        attention_mask = None,\n",
    "        decoder_input_ids = None,\n",
    "        decoder_attention_mask = None,\n",
    "        encoder_outputs = None,\n",
    "        past_key_values = None,\n",
    "        pixel_values = None,\n",
    "        visual_bbox = None,\n",
    "        labels = None,\n",
    "        head_mask = None,\n",
    "        inputs_embeds = None,\n",
    "        decoder_inputs_embeds = None,\n",
    "        decoder_head_mask = None,\n",
    "        cross_attn_head_mask = None,\n",
    "        use_cache=True,\n",
    "        output_attentions = None,\n",
    "        output_hidden_states = None,\n",
    "        return_dict = None,\n",
    "        **kwargs,) :\n",
    "\n",
    "        use_cache = use_cache if use_cache is not None else self.config.use_cache\n",
    "        return_dict = return_dict if return_dict is not None else self.config.use_return_dict\n",
    "\n",
    "        if decoder_input_ids is None and labels is not None:\n",
    "            decoder_input_ids = self._shift_right(labels)\n",
    "\n",
    "        # Encode if needed (training, first prediction pass)\n",
    "        if encoder_outputs is None:\n",
    "            inputs_embeds, attention_mask = self.calculate_embedding(pixel_values, bbox, input_ids, attention_mask)\n",
    "            encoder_outputs = self.encoder(\n",
    "                attention_mask=attention_mask,\n",
    "                inputs_embeds=inputs_embeds,\n",
    "                head_mask=head_mask,\n",
    "                output_attentions=output_attentions,\n",
    "                output_hidden_states=output_hidden_states,\n",
    "                return_dict=return_dict,\n",
    "            )\n",
    "        hidden_states = encoder_outputs[0]\n",
    "\n",
    "        # Decode\n",
    "        decoder_outputs = self.decoder(\n",
    "            input_ids=decoder_input_ids,\n",
    "            attention_mask=decoder_attention_mask,\n",
    "            inputs_embeds=decoder_inputs_embeds,\n",
    "            past_key_values=past_key_values,\n",
    "            encoder_hidden_states=hidden_states,\n",
    "            encoder_attention_mask=attention_mask,\n",
    "            head_mask=decoder_head_mask,\n",
    "            cross_attn_head_mask=cross_attn_head_mask,\n",
    "            use_cache=use_cache,\n",
    "            output_attentions=output_attentions,\n",
    "            output_hidden_states=output_hidden_states,\n",
    "            return_dict=return_dict,\n",
    "        )\n",
    "\n",
    "        sequence_output = decoder_outputs[0]\n",
    "\n",
    "        if self.config.tie_word_embeddings:\n",
    "            # Rescale output before projecting on vocab\n",
    "            # See https://github.com/tensorflow/mesh/blob/fa19d69eafc9a482aff0b59ddd96b025c0cb207d/mesh_tensorflow/transformer/transformer.py#L586\n",
    "            sequence_output = sequence_output * (self.config.d_model**-0.5)\n",
    "\n",
    "        lm_logits = self.lm_head(sequence_output)\n",
    "\n",
    "        loss = None\n",
    "        if labels is not None:\n",
    "            loss_fct = CrossEntropyLoss(ignore_index=-100)\n",
    "            loss = loss_fct(lm_logits.view(-1, lm_logits.size(-1)), labels.view(-1))\n",
    "\n",
    "        if not return_dict:\n",
    "            output = (lm_logits,) + decoder_outputs[2:] + (encoder_outputs[0],) + encoder_outputs[2:]\n",
    "            return ((loss,) + output) if loss is not None else output\n",
    "\n",
    "        return Seq2SeqLMOutput(\n",
    "            loss=loss,\n",
    "            logits=lm_logits,\n",
    "            past_key_values=decoder_outputs.past_key_values,\n",
    "            decoder_hidden_states=decoder_outputs.hidden_states,\n",
    "            decoder_attentions=decoder_outputs.attentions,\n",
    "            cross_attentions=decoder_outputs.cross_attentions,\n",
    "            encoder_last_hidden_state=encoder_outputs.last_hidden_state,\n",
    "            encoder_hidden_states=encoder_outputs.hidden_states,\n",
    "            encoder_attentions=encoder_outputs.attentions,\n",
    "        )\n",
    "\n",
    "    def prepare_inputs_for_generation(\n",
    "        self,\n",
    "        input_ids,\n",
    "        past_key_values=None,\n",
    "        attention_mask=None,\n",
    "        head_mask=None,\n",
    "        decoder_head_mask=None,\n",
    "        cross_attn_head_mask=None,\n",
    "        use_cache=None,\n",
    "        encoder_outputs=None,\n",
    "        **kwargs,\n",
    "    ):\n",
    "        # cut decoder_input_ids if past is used\n",
    "        if past_key_values is not None:\n",
    "            input_ids = input_ids[:, -1:]\n",
    "\n",
    "        return {\n",
    "            \"decoder_input_ids\": input_ids,\n",
    "            \"past_key_values\": past_key_values,\n",
    "            \"encoder_outputs\": encoder_outputs,\n",
    "            \"attention_mask\": attention_mask,\n",
    "            \"head_mask\": head_mask,\n",
    "            \"decoder_head_mask\": decoder_head_mask,\n",
    "            \"cross_attn_head_mask\": cross_attn_head_mask,\n",
    "            \"use_cache\": use_cache,\n",
    "            \"bbox\": kwargs.get(\"bbox\", None),\n",
    "            \"pixel_values\": kwargs.get(\"pixel_values\", None),\n",
    "            \"visual_bbox\": kwargs.get(\"visual_bbox\", None),\n",
    "        }\n",
    "\n",
    "    def _reorder_cache(self, past_key_values, beam_idx):\n",
    "        # if decoder past is not included in output\n",
    "        # speedy decoding is disabled and no need to reorder\n",
    "        if past_key_values is None:\n",
    "            logger.warning(\"You might want to consider setting `use_cache=True` to speed up decoding\")\n",
    "            return past_key_values\n",
    "\n",
    "        reordered_decoder_past = ()\n",
    "        for layer_past_states in past_key_values:\n",
    "            # get the correct batch idx from layer past batch dim\n",
    "            # batch dim of `past` is at 2nd position\n",
    "            reordered_layer_past_states = ()\n",
    "            for layer_past_state in layer_past_states:\n",
    "                # need to set correct `past` for each of the four key / value states\n",
    "                reordered_layer_past_states = reordered_layer_past_states + (\n",
    "                    layer_past_state.index_select(0, beam_idx.to(layer_past_state.device)),\n",
    "                )\n",
    "\n",
    "            assert reordered_layer_past_states[0].shape == layer_past_states[0].shape\n",
    "            assert len(reordered_layer_past_states) == len(layer_past_states)\n",
    "\n",
    "            reordered_decoder_past = reordered_decoder_past + (reordered_layer_past_states,)\n",
    "        return reordered_decoder_past\n",
    "    \n",
    "    def calculate_embedding(self, img, bbox, input_ids, attention_mask):\n",
    "        img_feat = self.img_feat_extractor(img).last_hidden_state\n",
    "        spatial_feat = self.spatial_feat_extractor(bbox)\n",
    "        language_feat = self.shared(input_ids)\n",
    "        \n",
    "        layout_feat = spatial_feat + language_feat\n",
    "        multi_modal_feat = torch.cat([img_feat, layout_feat], axis = 1)\n",
    "        input_attention_mask = torch.cat([torch.ones(img_feat.shape[:2]).to(img_feat.device), attention_mask], axis = 1)\n",
    "        return multi_modal_feat, input_attention_mask"
   ]
  },
  {
   "cell_type": "code",
   "execution_count": 23,
   "id": "41783a3e",
   "metadata": {
    "execution": {
     "iopub.execute_input": "2023-05-02T05:41:27.870104Z",
     "iopub.status.busy": "2023-05-02T05:41:27.869836Z",
     "iopub.status.idle": "2023-05-02T05:41:39.920986Z",
     "shell.execute_reply": "2023-05-02T05:41:39.919917Z"
    },
    "papermill": {
     "duration": 12.062431,
     "end_time": "2023-05-02T05:41:39.923519",
     "exception": false,
     "start_time": "2023-05-02T05:41:27.861088",
     "status": "completed"
    },
    "tags": []
   },
   "outputs": [
    {
     "data": {
      "application/vnd.jupyter.widget-view+json": {
       "model_id": "c5d55bfa03964cc18c8370616149e7db",
       "version_major": 2,
       "version_minor": 0
      },
      "text/plain": [
       "Downloading pytorch_model.bin:   0%|          | 0.00/346M [00:00<?, ?B/s]"
      ]
     },
     "metadata": {},
     "output_type": "display_data"
    }
   ],
   "source": [
    "latr_model = LaTrForConditionalGeneration(model_config).to(device)"
   ]
  },
  {
   "cell_type": "code",
   "execution_count": 24,
   "id": "b625cee4",
   "metadata": {
    "execution": {
     "iopub.execute_input": "2023-05-02T05:41:39.940360Z",
     "iopub.status.busy": "2023-05-02T05:41:39.940046Z",
     "iopub.status.idle": "2023-05-02T05:41:43.552685Z",
     "shell.execute_reply": "2023-05-02T05:41:43.551212Z"
    },
    "papermill": {
     "duration": 3.626146,
     "end_time": "2023-05-02T05:41:43.557642",
     "exception": false,
     "start_time": "2023-05-02T05:41:39.931496",
     "status": "completed"
    },
    "tags": []
   },
   "outputs": [],
   "source": [
    "output = latr_model(input_ids = sample['input_ids'],\n",
    "                   bbox = sample['bbox'], pixel_values = sample['img'], labels = sample['labels'],\n",
    "                   attention_mask = sample['attention_mask'])"
   ]
  },
  {
   "cell_type": "code",
   "execution_count": 25,
   "id": "9e4acea4",
   "metadata": {
    "execution": {
     "iopub.execute_input": "2023-05-02T05:41:43.590009Z",
     "iopub.status.busy": "2023-05-02T05:41:43.589484Z",
     "iopub.status.idle": "2023-05-02T05:41:43.595951Z",
     "shell.execute_reply": "2023-05-02T05:41:43.594142Z"
    },
    "papermill": {
     "duration": 0.029552,
     "end_time": "2023-05-02T05:41:43.600276",
     "exception": false,
     "start_time": "2023-05-02T05:41:43.570724",
     "status": "completed"
    },
    "tags": []
   },
   "outputs": [],
   "source": [
    "## Code for writing the generate function, since we need to predict the answers now. "
   ]
  },
  {
   "cell_type": "code",
   "execution_count": 26,
   "id": "96f3cf9e",
   "metadata": {
    "execution": {
     "iopub.execute_input": "2023-05-02T05:41:43.623459Z",
     "iopub.status.busy": "2023-05-02T05:41:43.623050Z",
     "iopub.status.idle": "2023-05-02T05:41:45.287768Z",
     "shell.execute_reply": "2023-05-02T05:41:45.286779Z"
    },
    "papermill": {
     "duration": 1.68249,
     "end_time": "2023-05-02T05:41:45.290214",
     "exception": false,
     "start_time": "2023-05-02T05:41:43.607724",
     "status": "completed"
    },
    "tags": []
   },
   "outputs": [
    {
     "name": "stderr",
     "output_type": "stream",
     "text": [
      "/opt/conda/lib/python3.7/site-packages/transformers/generation/utils.py:1292: UserWarning: Using `max_length`'s default (20) to control the generation length. This behaviour is deprecated and will be removed from the config in v5 of Transformers -- we recommend using `max_new_tokens` to control the maximum length of the generation.\n",
      "  UserWarning,\n"
     ]
    },
    {
     "data": {
      "text/plain": [
       "''"
      ]
     },
     "execution_count": 26,
     "metadata": {},
     "output_type": "execute_result"
    }
   ],
   "source": [
    "tokenizer.decode(latr_model.generate(input_ids = sample['input_ids'],\n",
    "                   bbox = sample['bbox'], pixel_values = sample['img'], labels = sample['labels'],\n",
    "                   attention_mask = sample['attention_mask'])[0], skip_special_tokens = True)"
   ]
  },
  {
   "cell_type": "code",
   "execution_count": 27,
   "id": "e7a4dc73",
   "metadata": {
    "execution": {
     "iopub.execute_input": "2023-05-02T05:41:45.308427Z",
     "iopub.status.busy": "2023-05-02T05:41:45.307802Z",
     "iopub.status.idle": "2023-05-02T05:41:45.315042Z",
     "shell.execute_reply": "2023-05-02T05:41:45.314058Z"
    },
    "papermill": {
     "duration": 0.018813,
     "end_time": "2023-05-02T05:41:45.317191",
     "exception": false,
     "start_time": "2023-05-02T05:41:45.298378",
     "status": "completed"
    },
    "tags": []
   },
   "outputs": [
    {
     "data": {
      "text/plain": [
       "'question: what is the name of the documentary? context: IN MEMORY OF DOROTHY IERNE WILDE \"Oscaria M. M.CM. LI'"
      ]
     },
     "execution_count": 27,
     "metadata": {},
     "output_type": "execute_result"
    }
   ],
   "source": [
    "tokenizer.decode(sample['input_ids'][0], skip_special_tokens = True)"
   ]
  },
  {
   "cell_type": "code",
   "execution_count": null,
   "id": "790dab7c",
   "metadata": {
    "papermill": {
     "duration": 0.00777,
     "end_time": "2023-05-02T05:41:45.332823",
     "exception": false,
     "start_time": "2023-05-02T05:41:45.325053",
     "status": "completed"
    },
    "tags": []
   },
   "outputs": [],
   "source": []
  }
 ],
 "metadata": {
  "kernelspec": {
   "display_name": "Python 3",
   "language": "python",
   "name": "python3"
  },
  "language_info": {
   "codemirror_mode": {
    "name": "ipython",
    "version": 3
   },
   "file_extension": ".py",
   "mimetype": "text/x-python",
   "name": "python",
   "nbconvert_exporter": "python",
   "pygments_lexer": "ipython3",
   "version": "3.7.12"
  },
  "papermill": {
   "default_parameters": {},
   "duration": 68.780444,
   "end_time": "2023-05-02T05:41:48.675291",
   "environment_variables": {},
   "exception": null,
   "input_path": "__notebook__.ipynb",
   "output_path": "__notebook__.ipynb",
   "parameters": {},
   "start_time": "2023-05-02T05:40:39.894847",
   "version": "2.4.0"
  },
  "widgets": {
   "application/vnd.jupyter.widget-state+json": {
    "state": {
     "00e017f8044b4f9cb76b5aa3f8dc721c": {
      "model_module": "@jupyter-widgets/controls",
      "model_module_version": "1.5.0",
      "model_name": "HTMLModel",
      "state": {
       "_dom_classes": [],
       "_model_module": "@jupyter-widgets/controls",
       "_model_module_version": "1.5.0",
       "_model_name": "HTMLModel",
       "_view_count": null,
       "_view_module": "@jupyter-widgets/controls",
       "_view_module_version": "1.5.0",
       "_view_name": "HTMLView",
       "description": "",
       "description_tooltip": null,
       "layout": "IPY_MODEL_df3b920ab6914a27abddb65c0a96732d",
       "placeholder": "​",
       "style": "IPY_MODEL_050b31b3a92a46ed895762bdce301a2f",
       "value": "Downloading (…)ve/main/spiece.model: 100%"
      }
     },
     "03641db5dadd46dbbd7bc1e27d1db503": {
      "model_module": "@jupyter-widgets/controls",
      "model_module_version": "1.5.0",
      "model_name": "FloatProgressModel",
      "state": {
       "_dom_classes": [],
       "_model_module": "@jupyter-widgets/controls",
       "_model_module_version": "1.5.0",
       "_model_name": "FloatProgressModel",
       "_view_count": null,
       "_view_module": "@jupyter-widgets/controls",
       "_view_module_version": "1.5.0",
       "_view_name": "ProgressView",
       "bar_style": "success",
       "description": "",
       "description_tooltip": null,
       "layout": "IPY_MODEL_62829bf9d06841c7954c2a0774e6fd2b",
       "max": 1389353.0,
       "min": 0.0,
       "orientation": "horizontal",
       "style": "IPY_MODEL_fd8eeac5b6b14b789ebd2527b5340c85",
       "value": 1389353.0
      }
     },
     "050b31b3a92a46ed895762bdce301a2f": {
      "model_module": "@jupyter-widgets/controls",
      "model_module_version": "1.5.0",
      "model_name": "DescriptionStyleModel",
      "state": {
       "_model_module": "@jupyter-widgets/controls",
       "_model_module_version": "1.5.0",
       "_model_name": "DescriptionStyleModel",
       "_view_count": null,
       "_view_module": "@jupyter-widgets/base",
       "_view_module_version": "1.2.0",
       "_view_name": "StyleView",
       "description_width": ""
      }
     },
     "0966c3850f624470bd87e36e68d9e3e7": {
      "model_module": "@jupyter-widgets/controls",
      "model_module_version": "1.5.0",
      "model_name": "HTMLModel",
      "state": {
       "_dom_classes": [],
       "_model_module": "@jupyter-widgets/controls",
       "_model_module_version": "1.5.0",
       "_model_name": "HTMLModel",
       "_view_count": null,
       "_view_module": "@jupyter-widgets/controls",
       "_view_module_version": "1.5.0",
       "_view_name": "HTMLView",
       "description": "",
       "description_tooltip": null,
       "layout": "IPY_MODEL_11da3cfcd6ce4993ab23ae0191481270",
       "placeholder": "​",
       "style": "IPY_MODEL_d4631298d9b3458e9a7d01ce30653d72",
       "value": "Downloading (…)lve/main/config.json: 100%"
      }
     },
     "0b004926a5084f2f818281ca894cbbe6": {
      "model_module": "@jupyter-widgets/controls",
      "model_module_version": "1.5.0",
      "model_name": "HTMLModel",
      "state": {
       "_dom_classes": [],
       "_model_module": "@jupyter-widgets/controls",
       "_model_module_version": "1.5.0",
       "_model_name": "HTMLModel",
       "_view_count": null,
       "_view_module": "@jupyter-widgets/controls",
       "_view_module_version": "1.5.0",
       "_view_name": "HTMLView",
       "description": "",
       "description_tooltip": null,
       "layout": "IPY_MODEL_a10ddb06f06a45e2b228b4297d2f47a7",
       "placeholder": "​",
       "style": "IPY_MODEL_9edfc7776e5f4c0b95d6e584a65e78ff",
       "value": " 1.39M/1.39M [00:00&lt;00:00, 10.8MB/s]"
      }
     },
     "0dac10e3d7cf40249ac7d6e9f906ff3d": {
      "model_module": "@jupyter-widgets/base",
      "model_module_version": "1.2.0",
      "model_name": "LayoutModel",
      "state": {
       "_model_module": "@jupyter-widgets/base",
       "_model_module_version": "1.2.0",
       "_model_name": "LayoutModel",
       "_view_count": null,
       "_view_module": "@jupyter-widgets/base",
       "_view_module_version": "1.2.0",
       "_view_name": "LayoutView",
       "align_content": null,
       "align_items": null,
       "align_self": null,
       "border": null,
       "bottom": null,
       "display": null,
       "flex": null,
       "flex_flow": null,
       "grid_area": null,
       "grid_auto_columns": null,
       "grid_auto_flow": null,
       "grid_auto_rows": null,
       "grid_column": null,
       "grid_gap": null,
       "grid_row": null,
       "grid_template_areas": null,
       "grid_template_columns": null,
       "grid_template_rows": null,
       "height": null,
       "justify_content": null,
       "justify_items": null,
       "left": null,
       "margin": null,
       "max_height": null,
       "max_width": null,
       "min_height": null,
       "min_width": null,
       "object_fit": null,
       "object_position": null,
       "order": null,
       "overflow": null,
       "overflow_x": null,
       "overflow_y": null,
       "padding": null,
       "right": null,
       "top": null,
       "visibility": null,
       "width": null
      }
     },
     "11da3cfcd6ce4993ab23ae0191481270": {
      "model_module": "@jupyter-widgets/base",
      "model_module_version": "1.2.0",
      "model_name": "LayoutModel",
      "state": {
       "_model_module": "@jupyter-widgets/base",
       "_model_module_version": "1.2.0",
       "_model_name": "LayoutModel",
       "_view_count": null,
       "_view_module": "@jupyter-widgets/base",
       "_view_module_version": "1.2.0",
       "_view_name": "LayoutView",
       "align_content": null,
       "align_items": null,
       "align_self": null,
       "border": null,
       "bottom": null,
       "display": null,
       "flex": null,
       "flex_flow": null,
       "grid_area": null,
       "grid_auto_columns": null,
       "grid_auto_flow": null,
       "grid_auto_rows": null,
       "grid_column": null,
       "grid_gap": null,
       "grid_row": null,
       "grid_template_areas": null,
       "grid_template_columns": null,
       "grid_template_rows": null,
       "height": null,
       "justify_content": null,
       "justify_items": null,
       "left": null,
       "margin": null,
       "max_height": null,
       "max_width": null,
       "min_height": null,
       "min_width": null,
       "object_fit": null,
       "object_position": null,
       "order": null,
       "overflow": null,
       "overflow_x": null,
       "overflow_y": null,
       "padding": null,
       "right": null,
       "top": null,
       "visibility": null,
       "width": null
      }
     },
     "140173cec8a840378ade5788493fa7da": {
      "model_module": "@jupyter-widgets/controls",
      "model_module_version": "1.5.0",
      "model_name": "HTMLModel",
      "state": {
       "_dom_classes": [],
       "_model_module": "@jupyter-widgets/controls",
       "_model_module_version": "1.5.0",
       "_model_name": "HTMLModel",
       "_view_count": null,
       "_view_module": "@jupyter-widgets/controls",
       "_view_module_version": "1.5.0",
       "_view_name": "HTMLView",
       "description": "",
       "description_tooltip": null,
       "layout": "IPY_MODEL_2d952de67113445597e6f1c734cb6df1",
       "placeholder": "​",
       "style": "IPY_MODEL_5061c534b7c7487194acf6bd62db9a6b",
       "value": "Downloading (…)rocessor_config.json: 100%"
      }
     },
     "16af331e5aab43aaa61d9644763379da": {
      "model_module": "@jupyter-widgets/controls",
      "model_module_version": "1.5.0",
      "model_name": "FloatProgressModel",
      "state": {
       "_dom_classes": [],
       "_model_module": "@jupyter-widgets/controls",
       "_model_module_version": "1.5.0",
       "_model_name": "FloatProgressModel",
       "_view_count": null,
       "_view_module": "@jupyter-widgets/controls",
       "_view_module_version": "1.5.0",
       "_view_name": "ProgressView",
       "bar_style": "success",
       "description": "",
       "description_tooltip": null,
       "layout": "IPY_MODEL_faa1911b2ccf4be3812469864d410c3e",
       "max": 502.0,
       "min": 0.0,
       "orientation": "horizontal",
       "style": "IPY_MODEL_5f58200336ba49c1b2fbbef42886ef6f",
       "value": 502.0
      }
     },
     "1ad91a8412404fa0bf3d80f7dc2b2a23": {
      "model_module": "@jupyter-widgets/base",
      "model_module_version": "1.2.0",
      "model_name": "LayoutModel",
      "state": {
       "_model_module": "@jupyter-widgets/base",
       "_model_module_version": "1.2.0",
       "_model_name": "LayoutModel",
       "_view_count": null,
       "_view_module": "@jupyter-widgets/base",
       "_view_module_version": "1.2.0",
       "_view_name": "LayoutView",
       "align_content": null,
       "align_items": null,
       "align_self": null,
       "border": null,
       "bottom": null,
       "display": null,
       "flex": null,
       "flex_flow": null,
       "grid_area": null,
       "grid_auto_columns": null,
       "grid_auto_flow": null,
       "grid_auto_rows": null,
       "grid_column": null,
       "grid_gap": null,
       "grid_row": null,
       "grid_template_areas": null,
       "grid_template_columns": null,
       "grid_template_rows": null,
       "height": null,
       "justify_content": null,
       "justify_items": null,
       "left": null,
       "margin": null,
       "max_height": null,
       "max_width": null,
       "min_height": null,
       "min_width": null,
       "object_fit": null,
       "object_position": null,
       "order": null,
       "overflow": null,
       "overflow_x": null,
       "overflow_y": null,
       "padding": null,
       "right": null,
       "top": null,
       "visibility": null,
       "width": null
      }
     },
     "21fefbe043b14159a4021b549272226e": {
      "model_module": "@jupyter-widgets/base",
      "model_module_version": "1.2.0",
      "model_name": "LayoutModel",
      "state": {
       "_model_module": "@jupyter-widgets/base",
       "_model_module_version": "1.2.0",
       "_model_name": "LayoutModel",
       "_view_count": null,
       "_view_module": "@jupyter-widgets/base",
       "_view_module_version": "1.2.0",
       "_view_name": "LayoutView",
       "align_content": null,
       "align_items": null,
       "align_self": null,
       "border": null,
       "bottom": null,
       "display": null,
       "flex": null,
       "flex_flow": null,
       "grid_area": null,
       "grid_auto_columns": null,
       "grid_auto_flow": null,
       "grid_auto_rows": null,
       "grid_column": null,
       "grid_gap": null,
       "grid_row": null,
       "grid_template_areas": null,
       "grid_template_columns": null,
       "grid_template_rows": null,
       "height": null,
       "justify_content": null,
       "justify_items": null,
       "left": null,
       "margin": null,
       "max_height": null,
       "max_width": null,
       "min_height": null,
       "min_width": null,
       "object_fit": null,
       "object_position": null,
       "order": null,
       "overflow": null,
       "overflow_x": null,
       "overflow_y": null,
       "padding": null,
       "right": null,
       "top": null,
       "visibility": null,
       "width": null
      }
     },
     "233e348bfcb44f4c853aa90d4ce7ad06": {
      "model_module": "@jupyter-widgets/controls",
      "model_module_version": "1.5.0",
      "model_name": "HTMLModel",
      "state": {
       "_dom_classes": [],
       "_model_module": "@jupyter-widgets/controls",
       "_model_module_version": "1.5.0",
       "_model_name": "HTMLModel",
       "_view_count": null,
       "_view_module": "@jupyter-widgets/controls",
       "_view_module_version": "1.5.0",
       "_view_name": "HTMLView",
       "description": "",
       "description_tooltip": null,
       "layout": "IPY_MODEL_21fefbe043b14159a4021b549272226e",
       "placeholder": "​",
       "style": "IPY_MODEL_c12dc8621a38433d903cf283e9ca9989",
       "value": "Downloading (…)/main/tokenizer.json: 100%"
      }
     },
     "29a12f5a58c743349ba6417164c8b578": {
      "model_module": "@jupyter-widgets/controls",
      "model_module_version": "1.5.0",
      "model_name": "DescriptionStyleModel",
      "state": {
       "_model_module": "@jupyter-widgets/controls",
       "_model_module_version": "1.5.0",
       "_model_name": "DescriptionStyleModel",
       "_view_count": null,
       "_view_module": "@jupyter-widgets/base",
       "_view_module_version": "1.2.0",
       "_view_name": "StyleView",
       "description_width": ""
      }
     },
     "2a37b43aa1b2446d9cd86d5f35f04482": {
      "model_module": "@jupyter-widgets/controls",
      "model_module_version": "1.5.0",
      "model_name": "ProgressStyleModel",
      "state": {
       "_model_module": "@jupyter-widgets/controls",
       "_model_module_version": "1.5.0",
       "_model_name": "ProgressStyleModel",
       "_view_count": null,
       "_view_module": "@jupyter-widgets/base",
       "_view_module_version": "1.2.0",
       "_view_name": "StyleView",
       "bar_color": null,
       "description_width": ""
      }
     },
     "2d952de67113445597e6f1c734cb6df1": {
      "model_module": "@jupyter-widgets/base",
      "model_module_version": "1.2.0",
      "model_name": "LayoutModel",
      "state": {
       "_model_module": "@jupyter-widgets/base",
       "_model_module_version": "1.2.0",
       "_model_name": "LayoutModel",
       "_view_count": null,
       "_view_module": "@jupyter-widgets/base",
       "_view_module_version": "1.2.0",
       "_view_name": "LayoutView",
       "align_content": null,
       "align_items": null,
       "align_self": null,
       "border": null,
       "bottom": null,
       "display": null,
       "flex": null,
       "flex_flow": null,
       "grid_area": null,
       "grid_auto_columns": null,
       "grid_auto_flow": null,
       "grid_auto_rows": null,
       "grid_column": null,
       "grid_gap": null,
       "grid_row": null,
       "grid_template_areas": null,
       "grid_template_columns": null,
       "grid_template_rows": null,
       "height": null,
       "justify_content": null,
       "justify_items": null,
       "left": null,
       "margin": null,
       "max_height": null,
       "max_width": null,
       "min_height": null,
       "min_width": null,
       "object_fit": null,
       "object_position": null,
       "order": null,
       "overflow": null,
       "overflow_x": null,
       "overflow_y": null,
       "padding": null,
       "right": null,
       "top": null,
       "visibility": null,
       "width": null
      }
     },
     "338772997251485db7f8c289a60b2825": {
      "model_module": "@jupyter-widgets/controls",
      "model_module_version": "1.5.0",
      "model_name": "HTMLModel",
      "state": {
       "_dom_classes": [],
       "_model_module": "@jupyter-widgets/controls",
       "_model_module_version": "1.5.0",
       "_model_name": "HTMLModel",
       "_view_count": null,
       "_view_module": "@jupyter-widgets/controls",
       "_view_module_version": "1.5.0",
       "_view_name": "HTMLView",
       "description": "",
       "description_tooltip": null,
       "layout": "IPY_MODEL_413c2374410a49018527363f66e19e61",
       "placeholder": "​",
       "style": "IPY_MODEL_4b4a980b31444c4f8e00246fd9c0128c",
       "value": "Downloading (…)lve/main/config.json: 100%"
      }
     },
     "3a2fc0b9457d41719e87e349321efd3b": {
      "model_module": "@jupyter-widgets/controls",
      "model_module_version": "1.5.0",
      "model_name": "DescriptionStyleModel",
      "state": {
       "_model_module": "@jupyter-widgets/controls",
       "_model_module_version": "1.5.0",
       "_model_name": "DescriptionStyleModel",
       "_view_count": null,
       "_view_module": "@jupyter-widgets/base",
       "_view_module_version": "1.2.0",
       "_view_name": "StyleView",
       "description_width": ""
      }
     },
     "413c2374410a49018527363f66e19e61": {
      "model_module": "@jupyter-widgets/base",
      "model_module_version": "1.2.0",
      "model_name": "LayoutModel",
      "state": {
       "_model_module": "@jupyter-widgets/base",
       "_model_module_version": "1.2.0",
       "_model_name": "LayoutModel",
       "_view_count": null,
       "_view_module": "@jupyter-widgets/base",
       "_view_module_version": "1.2.0",
       "_view_name": "LayoutView",
       "align_content": null,
       "align_items": null,
       "align_self": null,
       "border": null,
       "bottom": null,
       "display": null,
       "flex": null,
       "flex_flow": null,
       "grid_area": null,
       "grid_auto_columns": null,
       "grid_auto_flow": null,
       "grid_auto_rows": null,
       "grid_column": null,
       "grid_gap": null,
       "grid_row": null,
       "grid_template_areas": null,
       "grid_template_columns": null,
       "grid_template_rows": null,
       "height": null,
       "justify_content": null,
       "justify_items": null,
       "left": null,
       "margin": null,
       "max_height": null,
       "max_width": null,
       "min_height": null,
       "min_width": null,
       "object_fit": null,
       "object_position": null,
       "order": null,
       "overflow": null,
       "overflow_x": null,
       "overflow_y": null,
       "padding": null,
       "right": null,
       "top": null,
       "visibility": null,
       "width": null
      }
     },
     "41779e4226c24ace9430bf857197b299": {
      "model_module": "@jupyter-widgets/controls",
      "model_module_version": "1.5.0",
      "model_name": "FloatProgressModel",
      "state": {
       "_dom_classes": [],
       "_model_module": "@jupyter-widgets/controls",
       "_model_module_version": "1.5.0",
       "_model_name": "FloatProgressModel",
       "_view_count": null,
       "_view_module": "@jupyter-widgets/controls",
       "_view_module_version": "1.5.0",
       "_view_name": "ProgressView",
       "bar_style": "success",
       "description": "",
       "description_tooltip": null,
       "layout": "IPY_MODEL_80d82cd656bb44d8a479c412f922e785",
       "max": 1208.0,
       "min": 0.0,
       "orientation": "horizontal",
       "style": "IPY_MODEL_8f1551afae86488ca3f9afc50d9c1ca7",
       "value": 1208.0
      }
     },
     "4a47ce9a6d3e4903917e771003d928e2": {
      "model_module": "@jupyter-widgets/base",
      "model_module_version": "1.2.0",
      "model_name": "LayoutModel",
      "state": {
       "_model_module": "@jupyter-widgets/base",
       "_model_module_version": "1.2.0",
       "_model_name": "LayoutModel",
       "_view_count": null,
       "_view_module": "@jupyter-widgets/base",
       "_view_module_version": "1.2.0",
       "_view_name": "LayoutView",
       "align_content": null,
       "align_items": null,
       "align_self": null,
       "border": null,
       "bottom": null,
       "display": null,
       "flex": null,
       "flex_flow": null,
       "grid_area": null,
       "grid_auto_columns": null,
       "grid_auto_flow": null,
       "grid_auto_rows": null,
       "grid_column": null,
       "grid_gap": null,
       "grid_row": null,
       "grid_template_areas": null,
       "grid_template_columns": null,
       "grid_template_rows": null,
       "height": null,
       "justify_content": null,
       "justify_items": null,
       "left": null,
       "margin": null,
       "max_height": null,
       "max_width": null,
       "min_height": null,
       "min_width": null,
       "object_fit": null,
       "object_position": null,
       "order": null,
       "overflow": null,
       "overflow_x": null,
       "overflow_y": null,
       "padding": null,
       "right": null,
       "top": null,
       "visibility": null,
       "width": null
      }
     },
     "4b4a980b31444c4f8e00246fd9c0128c": {
      "model_module": "@jupyter-widgets/controls",
      "model_module_version": "1.5.0",
      "model_name": "DescriptionStyleModel",
      "state": {
       "_model_module": "@jupyter-widgets/controls",
       "_model_module_version": "1.5.0",
       "_model_name": "DescriptionStyleModel",
       "_view_count": null,
       "_view_module": "@jupyter-widgets/base",
       "_view_module_version": "1.2.0",
       "_view_name": "StyleView",
       "description_width": ""
      }
     },
     "5061c534b7c7487194acf6bd62db9a6b": {
      "model_module": "@jupyter-widgets/controls",
      "model_module_version": "1.5.0",
      "model_name": "DescriptionStyleModel",
      "state": {
       "_model_module": "@jupyter-widgets/controls",
       "_model_module_version": "1.5.0",
       "_model_name": "DescriptionStyleModel",
       "_view_count": null,
       "_view_module": "@jupyter-widgets/base",
       "_view_module_version": "1.2.0",
       "_view_name": "StyleView",
       "description_width": ""
      }
     },
     "57bade5ebc3d4a96b88f038c87d62ba4": {
      "model_module": "@jupyter-widgets/controls",
      "model_module_version": "1.5.0",
      "model_name": "HTMLModel",
      "state": {
       "_dom_classes": [],
       "_model_module": "@jupyter-widgets/controls",
       "_model_module_version": "1.5.0",
       "_model_name": "HTMLModel",
       "_view_count": null,
       "_view_module": "@jupyter-widgets/controls",
       "_view_module_version": "1.5.0",
       "_view_name": "HTMLView",
       "description": "",
       "description_tooltip": null,
       "layout": "IPY_MODEL_c2e62bccc392492c808fa865bfc351f4",
       "placeholder": "​",
       "style": "IPY_MODEL_3a2fc0b9457d41719e87e349321efd3b",
       "value": " 792k/792k [00:00&lt;00:00, 5.24MB/s]"
      }
     },
     "5f58200336ba49c1b2fbbef42886ef6f": {
      "model_module": "@jupyter-widgets/controls",
      "model_module_version": "1.5.0",
      "model_name": "ProgressStyleModel",
      "state": {
       "_model_module": "@jupyter-widgets/controls",
       "_model_module_version": "1.5.0",
       "_model_name": "ProgressStyleModel",
       "_view_count": null,
       "_view_module": "@jupyter-widgets/base",
       "_view_module_version": "1.2.0",
       "_view_name": "StyleView",
       "bar_color": null,
       "description_width": ""
      }
     },
     "62829bf9d06841c7954c2a0774e6fd2b": {
      "model_module": "@jupyter-widgets/base",
      "model_module_version": "1.2.0",
      "model_name": "LayoutModel",
      "state": {
       "_model_module": "@jupyter-widgets/base",
       "_model_module_version": "1.2.0",
       "_model_name": "LayoutModel",
       "_view_count": null,
       "_view_module": "@jupyter-widgets/base",
       "_view_module_version": "1.2.0",
       "_view_name": "LayoutView",
       "align_content": null,
       "align_items": null,
       "align_self": null,
       "border": null,
       "bottom": null,
       "display": null,
       "flex": null,
       "flex_flow": null,
       "grid_area": null,
       "grid_auto_columns": null,
       "grid_auto_flow": null,
       "grid_auto_rows": null,
       "grid_column": null,
       "grid_gap": null,
       "grid_row": null,
       "grid_template_areas": null,
       "grid_template_columns": null,
       "grid_template_rows": null,
       "height": null,
       "justify_content": null,
       "justify_items": null,
       "left": null,
       "margin": null,
       "max_height": null,
       "max_width": null,
       "min_height": null,
       "min_width": null,
       "object_fit": null,
       "object_position": null,
       "order": null,
       "overflow": null,
       "overflow_x": null,
       "overflow_y": null,
       "padding": null,
       "right": null,
       "top": null,
       "visibility": null,
       "width": null
      }
     },
     "671721bc8ef3475691a8ca8f922717ee": {
      "model_module": "@jupyter-widgets/controls",
      "model_module_version": "1.5.0",
      "model_name": "DescriptionStyleModel",
      "state": {
       "_model_module": "@jupyter-widgets/controls",
       "_model_module_version": "1.5.0",
       "_model_name": "DescriptionStyleModel",
       "_view_count": null,
       "_view_module": "@jupyter-widgets/base",
       "_view_module_version": "1.2.0",
       "_view_name": "StyleView",
       "description_width": ""
      }
     },
     "73fc432fefb64ba39fc1ce644f00c76c": {
      "model_module": "@jupyter-widgets/controls",
      "model_module_version": "1.5.0",
      "model_name": "HBoxModel",
      "state": {
       "_dom_classes": [],
       "_model_module": "@jupyter-widgets/controls",
       "_model_module_version": "1.5.0",
       "_model_name": "HBoxModel",
       "_view_count": null,
       "_view_module": "@jupyter-widgets/controls",
       "_view_module_version": "1.5.0",
       "_view_name": "HBoxView",
       "box_style": "",
       "children": [
        "IPY_MODEL_338772997251485db7f8c289a60b2825",
        "IPY_MODEL_41779e4226c24ace9430bf857197b299",
        "IPY_MODEL_7b23fd93ef8649a9bbc84844a543ad23"
       ],
       "layout": "IPY_MODEL_7d0f458a109145a5b6fa800d9f48f2d3"
      }
     },
     "74a9b85f3b78462292951be33e896ba2": {
      "model_module": "@jupyter-widgets/controls",
      "model_module_version": "1.5.0",
      "model_name": "HBoxModel",
      "state": {
       "_dom_classes": [],
       "_model_module": "@jupyter-widgets/controls",
       "_model_module_version": "1.5.0",
       "_model_name": "HBoxModel",
       "_view_count": null,
       "_view_module": "@jupyter-widgets/controls",
       "_view_module_version": "1.5.0",
       "_view_name": "HBoxView",
       "box_style": "",
       "children": [
        "IPY_MODEL_233e348bfcb44f4c853aa90d4ce7ad06",
        "IPY_MODEL_03641db5dadd46dbbd7bc1e27d1db503",
        "IPY_MODEL_0b004926a5084f2f818281ca894cbbe6"
       ],
       "layout": "IPY_MODEL_8c7cad90ed96413a8c0aad83bfc2ca34"
      }
     },
     "7b23fd93ef8649a9bbc84844a543ad23": {
      "model_module": "@jupyter-widgets/controls",
      "model_module_version": "1.5.0",
      "model_name": "HTMLModel",
      "state": {
       "_dom_classes": [],
       "_model_module": "@jupyter-widgets/controls",
       "_model_module_version": "1.5.0",
       "_model_name": "HTMLModel",
       "_view_count": null,
       "_view_module": "@jupyter-widgets/controls",
       "_view_module_version": "1.5.0",
       "_view_name": "HTMLView",
       "description": "",
       "description_tooltip": null,
       "layout": "IPY_MODEL_ed24b2ed62bd46c7b2428dec7864f7a7",
       "placeholder": "​",
       "style": "IPY_MODEL_29a12f5a58c743349ba6417164c8b578",
       "value": " 1.21k/1.21k [00:00&lt;00:00, 47.6kB/s]"
      }
     },
     "7d0f458a109145a5b6fa800d9f48f2d3": {
      "model_module": "@jupyter-widgets/base",
      "model_module_version": "1.2.0",
      "model_name": "LayoutModel",
      "state": {
       "_model_module": "@jupyter-widgets/base",
       "_model_module_version": "1.2.0",
       "_model_name": "LayoutModel",
       "_view_count": null,
       "_view_module": "@jupyter-widgets/base",
       "_view_module_version": "1.2.0",
       "_view_name": "LayoutView",
       "align_content": null,
       "align_items": null,
       "align_self": null,
       "border": null,
       "bottom": null,
       "display": null,
       "flex": null,
       "flex_flow": null,
       "grid_area": null,
       "grid_auto_columns": null,
       "grid_auto_flow": null,
       "grid_auto_rows": null,
       "grid_column": null,
       "grid_gap": null,
       "grid_row": null,
       "grid_template_areas": null,
       "grid_template_columns": null,
       "grid_template_rows": null,
       "height": null,
       "justify_content": null,
       "justify_items": null,
       "left": null,
       "margin": null,
       "max_height": null,
       "max_width": null,
       "min_height": null,
       "min_width": null,
       "object_fit": null,
       "object_position": null,
       "order": null,
       "overflow": null,
       "overflow_x": null,
       "overflow_y": null,
       "padding": null,
       "right": null,
       "top": null,
       "visibility": null,
       "width": null
      }
     },
     "80d82cd656bb44d8a479c412f922e785": {
      "model_module": "@jupyter-widgets/base",
      "model_module_version": "1.2.0",
      "model_name": "LayoutModel",
      "state": {
       "_model_module": "@jupyter-widgets/base",
       "_model_module_version": "1.2.0",
       "_model_name": "LayoutModel",
       "_view_count": null,
       "_view_module": "@jupyter-widgets/base",
       "_view_module_version": "1.2.0",
       "_view_name": "LayoutView",
       "align_content": null,
       "align_items": null,
       "align_self": null,
       "border": null,
       "bottom": null,
       "display": null,
       "flex": null,
       "flex_flow": null,
       "grid_area": null,
       "grid_auto_columns": null,
       "grid_auto_flow": null,
       "grid_auto_rows": null,
       "grid_column": null,
       "grid_gap": null,
       "grid_row": null,
       "grid_template_areas": null,
       "grid_template_columns": null,
       "grid_template_rows": null,
       "height": null,
       "justify_content": null,
       "justify_items": null,
       "left": null,
       "margin": null,
       "max_height": null,
       "max_width": null,
       "min_height": null,
       "min_width": null,
       "object_fit": null,
       "object_position": null,
       "order": null,
       "overflow": null,
       "overflow_x": null,
       "overflow_y": null,
       "padding": null,
       "right": null,
       "top": null,
       "visibility": null,
       "width": null
      }
     },
     "81b0deed48dd4796a6ebd93eb3a7d232": {
      "model_module": "@jupyter-widgets/controls",
      "model_module_version": "1.5.0",
      "model_name": "DescriptionStyleModel",
      "state": {
       "_model_module": "@jupyter-widgets/controls",
       "_model_module_version": "1.5.0",
       "_model_name": "DescriptionStyleModel",
       "_view_count": null,
       "_view_module": "@jupyter-widgets/base",
       "_view_module_version": "1.2.0",
       "_view_name": "StyleView",
       "description_width": ""
      }
     },
     "824e0e23552f4bf581c28626b4685751": {
      "model_module": "@jupyter-widgets/controls",
      "model_module_version": "1.5.0",
      "model_name": "HBoxModel",
      "state": {
       "_dom_classes": [],
       "_model_module": "@jupyter-widgets/controls",
       "_model_module_version": "1.5.0",
       "_model_name": "HBoxModel",
       "_view_count": null,
       "_view_module": "@jupyter-widgets/controls",
       "_view_module_version": "1.5.0",
       "_view_name": "HBoxView",
       "box_style": "",
       "children": [
        "IPY_MODEL_00e017f8044b4f9cb76b5aa3f8dc721c",
        "IPY_MODEL_832055abd8924b43bc9c33ebcb9d8c66",
        "IPY_MODEL_57bade5ebc3d4a96b88f038c87d62ba4"
       ],
       "layout": "IPY_MODEL_cb1779a483f543138d9a41d310859a15"
      }
     },
     "832055abd8924b43bc9c33ebcb9d8c66": {
      "model_module": "@jupyter-widgets/controls",
      "model_module_version": "1.5.0",
      "model_name": "FloatProgressModel",
      "state": {
       "_dom_classes": [],
       "_model_module": "@jupyter-widgets/controls",
       "_model_module_version": "1.5.0",
       "_model_name": "FloatProgressModel",
       "_view_count": null,
       "_view_module": "@jupyter-widgets/controls",
       "_view_module_version": "1.5.0",
       "_view_name": "ProgressView",
       "bar_style": "success",
       "description": "",
       "description_tooltip": null,
       "layout": "IPY_MODEL_bf87b3bb1777417084fc22c0ffd53757",
       "max": 791656.0,
       "min": 0.0,
       "orientation": "horizontal",
       "style": "IPY_MODEL_c11fe1fb7fcd463aa928292f15946ed7",
       "value": 791656.0
      }
     },
     "86eba1ed09004a758194e6292d045f49": {
      "model_module": "@jupyter-widgets/controls",
      "model_module_version": "1.5.0",
      "model_name": "DescriptionStyleModel",
      "state": {
       "_model_module": "@jupyter-widgets/controls",
       "_model_module_version": "1.5.0",
       "_model_name": "DescriptionStyleModel",
       "_view_count": null,
       "_view_module": "@jupyter-widgets/base",
       "_view_module_version": "1.2.0",
       "_view_name": "StyleView",
       "description_width": ""
      }
     },
     "8acb1fe953e94888855a810679424f59": {
      "model_module": "@jupyter-widgets/controls",
      "model_module_version": "1.5.0",
      "model_name": "HTMLModel",
      "state": {
       "_dom_classes": [],
       "_model_module": "@jupyter-widgets/controls",
       "_model_module_version": "1.5.0",
       "_model_name": "HTMLModel",
       "_view_count": null,
       "_view_module": "@jupyter-widgets/controls",
       "_view_module_version": "1.5.0",
       "_view_name": "HTMLView",
       "description": "",
       "description_tooltip": null,
       "layout": "IPY_MODEL_1ad91a8412404fa0bf3d80f7dc2b2a23",
       "placeholder": "​",
       "style": "IPY_MODEL_f766738460d94adfbb111272891a450d",
       "value": " 502/502 [00:00&lt;00:00, 31.8kB/s]"
      }
     },
     "8c7cad90ed96413a8c0aad83bfc2ca34": {
      "model_module": "@jupyter-widgets/base",
      "model_module_version": "1.2.0",
      "model_name": "LayoutModel",
      "state": {
       "_model_module": "@jupyter-widgets/base",
       "_model_module_version": "1.2.0",
       "_model_name": "LayoutModel",
       "_view_count": null,
       "_view_module": "@jupyter-widgets/base",
       "_view_module_version": "1.2.0",
       "_view_name": "LayoutView",
       "align_content": null,
       "align_items": null,
       "align_self": null,
       "border": null,
       "bottom": null,
       "display": null,
       "flex": null,
       "flex_flow": null,
       "grid_area": null,
       "grid_auto_columns": null,
       "grid_auto_flow": null,
       "grid_auto_rows": null,
       "grid_column": null,
       "grid_gap": null,
       "grid_row": null,
       "grid_template_areas": null,
       "grid_template_columns": null,
       "grid_template_rows": null,
       "height": null,
       "justify_content": null,
       "justify_items": null,
       "left": null,
       "margin": null,
       "max_height": null,
       "max_width": null,
       "min_height": null,
       "min_width": null,
       "object_fit": null,
       "object_position": null,
       "order": null,
       "overflow": null,
       "overflow_x": null,
       "overflow_y": null,
       "padding": null,
       "right": null,
       "top": null,
       "visibility": null,
       "width": null
      }
     },
     "8f1551afae86488ca3f9afc50d9c1ca7": {
      "model_module": "@jupyter-widgets/controls",
      "model_module_version": "1.5.0",
      "model_name": "ProgressStyleModel",
      "state": {
       "_model_module": "@jupyter-widgets/controls",
       "_model_module_version": "1.5.0",
       "_model_name": "ProgressStyleModel",
       "_view_count": null,
       "_view_module": "@jupyter-widgets/base",
       "_view_module_version": "1.2.0",
       "_view_name": "StyleView",
       "bar_color": null,
       "description_width": ""
      }
     },
     "909f6794c6a04fb8bbea6e26016e9421": {
      "model_module": "@jupyter-widgets/base",
      "model_module_version": "1.2.0",
      "model_name": "LayoutModel",
      "state": {
       "_model_module": "@jupyter-widgets/base",
       "_model_module_version": "1.2.0",
       "_model_name": "LayoutModel",
       "_view_count": null,
       "_view_module": "@jupyter-widgets/base",
       "_view_module_version": "1.2.0",
       "_view_name": "LayoutView",
       "align_content": null,
       "align_items": null,
       "align_self": null,
       "border": null,
       "bottom": null,
       "display": null,
       "flex": null,
       "flex_flow": null,
       "grid_area": null,
       "grid_auto_columns": null,
       "grid_auto_flow": null,
       "grid_auto_rows": null,
       "grid_column": null,
       "grid_gap": null,
       "grid_row": null,
       "grid_template_areas": null,
       "grid_template_columns": null,
       "grid_template_rows": null,
       "height": null,
       "justify_content": null,
       "justify_items": null,
       "left": null,
       "margin": null,
       "max_height": null,
       "max_width": null,
       "min_height": null,
       "min_width": null,
       "object_fit": null,
       "object_position": null,
       "order": null,
       "overflow": null,
       "overflow_x": null,
       "overflow_y": null,
       "padding": null,
       "right": null,
       "top": null,
       "visibility": null,
       "width": null
      }
     },
     "9edfc7776e5f4c0b95d6e584a65e78ff": {
      "model_module": "@jupyter-widgets/controls",
      "model_module_version": "1.5.0",
      "model_name": "DescriptionStyleModel",
      "state": {
       "_model_module": "@jupyter-widgets/controls",
       "_model_module_version": "1.5.0",
       "_model_name": "DescriptionStyleModel",
       "_view_count": null,
       "_view_module": "@jupyter-widgets/base",
       "_view_module_version": "1.2.0",
       "_view_name": "StyleView",
       "description_width": ""
      }
     },
     "a10ddb06f06a45e2b228b4297d2f47a7": {
      "model_module": "@jupyter-widgets/base",
      "model_module_version": "1.2.0",
      "model_name": "LayoutModel",
      "state": {
       "_model_module": "@jupyter-widgets/base",
       "_model_module_version": "1.2.0",
       "_model_name": "LayoutModel",
       "_view_count": null,
       "_view_module": "@jupyter-widgets/base",
       "_view_module_version": "1.2.0",
       "_view_name": "LayoutView",
       "align_content": null,
       "align_items": null,
       "align_self": null,
       "border": null,
       "bottom": null,
       "display": null,
       "flex": null,
       "flex_flow": null,
       "grid_area": null,
       "grid_auto_columns": null,
       "grid_auto_flow": null,
       "grid_auto_rows": null,
       "grid_column": null,
       "grid_gap": null,
       "grid_row": null,
       "grid_template_areas": null,
       "grid_template_columns": null,
       "grid_template_rows": null,
       "height": null,
       "justify_content": null,
       "justify_items": null,
       "left": null,
       "margin": null,
       "max_height": null,
       "max_width": null,
       "min_height": null,
       "min_width": null,
       "object_fit": null,
       "object_position": null,
       "order": null,
       "overflow": null,
       "overflow_x": null,
       "overflow_y": null,
       "padding": null,
       "right": null,
       "top": null,
       "visibility": null,
       "width": null
      }
     },
     "af3b81e4969a4f3db3df04f77a6d49ed": {
      "model_module": "@jupyter-widgets/controls",
      "model_module_version": "1.5.0",
      "model_name": "HTMLModel",
      "state": {
       "_dom_classes": [],
       "_model_module": "@jupyter-widgets/controls",
       "_model_module_version": "1.5.0",
       "_model_name": "HTMLModel",
       "_view_count": null,
       "_view_module": "@jupyter-widgets/controls",
       "_view_module_version": "1.5.0",
       "_view_name": "HTMLView",
       "description": "",
       "description_tooltip": null,
       "layout": "IPY_MODEL_0dac10e3d7cf40249ac7d6e9f906ff3d",
       "placeholder": "​",
       "style": "IPY_MODEL_81b0deed48dd4796a6ebd93eb3a7d232",
       "value": " 346M/346M [00:06&lt;00:00, 57.2MB/s]"
      }
     },
     "b50d622be2444e32a4bbef905f9d52f0": {
      "model_module": "@jupyter-widgets/base",
      "model_module_version": "1.2.0",
      "model_name": "LayoutModel",
      "state": {
       "_model_module": "@jupyter-widgets/base",
       "_model_module_version": "1.2.0",
       "_model_name": "LayoutModel",
       "_view_count": null,
       "_view_module": "@jupyter-widgets/base",
       "_view_module_version": "1.2.0",
       "_view_name": "LayoutView",
       "align_content": null,
       "align_items": null,
       "align_self": null,
       "border": null,
       "bottom": null,
       "display": null,
       "flex": null,
       "flex_flow": null,
       "grid_area": null,
       "grid_auto_columns": null,
       "grid_auto_flow": null,
       "grid_auto_rows": null,
       "grid_column": null,
       "grid_gap": null,
       "grid_row": null,
       "grid_template_areas": null,
       "grid_template_columns": null,
       "grid_template_rows": null,
       "height": null,
       "justify_content": null,
       "justify_items": null,
       "left": null,
       "margin": null,
       "max_height": null,
       "max_width": null,
       "min_height": null,
       "min_width": null,
       "object_fit": null,
       "object_position": null,
       "order": null,
       "overflow": null,
       "overflow_x": null,
       "overflow_y": null,
       "padding": null,
       "right": null,
       "top": null,
       "visibility": null,
       "width": null
      }
     },
     "b9b0b6417a2b48ad8319dcc512d469f7": {
      "model_module": "@jupyter-widgets/controls",
      "model_module_version": "1.5.0",
      "model_name": "HBoxModel",
      "state": {
       "_dom_classes": [],
       "_model_module": "@jupyter-widgets/controls",
       "_model_module_version": "1.5.0",
       "_model_name": "HBoxModel",
       "_view_count": null,
       "_view_module": "@jupyter-widgets/controls",
       "_view_module_version": "1.5.0",
       "_view_name": "HBoxView",
       "box_style": "",
       "children": [
        "IPY_MODEL_140173cec8a840378ade5788493fa7da",
        "IPY_MODEL_e1e5c7ece4894a1e918efa515f8cab26",
        "IPY_MODEL_f7bdf51cb91f474b944d66364888e705"
       ],
       "layout": "IPY_MODEL_bd3c0f9e600e4428968d2e717e5395b5"
      }
     },
     "ba5b089e21ec4d6da4c11187c2e66d99": {
      "model_module": "@jupyter-widgets/controls",
      "model_module_version": "1.5.0",
      "model_name": "HBoxModel",
      "state": {
       "_dom_classes": [],
       "_model_module": "@jupyter-widgets/controls",
       "_model_module_version": "1.5.0",
       "_model_name": "HBoxModel",
       "_view_count": null,
       "_view_module": "@jupyter-widgets/controls",
       "_view_module_version": "1.5.0",
       "_view_name": "HBoxView",
       "box_style": "",
       "children": [
        "IPY_MODEL_0966c3850f624470bd87e36e68d9e3e7",
        "IPY_MODEL_16af331e5aab43aaa61d9644763379da",
        "IPY_MODEL_8acb1fe953e94888855a810679424f59"
       ],
       "layout": "IPY_MODEL_f0a5ae419ac54e01b88590020b1a4c59"
      }
     },
     "bd3c0f9e600e4428968d2e717e5395b5": {
      "model_module": "@jupyter-widgets/base",
      "model_module_version": "1.2.0",
      "model_name": "LayoutModel",
      "state": {
       "_model_module": "@jupyter-widgets/base",
       "_model_module_version": "1.2.0",
       "_model_name": "LayoutModel",
       "_view_count": null,
       "_view_module": "@jupyter-widgets/base",
       "_view_module_version": "1.2.0",
       "_view_name": "LayoutView",
       "align_content": null,
       "align_items": null,
       "align_self": null,
       "border": null,
       "bottom": null,
       "display": null,
       "flex": null,
       "flex_flow": null,
       "grid_area": null,
       "grid_auto_columns": null,
       "grid_auto_flow": null,
       "grid_auto_rows": null,
       "grid_column": null,
       "grid_gap": null,
       "grid_row": null,
       "grid_template_areas": null,
       "grid_template_columns": null,
       "grid_template_rows": null,
       "height": null,
       "justify_content": null,
       "justify_items": null,
       "left": null,
       "margin": null,
       "max_height": null,
       "max_width": null,
       "min_height": null,
       "min_width": null,
       "object_fit": null,
       "object_position": null,
       "order": null,
       "overflow": null,
       "overflow_x": null,
       "overflow_y": null,
       "padding": null,
       "right": null,
       "top": null,
       "visibility": null,
       "width": null
      }
     },
     "bf87b3bb1777417084fc22c0ffd53757": {
      "model_module": "@jupyter-widgets/base",
      "model_module_version": "1.2.0",
      "model_name": "LayoutModel",
      "state": {
       "_model_module": "@jupyter-widgets/base",
       "_model_module_version": "1.2.0",
       "_model_name": "LayoutModel",
       "_view_count": null,
       "_view_module": "@jupyter-widgets/base",
       "_view_module_version": "1.2.0",
       "_view_name": "LayoutView",
       "align_content": null,
       "align_items": null,
       "align_self": null,
       "border": null,
       "bottom": null,
       "display": null,
       "flex": null,
       "flex_flow": null,
       "grid_area": null,
       "grid_auto_columns": null,
       "grid_auto_flow": null,
       "grid_auto_rows": null,
       "grid_column": null,
       "grid_gap": null,
       "grid_row": null,
       "grid_template_areas": null,
       "grid_template_columns": null,
       "grid_template_rows": null,
       "height": null,
       "justify_content": null,
       "justify_items": null,
       "left": null,
       "margin": null,
       "max_height": null,
       "max_width": null,
       "min_height": null,
       "min_width": null,
       "object_fit": null,
       "object_position": null,
       "order": null,
       "overflow": null,
       "overflow_x": null,
       "overflow_y": null,
       "padding": null,
       "right": null,
       "top": null,
       "visibility": null,
       "width": null
      }
     },
     "c056d9e4b0654e54ac25ef3951fa7289": {
      "model_module": "@jupyter-widgets/controls",
      "model_module_version": "1.5.0",
      "model_name": "FloatProgressModel",
      "state": {
       "_dom_classes": [],
       "_model_module": "@jupyter-widgets/controls",
       "_model_module_version": "1.5.0",
       "_model_name": "FloatProgressModel",
       "_view_count": null,
       "_view_module": "@jupyter-widgets/controls",
       "_view_module_version": "1.5.0",
       "_view_name": "ProgressView",
       "bar_style": "success",
       "description": "",
       "description_tooltip": null,
       "layout": "IPY_MODEL_b50d622be2444e32a4bbef905f9d52f0",
       "max": 345636463.0,
       "min": 0.0,
       "orientation": "horizontal",
       "style": "IPY_MODEL_c43b3a6b4733422299de30b821de8854",
       "value": 345636463.0
      }
     },
     "c11fe1fb7fcd463aa928292f15946ed7": {
      "model_module": "@jupyter-widgets/controls",
      "model_module_version": "1.5.0",
      "model_name": "ProgressStyleModel",
      "state": {
       "_model_module": "@jupyter-widgets/controls",
       "_model_module_version": "1.5.0",
       "_model_name": "ProgressStyleModel",
       "_view_count": null,
       "_view_module": "@jupyter-widgets/base",
       "_view_module_version": "1.2.0",
       "_view_name": "StyleView",
       "bar_color": null,
       "description_width": ""
      }
     },
     "c12dc8621a38433d903cf283e9ca9989": {
      "model_module": "@jupyter-widgets/controls",
      "model_module_version": "1.5.0",
      "model_name": "DescriptionStyleModel",
      "state": {
       "_model_module": "@jupyter-widgets/controls",
       "_model_module_version": "1.5.0",
       "_model_name": "DescriptionStyleModel",
       "_view_count": null,
       "_view_module": "@jupyter-widgets/base",
       "_view_module_version": "1.2.0",
       "_view_name": "StyleView",
       "description_width": ""
      }
     },
     "c18e42a81d3b4f28a0a22b1c405eb787": {
      "model_module": "@jupyter-widgets/base",
      "model_module_version": "1.2.0",
      "model_name": "LayoutModel",
      "state": {
       "_model_module": "@jupyter-widgets/base",
       "_model_module_version": "1.2.0",
       "_model_name": "LayoutModel",
       "_view_count": null,
       "_view_module": "@jupyter-widgets/base",
       "_view_module_version": "1.2.0",
       "_view_name": "LayoutView",
       "align_content": null,
       "align_items": null,
       "align_self": null,
       "border": null,
       "bottom": null,
       "display": null,
       "flex": null,
       "flex_flow": null,
       "grid_area": null,
       "grid_auto_columns": null,
       "grid_auto_flow": null,
       "grid_auto_rows": null,
       "grid_column": null,
       "grid_gap": null,
       "grid_row": null,
       "grid_template_areas": null,
       "grid_template_columns": null,
       "grid_template_rows": null,
       "height": null,
       "justify_content": null,
       "justify_items": null,
       "left": null,
       "margin": null,
       "max_height": null,
       "max_width": null,
       "min_height": null,
       "min_width": null,
       "object_fit": null,
       "object_position": null,
       "order": null,
       "overflow": null,
       "overflow_x": null,
       "overflow_y": null,
       "padding": null,
       "right": null,
       "top": null,
       "visibility": null,
       "width": null
      }
     },
     "c2e62bccc392492c808fa865bfc351f4": {
      "model_module": "@jupyter-widgets/base",
      "model_module_version": "1.2.0",
      "model_name": "LayoutModel",
      "state": {
       "_model_module": "@jupyter-widgets/base",
       "_model_module_version": "1.2.0",
       "_model_name": "LayoutModel",
       "_view_count": null,
       "_view_module": "@jupyter-widgets/base",
       "_view_module_version": "1.2.0",
       "_view_name": "LayoutView",
       "align_content": null,
       "align_items": null,
       "align_self": null,
       "border": null,
       "bottom": null,
       "display": null,
       "flex": null,
       "flex_flow": null,
       "grid_area": null,
       "grid_auto_columns": null,
       "grid_auto_flow": null,
       "grid_auto_rows": null,
       "grid_column": null,
       "grid_gap": null,
       "grid_row": null,
       "grid_template_areas": null,
       "grid_template_columns": null,
       "grid_template_rows": null,
       "height": null,
       "justify_content": null,
       "justify_items": null,
       "left": null,
       "margin": null,
       "max_height": null,
       "max_width": null,
       "min_height": null,
       "min_width": null,
       "object_fit": null,
       "object_position": null,
       "order": null,
       "overflow": null,
       "overflow_x": null,
       "overflow_y": null,
       "padding": null,
       "right": null,
       "top": null,
       "visibility": null,
       "width": null
      }
     },
     "c43b3a6b4733422299de30b821de8854": {
      "model_module": "@jupyter-widgets/controls",
      "model_module_version": "1.5.0",
      "model_name": "ProgressStyleModel",
      "state": {
       "_model_module": "@jupyter-widgets/controls",
       "_model_module_version": "1.5.0",
       "_model_name": "ProgressStyleModel",
       "_view_count": null,
       "_view_module": "@jupyter-widgets/base",
       "_view_module_version": "1.2.0",
       "_view_name": "StyleView",
       "bar_color": null,
       "description_width": ""
      }
     },
     "c5d55bfa03964cc18c8370616149e7db": {
      "model_module": "@jupyter-widgets/controls",
      "model_module_version": "1.5.0",
      "model_name": "HBoxModel",
      "state": {
       "_dom_classes": [],
       "_model_module": "@jupyter-widgets/controls",
       "_model_module_version": "1.5.0",
       "_model_name": "HBoxModel",
       "_view_count": null,
       "_view_module": "@jupyter-widgets/controls",
       "_view_module_version": "1.5.0",
       "_view_name": "HBoxView",
       "box_style": "",
       "children": [
        "IPY_MODEL_d6bd286230294b7da47bd097083a64e1",
        "IPY_MODEL_c056d9e4b0654e54ac25ef3951fa7289",
        "IPY_MODEL_af3b81e4969a4f3db3df04f77a6d49ed"
       ],
       "layout": "IPY_MODEL_909f6794c6a04fb8bbea6e26016e9421"
      }
     },
     "c8409ecfa19846e497f5aca85d670006": {
      "model_module": "@jupyter-widgets/base",
      "model_module_version": "1.2.0",
      "model_name": "LayoutModel",
      "state": {
       "_model_module": "@jupyter-widgets/base",
       "_model_module_version": "1.2.0",
       "_model_name": "LayoutModel",
       "_view_count": null,
       "_view_module": "@jupyter-widgets/base",
       "_view_module_version": "1.2.0",
       "_view_name": "LayoutView",
       "align_content": null,
       "align_items": null,
       "align_self": null,
       "border": null,
       "bottom": null,
       "display": null,
       "flex": null,
       "flex_flow": null,
       "grid_area": null,
       "grid_auto_columns": null,
       "grid_auto_flow": null,
       "grid_auto_rows": null,
       "grid_column": null,
       "grid_gap": null,
       "grid_row": null,
       "grid_template_areas": null,
       "grid_template_columns": null,
       "grid_template_rows": null,
       "height": null,
       "justify_content": null,
       "justify_items": null,
       "left": null,
       "margin": null,
       "max_height": null,
       "max_width": null,
       "min_height": null,
       "min_width": null,
       "object_fit": null,
       "object_position": null,
       "order": null,
       "overflow": null,
       "overflow_x": null,
       "overflow_y": null,
       "padding": null,
       "right": null,
       "top": null,
       "visibility": null,
       "width": null
      }
     },
     "cb1779a483f543138d9a41d310859a15": {
      "model_module": "@jupyter-widgets/base",
      "model_module_version": "1.2.0",
      "model_name": "LayoutModel",
      "state": {
       "_model_module": "@jupyter-widgets/base",
       "_model_module_version": "1.2.0",
       "_model_name": "LayoutModel",
       "_view_count": null,
       "_view_module": "@jupyter-widgets/base",
       "_view_module_version": "1.2.0",
       "_view_name": "LayoutView",
       "align_content": null,
       "align_items": null,
       "align_self": null,
       "border": null,
       "bottom": null,
       "display": null,
       "flex": null,
       "flex_flow": null,
       "grid_area": null,
       "grid_auto_columns": null,
       "grid_auto_flow": null,
       "grid_auto_rows": null,
       "grid_column": null,
       "grid_gap": null,
       "grid_row": null,
       "grid_template_areas": null,
       "grid_template_columns": null,
       "grid_template_rows": null,
       "height": null,
       "justify_content": null,
       "justify_items": null,
       "left": null,
       "margin": null,
       "max_height": null,
       "max_width": null,
       "min_height": null,
       "min_width": null,
       "object_fit": null,
       "object_position": null,
       "order": null,
       "overflow": null,
       "overflow_x": null,
       "overflow_y": null,
       "padding": null,
       "right": null,
       "top": null,
       "visibility": null,
       "width": null
      }
     },
     "d4631298d9b3458e9a7d01ce30653d72": {
      "model_module": "@jupyter-widgets/controls",
      "model_module_version": "1.5.0",
      "model_name": "DescriptionStyleModel",
      "state": {
       "_model_module": "@jupyter-widgets/controls",
       "_model_module_version": "1.5.0",
       "_model_name": "DescriptionStyleModel",
       "_view_count": null,
       "_view_module": "@jupyter-widgets/base",
       "_view_module_version": "1.2.0",
       "_view_name": "StyleView",
       "description_width": ""
      }
     },
     "d6bd286230294b7da47bd097083a64e1": {
      "model_module": "@jupyter-widgets/controls",
      "model_module_version": "1.5.0",
      "model_name": "HTMLModel",
      "state": {
       "_dom_classes": [],
       "_model_module": "@jupyter-widgets/controls",
       "_model_module_version": "1.5.0",
       "_model_name": "HTMLModel",
       "_view_count": null,
       "_view_module": "@jupyter-widgets/controls",
       "_view_module_version": "1.5.0",
       "_view_name": "HTMLView",
       "description": "",
       "description_tooltip": null,
       "layout": "IPY_MODEL_4a47ce9a6d3e4903917e771003d928e2",
       "placeholder": "​",
       "style": "IPY_MODEL_671721bc8ef3475691a8ca8f922717ee",
       "value": "Downloading pytorch_model.bin: 100%"
      }
     },
     "df3b920ab6914a27abddb65c0a96732d": {
      "model_module": "@jupyter-widgets/base",
      "model_module_version": "1.2.0",
      "model_name": "LayoutModel",
      "state": {
       "_model_module": "@jupyter-widgets/base",
       "_model_module_version": "1.2.0",
       "_model_name": "LayoutModel",
       "_view_count": null,
       "_view_module": "@jupyter-widgets/base",
       "_view_module_version": "1.2.0",
       "_view_name": "LayoutView",
       "align_content": null,
       "align_items": null,
       "align_self": null,
       "border": null,
       "bottom": null,
       "display": null,
       "flex": null,
       "flex_flow": null,
       "grid_area": null,
       "grid_auto_columns": null,
       "grid_auto_flow": null,
       "grid_auto_rows": null,
       "grid_column": null,
       "grid_gap": null,
       "grid_row": null,
       "grid_template_areas": null,
       "grid_template_columns": null,
       "grid_template_rows": null,
       "height": null,
       "justify_content": null,
       "justify_items": null,
       "left": null,
       "margin": null,
       "max_height": null,
       "max_width": null,
       "min_height": null,
       "min_width": null,
       "object_fit": null,
       "object_position": null,
       "order": null,
       "overflow": null,
       "overflow_x": null,
       "overflow_y": null,
       "padding": null,
       "right": null,
       "top": null,
       "visibility": null,
       "width": null
      }
     },
     "e1e5c7ece4894a1e918efa515f8cab26": {
      "model_module": "@jupyter-widgets/controls",
      "model_module_version": "1.5.0",
      "model_name": "FloatProgressModel",
      "state": {
       "_dom_classes": [],
       "_model_module": "@jupyter-widgets/controls",
       "_model_module_version": "1.5.0",
       "_model_name": "FloatProgressModel",
       "_view_count": null,
       "_view_module": "@jupyter-widgets/controls",
       "_view_module_version": "1.5.0",
       "_view_name": "ProgressView",
       "bar_style": "success",
       "description": "",
       "description_tooltip": null,
       "layout": "IPY_MODEL_c18e42a81d3b4f28a0a22b1c405eb787",
       "max": 160.0,
       "min": 0.0,
       "orientation": "horizontal",
       "style": "IPY_MODEL_2a37b43aa1b2446d9cd86d5f35f04482",
       "value": 160.0
      }
     },
     "ed24b2ed62bd46c7b2428dec7864f7a7": {
      "model_module": "@jupyter-widgets/base",
      "model_module_version": "1.2.0",
      "model_name": "LayoutModel",
      "state": {
       "_model_module": "@jupyter-widgets/base",
       "_model_module_version": "1.2.0",
       "_model_name": "LayoutModel",
       "_view_count": null,
       "_view_module": "@jupyter-widgets/base",
       "_view_module_version": "1.2.0",
       "_view_name": "LayoutView",
       "align_content": null,
       "align_items": null,
       "align_self": null,
       "border": null,
       "bottom": null,
       "display": null,
       "flex": null,
       "flex_flow": null,
       "grid_area": null,
       "grid_auto_columns": null,
       "grid_auto_flow": null,
       "grid_auto_rows": null,
       "grid_column": null,
       "grid_gap": null,
       "grid_row": null,
       "grid_template_areas": null,
       "grid_template_columns": null,
       "grid_template_rows": null,
       "height": null,
       "justify_content": null,
       "justify_items": null,
       "left": null,
       "margin": null,
       "max_height": null,
       "max_width": null,
       "min_height": null,
       "min_width": null,
       "object_fit": null,
       "object_position": null,
       "order": null,
       "overflow": null,
       "overflow_x": null,
       "overflow_y": null,
       "padding": null,
       "right": null,
       "top": null,
       "visibility": null,
       "width": null
      }
     },
     "f0a5ae419ac54e01b88590020b1a4c59": {
      "model_module": "@jupyter-widgets/base",
      "model_module_version": "1.2.0",
      "model_name": "LayoutModel",
      "state": {
       "_model_module": "@jupyter-widgets/base",
       "_model_module_version": "1.2.0",
       "_model_name": "LayoutModel",
       "_view_count": null,
       "_view_module": "@jupyter-widgets/base",
       "_view_module_version": "1.2.0",
       "_view_name": "LayoutView",
       "align_content": null,
       "align_items": null,
       "align_self": null,
       "border": null,
       "bottom": null,
       "display": null,
       "flex": null,
       "flex_flow": null,
       "grid_area": null,
       "grid_auto_columns": null,
       "grid_auto_flow": null,
       "grid_auto_rows": null,
       "grid_column": null,
       "grid_gap": null,
       "grid_row": null,
       "grid_template_areas": null,
       "grid_template_columns": null,
       "grid_template_rows": null,
       "height": null,
       "justify_content": null,
       "justify_items": null,
       "left": null,
       "margin": null,
       "max_height": null,
       "max_width": null,
       "min_height": null,
       "min_width": null,
       "object_fit": null,
       "object_position": null,
       "order": null,
       "overflow": null,
       "overflow_x": null,
       "overflow_y": null,
       "padding": null,
       "right": null,
       "top": null,
       "visibility": null,
       "width": null
      }
     },
     "f766738460d94adfbb111272891a450d": {
      "model_module": "@jupyter-widgets/controls",
      "model_module_version": "1.5.0",
      "model_name": "DescriptionStyleModel",
      "state": {
       "_model_module": "@jupyter-widgets/controls",
       "_model_module_version": "1.5.0",
       "_model_name": "DescriptionStyleModel",
       "_view_count": null,
       "_view_module": "@jupyter-widgets/base",
       "_view_module_version": "1.2.0",
       "_view_name": "StyleView",
       "description_width": ""
      }
     },
     "f7bdf51cb91f474b944d66364888e705": {
      "model_module": "@jupyter-widgets/controls",
      "model_module_version": "1.5.0",
      "model_name": "HTMLModel",
      "state": {
       "_dom_classes": [],
       "_model_module": "@jupyter-widgets/controls",
       "_model_module_version": "1.5.0",
       "_model_name": "HTMLModel",
       "_view_count": null,
       "_view_module": "@jupyter-widgets/controls",
       "_view_module_version": "1.5.0",
       "_view_name": "HTMLView",
       "description": "",
       "description_tooltip": null,
       "layout": "IPY_MODEL_c8409ecfa19846e497f5aca85d670006",
       "placeholder": "​",
       "style": "IPY_MODEL_86eba1ed09004a758194e6292d045f49",
       "value": " 160/160 [00:00&lt;00:00, 7.10kB/s]"
      }
     },
     "faa1911b2ccf4be3812469864d410c3e": {
      "model_module": "@jupyter-widgets/base",
      "model_module_version": "1.2.0",
      "model_name": "LayoutModel",
      "state": {
       "_model_module": "@jupyter-widgets/base",
       "_model_module_version": "1.2.0",
       "_model_name": "LayoutModel",
       "_view_count": null,
       "_view_module": "@jupyter-widgets/base",
       "_view_module_version": "1.2.0",
       "_view_name": "LayoutView",
       "align_content": null,
       "align_items": null,
       "align_self": null,
       "border": null,
       "bottom": null,
       "display": null,
       "flex": null,
       "flex_flow": null,
       "grid_area": null,
       "grid_auto_columns": null,
       "grid_auto_flow": null,
       "grid_auto_rows": null,
       "grid_column": null,
       "grid_gap": null,
       "grid_row": null,
       "grid_template_areas": null,
       "grid_template_columns": null,
       "grid_template_rows": null,
       "height": null,
       "justify_content": null,
       "justify_items": null,
       "left": null,
       "margin": null,
       "max_height": null,
       "max_width": null,
       "min_height": null,
       "min_width": null,
       "object_fit": null,
       "object_position": null,
       "order": null,
       "overflow": null,
       "overflow_x": null,
       "overflow_y": null,
       "padding": null,
       "right": null,
       "top": null,
       "visibility": null,
       "width": null
      }
     },
     "fd8eeac5b6b14b789ebd2527b5340c85": {
      "model_module": "@jupyter-widgets/controls",
      "model_module_version": "1.5.0",
      "model_name": "ProgressStyleModel",
      "state": {
       "_model_module": "@jupyter-widgets/controls",
       "_model_module_version": "1.5.0",
       "_model_name": "ProgressStyleModel",
       "_view_count": null,
       "_view_module": "@jupyter-widgets/base",
       "_view_module_version": "1.2.0",
       "_view_name": "StyleView",
       "bar_color": null,
       "description_width": ""
      }
     }
    },
    "version_major": 2,
    "version_minor": 0
   }
  }
 },
 "nbformat": 4,
 "nbformat_minor": 5
}
